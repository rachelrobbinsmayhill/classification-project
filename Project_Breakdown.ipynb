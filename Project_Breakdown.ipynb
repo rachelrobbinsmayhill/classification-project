{
 "cells": [
  {
   "cell_type": "markdown",
   "id": "c550b9da-c969-45a5-a776-9136e70418f2",
   "metadata": {},
   "source": [
    "# Project Breakdown"
   ]
  },
  {
   "cell_type": "markdown",
   "id": "64b84762-3fbe-4415-a9eb-c8b8e1e1d193",
   "metadata": {},
   "source": [
    "1+ non-final Notebooks (.ipynb) created while working on the project, containing exploration & modeling work (and other work)"
   ]
  },
  {
   "cell_type": "markdown",
   "id": "2114b2bc-cd2c-483e-918d-f675109bf7a2",
   "metadata": {},
   "source": [
    "# 1. Plan"
   ]
  },
  {
   "cell_type": "markdown",
   "id": "8c1e6eaf-a646-449d-af81-d41f10d32b7d",
   "metadata": {},
   "source": [
    "### - 15 Points"
   ]
  },
  {
   "cell_type": "markdown",
   "id": "3105beec-63f0-4a35-a068-d458709bcdc8",
   "metadata": {},
   "source": [
    "![<Plan>](Project/Plan.png)"
   ]
  },
  {
   "cell_type": "markdown",
   "id": "b54ae7c3-6800-4e0a-82a0-e211d842975b",
   "metadata": {},
   "source": [
    "![<Plan>](Project/Plan2.png)"
   ]
  },
  {
   "cell_type": "markdown",
   "id": "116ebd16-039b-4e34-adc3-1a473d02713a",
   "metadata": {},
   "source": [
    "![<Plan>](Project/Plan3.png)"
   ]
  },
  {
   "cell_type": "markdown",
   "id": "d55da3eb-5c6a-4e68-929e-fcd8111d8e98",
   "metadata": {},
   "source": [
    "# 2. Acquire"
   ]
  },
  {
   "cell_type": "code",
   "execution_count": null,
   "id": "030fe82f-cadd-46bf-8998-9ecf8f281e48",
   "metadata": {},
   "outputs": [],
   "source": []
  },
  {
   "cell_type": "markdown",
   "id": "01c71035-e88c-4937-b4a9-7079032dcbb4",
   "metadata": {},
   "source": [
    "# 3. Prepare/Wrangle"
   ]
  },
  {
   "cell_type": "markdown",
   "id": "1d5113f6-d5c2-46b0-8f89-cbcab0493641",
   "metadata": {},
   "source": [
    "### - 12 Points"
   ]
  },
  {
   "cell_type": "markdown",
   "id": "1265f40c-8fae-44a2-917f-6a82f8776aca",
   "metadata": {},
   "source": [
    "![<Wrangle>](Project/Wrangle.png) "
   ]
  },
  {
   "cell_type": "markdown",
   "id": "c4594c05-4b53-472f-b66a-8ca5023e9748",
   "metadata": {},
   "source": [
    "![<Wrangle>](Project/Wrangle2.png) "
   ]
  },
  {
   "cell_type": "markdown",
   "id": "33759ebb-7b40-475e-b63f-5ec9e28e99e0",
   "metadata": {},
   "source": [
    "# 3. Explore"
   ]
  },
  {
   "cell_type": "markdown",
   "id": "63870adf-5154-4b99-ac9c-201100fb2d30",
   "metadata": {},
   "source": [
    "## - 24 Points"
   ]
  },
  {
   "cell_type": "markdown",
   "id": "662f2326-31f2-4643-b0f2-cb830cdbb67e",
   "metadata": {},
   "source": [
    "![<Explore>](Project/Explore.png) "
   ]
  },
  {
   "cell_type": "markdown",
   "id": "6fdeea81-4585-4ac0-a1e0-97c3666a4fe1",
   "metadata": {},
   "source": [
    "![<Explore>](Project/Explore2.png) "
   ]
  },
  {
   "cell_type": "markdown",
   "id": "3ac32834-bd8d-4ea9-83dc-b9dbe4a9fec4",
   "metadata": {},
   "source": [
    "# 4. Modeling"
   ]
  },
  {
   "cell_type": "markdown",
   "id": "0cc0fea4-0723-4cec-aad2-ec223cf673cb",
   "metadata": {},
   "source": [
    "## - 10 Points"
   ]
  },
  {
   "cell_type": "markdown",
   "id": "305166fe-93a2-4867-bfe6-167cd40c4de7",
   "metadata": {},
   "source": [
    "![<Model>](Project/Modeling_evaluate_baseline.png) "
   ]
  },
  {
   "cell_type": "markdown",
   "id": "5554c807-50b8-4e2e-9bf4-dde62480c864",
   "metadata": {},
   "source": [
    "![<Model>](Project/Modeling_evaluate_validate.png) "
   ]
  },
  {
   "cell_type": "markdown",
   "id": "c2c3f114-ab07-4bc0-80db-43b002192cd9",
   "metadata": {},
   "source": [
    "![<Model>](Project/Modeling_Evaluate_Test.png) "
   ]
  },
  {
   "cell_type": "markdown",
   "id": "02b5b431-337b-4197-b774-a992562bb523",
   "metadata": {},
   "source": [
    "# 5. Delivery - Presentation"
   ]
  },
  {
   "cell_type": "markdown",
   "id": "01070d43-4afd-45e0-a556-e939e26d8a13",
   "metadata": {},
   "source": [
    "## - 12 Points"
   ]
  },
  {
   "cell_type": "markdown",
   "id": "3e27da82-ffad-47e2-acb2-12152f2ebc45",
   "metadata": {},
   "source": [
    "![<Presentation>](Project/Present4.png) "
   ]
  },
  {
   "cell_type": "markdown",
   "id": "8472b3e8-5e64-4077-91b1-5a37483f477f",
   "metadata": {},
   "source": [
    "![<Presentation>](Project/Present2.png) "
   ]
  },
  {
   "cell_type": "markdown",
   "id": "a6600501-6de1-4dd4-a8ec-2b575d907a4f",
   "metadata": {},
   "source": [
    "![<Presentation>](Project/Present3.png) "
   ]
  },
  {
   "cell_type": "markdown",
   "id": "fe36ece6-e017-4915-9c7b-381dd7be39be",
   "metadata": {},
   "source": [
    "# Deliverable - .csv"
   ]
  },
  {
   "cell_type": "markdown",
   "id": "d4dca641-6ad0-4569-bc82-f388daca9035",
   "metadata": {},
   "source": [
    "## - 5 Points"
   ]
  },
  {
   "cell_type": "markdown",
   "id": "27c36968-73ec-4707-8f1b-b1755f59c4c2",
   "metadata": {},
   "source": [
    "![<Deliverable>](Project/Deliverable.png) "
   ]
  },
  {
   "cell_type": "markdown",
   "id": "97cc584c-23d2-4d07-8013-a13459ab5a55",
   "metadata": {},
   "source": [
    "# Deliverable - Report"
   ]
  },
  {
   "cell_type": "markdown",
   "id": "5dcd8023-1f02-4c8c-98f9-9c92efba72ae",
   "metadata": {},
   "source": [
    "## - 24 Points"
   ]
  },
  {
   "cell_type": "markdown",
   "id": "863ae0a5-0f32-40be-83a3-d847a9325123",
   "metadata": {},
   "source": [
    "![<Report>](Project/Report.png) "
   ]
  },
  {
   "cell_type": "markdown",
   "id": "4a497f90-0eba-411b-b72e-2f321f0a6105",
   "metadata": {},
   "source": [
    "![<Report>](Project/Report2.png) "
   ]
  },
  {
   "cell_type": "markdown",
   "id": "56c20f02-af55-44af-b602-25fcc12f8658",
   "metadata": {},
   "source": [
    "![<Report>](Project/Report3.png) "
   ]
  },
  {
   "cell_type": "markdown",
   "id": "567d621e-9aed-44ae-875f-eabce5c930c1",
   "metadata": {},
   "source": [
    "![<Report>](Project/Report4.png) "
   ]
  }
 ],
 "metadata": {
  "kernelspec": {
   "display_name": "Python 3 (ipykernel)",
   "language": "python",
   "name": "python3"
  },
  "language_info": {
   "codemirror_mode": {
    "name": "ipython",
    "version": 3
   },
   "file_extension": ".py",
   "mimetype": "text/x-python",
   "name": "python",
   "nbconvert_exporter": "python",
   "pygments_lexer": "ipython3",
   "version": "3.9.7"
  }
 },
 "nbformat": 4,
 "nbformat_minor": 5
}
