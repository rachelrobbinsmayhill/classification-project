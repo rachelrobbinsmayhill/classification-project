{
 "cells": [
  {
   "cell_type": "markdown",
   "id": "8d41d780-5733-49a6-97c3-59cfdfde1213",
   "metadata": {},
   "source": [
    "# Telco Churn Project - Working Notebook"
   ]
  },
  {
   "cell_type": "markdown",
   "id": "e341dfcd-9100-4aeb-9c2b-68bd17dc32a2",
   "metadata": {},
   "source": [
    "## I: PLAN\n",
    "\n",
    "The goal of this stage is to clearly define your goal(s), measures of success, and plans on how to achieve that."
   ]
  },
  {
   "cell_type": "markdown",
   "id": "569d1146-3373-4661-a11b-aa19de01ceed",
   "metadata": {},
   "source": [
    "#### 1.  GOAL:\n",
    "The goal of this project is to identify key drivers of churn for Telco, a telecommunications company, and make recommendations to reduce churn in order to increase customer retention, and ultimately increase revenue. Churn is another term for attrition and is represented by the percentage of customers who stop doing business with the company. Through machine learning and statistical analysis, predictions of future churn will be identified and recommendations for prevention will be made in order to improve customer retention.\n"
   ]
  },
  {
   "cell_type": "markdown",
   "id": "462478b4-5c1e-4024-899b-4336b55a63b7",
   "metadata": {
    "jp-MarkdownHeadingCollapsed": true,
    "tags": []
   },
   "source": [
    "#### 2. DESCRIPTION:\n",
    "\n",
    "With an ever-competitive telecommunications market, it is vital to understand your customer base in order to prevent customer churn and maximize retention.  It is far less expensive to keep an existing customer than it is to acquire a new one for the long term when marketing costs are included. Therefore, it is important to identify drivers of churn in an effort to prevent attrition. Thus, retaining current customers for the long term.  Ultimately, customer retention is important for maintaining and increasing profit.  This project will identify key drivers of churn for the Telco dataset and use modeling and statistics to identify ways to prevent churn in the future. Ultimately it will provide a recommendation that could be used by Telco or other customer-based service companies to maximize retention. \n"
   ]
  },
  {
   "cell_type": "markdown",
   "id": "56e091b0-6b02-451d-8f6c-2d0727313bd6",
   "metadata": {
    "tags": []
   },
   "source": [
    "#### 3. INITIAL QUESTIONS: \n",
    "The focus of the project is on decreasing customer churn and increasing retention, which can have a significant impact on revenue and entity reputation. Below are some of the initial questions this project looks to answer throughout the Data Science Pipeline. \n",
    "\n",
    "\n",
    "##### Data-Focused Questions\n",
    "- What types of customers do we have?\n",
    "- What services do we offer?\n",
    "- What customer base contributes the most to churn?\n",
    "- What service types contribute most to churn?\n",
    "- What is our total revenue?\n",
    "- What amount of revenue is impacted by the overall churn?\n",
    "- What amount of revenue is impacted by the customer base that churns the most?\n",
    "- What amount of revenue is impacted by the service type that churns the most?"
   ]
  },
  {
   "cell_type": "markdown",
   "id": "bd537972-a40c-4260-b174-ea63d9572a4a",
   "metadata": {},
   "source": [
    "##### Overall Project-Focused Questions\n",
    "\n",
    "- What will the end product look like?\n",
    "- What format will it be in?\n",
    "- Who will it be delivered to?\n",
    "- How will it be used?\n",
    "- How will I know I'm done?\n",
    "- What is my MVP?\n",
    "- How will I know it's good enough?\n"
   ]
  },
  {
   "cell_type": "markdown",
   "id": "99ae571d-3aaa-4dfe-b6d5-d763186c8211",
   "metadata": {
    "tags": []
   },
   "source": [
    "## II: ACQUIRE\n",
    "The goal is to create a path from original data sources to the environment in which you will work with the data. You will gather data from sources in order to prepare and clean it in the next step."
   ]
  },
  {
   "cell_type": "code",
   "execution_count": 1,
   "id": "025fb325-8220-49cb-ae2e-e4fcd5eb36b4",
   "metadata": {},
   "outputs": [],
   "source": [
    "import pandas as pd\n",
    "import numpy as np\n",
    "import acquire\n",
    "import prepare\n",
    "import matplotlib.pyplot as plt\n",
    "import seaborn as sns\n",
    "\n",
    "\n",
    "from sklearn.dummy import DummyClassifier\n",
    "from sklearn.model_selection import train_test_split\n",
    "\n",
    "from sklearn.tree import DecisionTreeClassifier, plot_tree\n",
    "from sklearn.metrics import classification_report\n",
    "from sklearn.metrics import confusion_matrix\n",
    "\n",
    "from sklearn.ensemble import RandomForestClassifier\n",
    "from sklearn.neighbors import KNeighborsClassifier\n",
    "from sklearn.linear_model import LogisticRegression"
   ]
  },
  {
   "cell_type": "code",
   "execution_count": 2,
   "id": "55e67eb3-beba-4d80-a8bc-a747a2ec67a2",
   "metadata": {},
   "outputs": [
    {
     "name": "stdout",
     "output_type": "stream",
     "text": [
      "Reading from csv file...\n"
     ]
    },
    {
     "data": {
      "text/html": [
       "<div>\n",
       "<style scoped>\n",
       "    .dataframe tbody tr th:only-of-type {\n",
       "        vertical-align: middle;\n",
       "    }\n",
       "\n",
       "    .dataframe tbody tr th {\n",
       "        vertical-align: top;\n",
       "    }\n",
       "\n",
       "    .dataframe thead th {\n",
       "        text-align: right;\n",
       "    }\n",
       "</style>\n",
       "<table border=\"1\" class=\"dataframe\">\n",
       "  <thead>\n",
       "    <tr style=\"text-align: right;\">\n",
       "      <th></th>\n",
       "      <th>payment_type_id</th>\n",
       "      <th>internet_service_type_id</th>\n",
       "      <th>contract_type_id</th>\n",
       "      <th>customer_id</th>\n",
       "      <th>gender</th>\n",
       "      <th>senior_citizen</th>\n",
       "      <th>partner</th>\n",
       "      <th>dependents</th>\n",
       "      <th>tenure</th>\n",
       "      <th>phone_service</th>\n",
       "      <th>...</th>\n",
       "      <th>tech_support</th>\n",
       "      <th>streaming_tv</th>\n",
       "      <th>streaming_movies</th>\n",
       "      <th>paperless_billing</th>\n",
       "      <th>monthly_charges</th>\n",
       "      <th>total_charges</th>\n",
       "      <th>churn</th>\n",
       "      <th>contract_type</th>\n",
       "      <th>internet_service_type</th>\n",
       "      <th>payment_type</th>\n",
       "    </tr>\n",
       "  </thead>\n",
       "  <tbody>\n",
       "    <tr>\n",
       "      <th>0</th>\n",
       "      <td>2</td>\n",
       "      <td>1</td>\n",
       "      <td>2</td>\n",
       "      <td>0002-ORFBO</td>\n",
       "      <td>Female</td>\n",
       "      <td>0</td>\n",
       "      <td>Yes</td>\n",
       "      <td>Yes</td>\n",
       "      <td>9</td>\n",
       "      <td>Yes</td>\n",
       "      <td>...</td>\n",
       "      <td>Yes</td>\n",
       "      <td>Yes</td>\n",
       "      <td>No</td>\n",
       "      <td>Yes</td>\n",
       "      <td>65.6</td>\n",
       "      <td>593.3</td>\n",
       "      <td>No</td>\n",
       "      <td>One year</td>\n",
       "      <td>DSL</td>\n",
       "      <td>Mailed check</td>\n",
       "    </tr>\n",
       "    <tr>\n",
       "      <th>1</th>\n",
       "      <td>2</td>\n",
       "      <td>1</td>\n",
       "      <td>1</td>\n",
       "      <td>0003-MKNFE</td>\n",
       "      <td>Male</td>\n",
       "      <td>0</td>\n",
       "      <td>No</td>\n",
       "      <td>No</td>\n",
       "      <td>9</td>\n",
       "      <td>Yes</td>\n",
       "      <td>...</td>\n",
       "      <td>No</td>\n",
       "      <td>No</td>\n",
       "      <td>Yes</td>\n",
       "      <td>No</td>\n",
       "      <td>59.9</td>\n",
       "      <td>542.4</td>\n",
       "      <td>No</td>\n",
       "      <td>Month-to-month</td>\n",
       "      <td>DSL</td>\n",
       "      <td>Mailed check</td>\n",
       "    </tr>\n",
       "    <tr>\n",
       "      <th>2</th>\n",
       "      <td>1</td>\n",
       "      <td>2</td>\n",
       "      <td>1</td>\n",
       "      <td>0004-TLHLJ</td>\n",
       "      <td>Male</td>\n",
       "      <td>0</td>\n",
       "      <td>No</td>\n",
       "      <td>No</td>\n",
       "      <td>4</td>\n",
       "      <td>Yes</td>\n",
       "      <td>...</td>\n",
       "      <td>No</td>\n",
       "      <td>No</td>\n",
       "      <td>No</td>\n",
       "      <td>Yes</td>\n",
       "      <td>73.9</td>\n",
       "      <td>280.85</td>\n",
       "      <td>Yes</td>\n",
       "      <td>Month-to-month</td>\n",
       "      <td>Fiber optic</td>\n",
       "      <td>Electronic check</td>\n",
       "    </tr>\n",
       "  </tbody>\n",
       "</table>\n",
       "<p>3 rows × 24 columns</p>\n",
       "</div>"
      ],
      "text/plain": [
       "   payment_type_id  internet_service_type_id  contract_type_id customer_id  \\\n",
       "0                2                         1                 2  0002-ORFBO   \n",
       "1                2                         1                 1  0003-MKNFE   \n",
       "2                1                         2                 1  0004-TLHLJ   \n",
       "\n",
       "   gender  senior_citizen partner dependents  tenure phone_service  ...  \\\n",
       "0  Female               0     Yes        Yes       9           Yes  ...   \n",
       "1    Male               0      No         No       9           Yes  ...   \n",
       "2    Male               0      No         No       4           Yes  ...   \n",
       "\n",
       "  tech_support streaming_tv streaming_movies paperless_billing  \\\n",
       "0          Yes          Yes               No               Yes   \n",
       "1           No           No              Yes                No   \n",
       "2           No           No               No               Yes   \n",
       "\n",
       "  monthly_charges total_charges churn   contract_type  internet_service_type  \\\n",
       "0            65.6         593.3    No        One year                    DSL   \n",
       "1            59.9         542.4    No  Month-to-month                    DSL   \n",
       "2            73.9        280.85   Yes  Month-to-month            Fiber optic   \n",
       "\n",
       "       payment_type  \n",
       "0      Mailed check  \n",
       "1      Mailed check  \n",
       "2  Electronic check  \n",
       "\n",
       "[3 rows x 24 columns]"
      ]
     },
     "execution_count": 2,
     "metadata": {},
     "output_type": "execute_result"
    }
   ],
   "source": [
    "# Use the acquire module to acquire the data into a dataframe \n",
    "# - accessing a cached version (.csv) for faster processing\n",
    "acquire_df = acquire.get_telco_data()\n",
    "acquire_df.head(3)"
   ]
  },
  {
   "cell_type": "markdown",
   "id": "c8ab5454-3c31-4a4c-978b-9d8ca1aad7b1",
   "metadata": {},
   "source": [
    "## III: PREPARE / WRANGLE\n",
    "\n",
    "The goal is to have data, split into 3 samples (train, validate, and test), in a format that can easily be explored, analyzed, and visualized. The data is split so that we have a sample we can use to test our final model, one that was not used in the exploration of the data or the development of the model. This helps us understand the generality of the model.\n",
    "\n",
    "\n",
    "In order to have data that is useful, the data needs to be examined in order to determine how to prepare it best for exploration. \n",
    "To do this, start by summarizing the data. While summarizing it, analyze and address ways to clean the data to make it tidy. After summarizing and cleaning the data, split the dataset into the train, validate, and test samples. "
   ]
  },
  {
   "cell_type": "markdown",
   "id": "530954d4-1b7f-4c2d-9de9-d47be8caa555",
   "metadata": {
    "tags": []
   },
   "source": [
    "#### 1. SUMMARIZE THE DATA\n",
    "- .shape\n",
    "- .head()\n",
    "- .info()\n",
    "- .describe()\n",
    "- .isnull()\n",
    "- .value_counts()\n",
    "-  view visualizations of numeric data."
   ]
  },
  {
   "cell_type": "code",
   "execution_count": 3,
   "id": "56f5f9d9-d2e3-441d-a6e0-2b1a86bd29a2",
   "metadata": {},
   "outputs": [],
   "source": [
    "# STEP 2: Prepare - Summarize the Data - .shape"
   ]
  },
  {
   "cell_type": "code",
   "execution_count": 4,
   "id": "226570ac-cd7d-4753-abb9-5913fae2131d",
   "metadata": {},
   "outputs": [
    {
     "data": {
      "text/plain": [
       "(7043, 24)"
      ]
     },
     "execution_count": 4,
     "metadata": {},
     "output_type": "execute_result"
    }
   ],
   "source": [
    "prepare_df = acquire_df\n",
    "prepare_df.shape"
   ]
  },
  {
   "cell_type": "code",
   "execution_count": 5,
   "id": "8040f72a-c947-4f38-9455-d379c5ead217",
   "metadata": {},
   "outputs": [
    {
     "name": "stdout",
     "output_type": "stream",
     "text": [
      "Reading from csv file...\n"
     ]
    },
    {
     "data": {
      "text/html": [
       "<div>\n",
       "<style scoped>\n",
       "    .dataframe tbody tr th:only-of-type {\n",
       "        vertical-align: middle;\n",
       "    }\n",
       "\n",
       "    .dataframe tbody tr th {\n",
       "        vertical-align: top;\n",
       "    }\n",
       "\n",
       "    .dataframe thead th {\n",
       "        text-align: right;\n",
       "    }\n",
       "</style>\n",
       "<table border=\"1\" class=\"dataframe\">\n",
       "  <thead>\n",
       "    <tr style=\"text-align: right;\">\n",
       "      <th></th>\n",
       "      <th>0</th>\n",
       "      <th>1</th>\n",
       "      <th>2</th>\n",
       "    </tr>\n",
       "  </thead>\n",
       "  <tbody>\n",
       "    <tr>\n",
       "      <th>payment_type_id</th>\n",
       "      <td>2</td>\n",
       "      <td>2</td>\n",
       "      <td>1</td>\n",
       "    </tr>\n",
       "    <tr>\n",
       "      <th>internet_service_type_id</th>\n",
       "      <td>1</td>\n",
       "      <td>1</td>\n",
       "      <td>2</td>\n",
       "    </tr>\n",
       "    <tr>\n",
       "      <th>contract_type_id</th>\n",
       "      <td>2</td>\n",
       "      <td>1</td>\n",
       "      <td>1</td>\n",
       "    </tr>\n",
       "    <tr>\n",
       "      <th>customer_id</th>\n",
       "      <td>0002-ORFBO</td>\n",
       "      <td>0003-MKNFE</td>\n",
       "      <td>0004-TLHLJ</td>\n",
       "    </tr>\n",
       "    <tr>\n",
       "      <th>gender</th>\n",
       "      <td>Female</td>\n",
       "      <td>Male</td>\n",
       "      <td>Male</td>\n",
       "    </tr>\n",
       "    <tr>\n",
       "      <th>senior_citizen</th>\n",
       "      <td>0</td>\n",
       "      <td>0</td>\n",
       "      <td>0</td>\n",
       "    </tr>\n",
       "    <tr>\n",
       "      <th>partner</th>\n",
       "      <td>Yes</td>\n",
       "      <td>No</td>\n",
       "      <td>No</td>\n",
       "    </tr>\n",
       "    <tr>\n",
       "      <th>dependents</th>\n",
       "      <td>Yes</td>\n",
       "      <td>No</td>\n",
       "      <td>No</td>\n",
       "    </tr>\n",
       "    <tr>\n",
       "      <th>tenure</th>\n",
       "      <td>9</td>\n",
       "      <td>9</td>\n",
       "      <td>4</td>\n",
       "    </tr>\n",
       "    <tr>\n",
       "      <th>phone_service</th>\n",
       "      <td>Yes</td>\n",
       "      <td>Yes</td>\n",
       "      <td>Yes</td>\n",
       "    </tr>\n",
       "    <tr>\n",
       "      <th>multiple_lines</th>\n",
       "      <td>No</td>\n",
       "      <td>Yes</td>\n",
       "      <td>No</td>\n",
       "    </tr>\n",
       "    <tr>\n",
       "      <th>online_security</th>\n",
       "      <td>No</td>\n",
       "      <td>No</td>\n",
       "      <td>No</td>\n",
       "    </tr>\n",
       "    <tr>\n",
       "      <th>online_backup</th>\n",
       "      <td>Yes</td>\n",
       "      <td>No</td>\n",
       "      <td>No</td>\n",
       "    </tr>\n",
       "    <tr>\n",
       "      <th>device_protection</th>\n",
       "      <td>No</td>\n",
       "      <td>No</td>\n",
       "      <td>Yes</td>\n",
       "    </tr>\n",
       "    <tr>\n",
       "      <th>tech_support</th>\n",
       "      <td>Yes</td>\n",
       "      <td>No</td>\n",
       "      <td>No</td>\n",
       "    </tr>\n",
       "    <tr>\n",
       "      <th>streaming_tv</th>\n",
       "      <td>Yes</td>\n",
       "      <td>No</td>\n",
       "      <td>No</td>\n",
       "    </tr>\n",
       "    <tr>\n",
       "      <th>streaming_movies</th>\n",
       "      <td>No</td>\n",
       "      <td>Yes</td>\n",
       "      <td>No</td>\n",
       "    </tr>\n",
       "    <tr>\n",
       "      <th>paperless_billing</th>\n",
       "      <td>Yes</td>\n",
       "      <td>No</td>\n",
       "      <td>Yes</td>\n",
       "    </tr>\n",
       "    <tr>\n",
       "      <th>monthly_charges</th>\n",
       "      <td>65.6</td>\n",
       "      <td>59.9</td>\n",
       "      <td>73.9</td>\n",
       "    </tr>\n",
       "    <tr>\n",
       "      <th>total_charges</th>\n",
       "      <td>593.3</td>\n",
       "      <td>542.4</td>\n",
       "      <td>280.85</td>\n",
       "    </tr>\n",
       "    <tr>\n",
       "      <th>churn</th>\n",
       "      <td>No</td>\n",
       "      <td>No</td>\n",
       "      <td>Yes</td>\n",
       "    </tr>\n",
       "    <tr>\n",
       "      <th>contract_type</th>\n",
       "      <td>One year</td>\n",
       "      <td>Month-to-month</td>\n",
       "      <td>Month-to-month</td>\n",
       "    </tr>\n",
       "    <tr>\n",
       "      <th>internet_service_type</th>\n",
       "      <td>DSL</td>\n",
       "      <td>DSL</td>\n",
       "      <td>Fiber optic</td>\n",
       "    </tr>\n",
       "    <tr>\n",
       "      <th>payment_type</th>\n",
       "      <td>Mailed check</td>\n",
       "      <td>Mailed check</td>\n",
       "      <td>Electronic check</td>\n",
       "    </tr>\n",
       "  </tbody>\n",
       "</table>\n",
       "</div>"
      ],
      "text/plain": [
       "                                     0               1                 2\n",
       "payment_type_id                      2               2                 1\n",
       "internet_service_type_id             1               1                 2\n",
       "contract_type_id                     2               1                 1\n",
       "customer_id                 0002-ORFBO      0003-MKNFE        0004-TLHLJ\n",
       "gender                          Female            Male              Male\n",
       "senior_citizen                       0               0                 0\n",
       "partner                            Yes              No                No\n",
       "dependents                         Yes              No                No\n",
       "tenure                               9               9                 4\n",
       "phone_service                      Yes             Yes               Yes\n",
       "multiple_lines                      No             Yes                No\n",
       "online_security                     No              No                No\n",
       "online_backup                      Yes              No                No\n",
       "device_protection                   No              No               Yes\n",
       "tech_support                       Yes              No                No\n",
       "streaming_tv                       Yes              No                No\n",
       "streaming_movies                    No             Yes                No\n",
       "paperless_billing                  Yes              No               Yes\n",
       "monthly_charges                   65.6            59.9              73.9\n",
       "total_charges                    593.3           542.4            280.85\n",
       "churn                               No              No               Yes\n",
       "contract_type                 One year  Month-to-month    Month-to-month\n",
       "internet_service_type              DSL             DSL       Fiber optic\n",
       "payment_type              Mailed check    Mailed check  Electronic check"
      ]
     },
     "execution_count": 5,
     "metadata": {},
     "output_type": "execute_result"
    }
   ],
   "source": [
    "# STEP 2: Prepare - Summarize the Data - .head()\n",
    "\n",
    "# Use the acquire module to acquire the data into a dataframe(df) \n",
    "# - accessing a cached version (.csv) for faster processing\n",
    "\n",
    "'''\n",
    "View the df, looking at column headings and values within the series.\n",
    "Due to it being a df with many columns, using transpose makes it easier to view in one frame.\n",
    "Note columns that may need cleaning in order to be useful, such as duplicate columns, \n",
    "unnecessary columns, or categorical/object data that may need encoding. \n",
    "'''\n",
    "\n",
    "prepare_df = prepare.get_telco_data()\n",
    "prepare_df.head(3).T"
   ]
  },
  {
   "cell_type": "code",
   "execution_count": 6,
   "id": "3ec59fc9-b685-410f-9133-a71d78254d17",
   "metadata": {},
   "outputs": [
    {
     "name": "stdout",
     "output_type": "stream",
     "text": [
      "<class 'pandas.core.frame.DataFrame'>\n",
      "RangeIndex: 7043 entries, 0 to 7042\n",
      "Data columns (total 24 columns):\n",
      " #   Column                    Non-Null Count  Dtype  \n",
      "---  ------                    --------------  -----  \n",
      " 0   payment_type_id           7043 non-null   int64  \n",
      " 1   internet_service_type_id  7043 non-null   int64  \n",
      " 2   contract_type_id          7043 non-null   int64  \n",
      " 3   customer_id               7043 non-null   object \n",
      " 4   gender                    7043 non-null   object \n",
      " 5   senior_citizen            7043 non-null   int64  \n",
      " 6   partner                   7043 non-null   object \n",
      " 7   dependents                7043 non-null   object \n",
      " 8   tenure                    7043 non-null   int64  \n",
      " 9   phone_service             7043 non-null   object \n",
      " 10  multiple_lines            7043 non-null   object \n",
      " 11  online_security           7043 non-null   object \n",
      " 12  online_backup             7043 non-null   object \n",
      " 13  device_protection         7043 non-null   object \n",
      " 14  tech_support              7043 non-null   object \n",
      " 15  streaming_tv              7043 non-null   object \n",
      " 16  streaming_movies          7043 non-null   object \n",
      " 17  paperless_billing         7043 non-null   object \n",
      " 18  monthly_charges           7043 non-null   float64\n",
      " 19  total_charges             7043 non-null   object \n",
      " 20  churn                     7043 non-null   object \n",
      " 21  contract_type             7043 non-null   object \n",
      " 22  internet_service_type     7043 non-null   object \n",
      " 23  payment_type              7043 non-null   object \n",
      "dtypes: float64(1), int64(5), object(18)\n",
      "memory usage: 1.3+ MB\n"
     ]
    }
   ],
   "source": [
    "# STEP 2: Prepare - Summarize the Data - .info()\n",
    "'''\n",
    "Review the index, series names,  non-missing value (non-null) counts, and data types for each series.\n",
    "Verify all columns have the number of values congruent with the number of rows in .shape (no missing values).\n",
    "Verify the data types are congruent with what is expected, given the feature.\n",
    "'''\n",
    "prepare_df.info()\n",
    "\n",
    "# Observation: 18 object columns, 5 int64 columns, and 1 float column.\n",
    "# Observation: There does not appear to be any missing data, as all row non-Null values are equivalent to .shape.\n",
    "# Observation: Difference in monetary data types; monthly_charges is a float and total_charges is an integer. \n",
    "# Observation: There are some columns that have some overlapping data, such as payment_type_id and payment_type \n",
    "# - that data can be encoded. Once encoded, the non-numeric column can be dropped. \n",
    "# Observation: Encode all columns with object type data:  \n",
    "# - gender, partner, dependents, phone_service, multiple_lines, online_security,\n",
    "# - online_backup, device_protection, tech_support, streaming_tv, streaming_movies,\n",
    "# - paperless_billing, churn, contract_type, internet_service_type, payment_type"
   ]
  },
  {
   "cell_type": "code",
   "execution_count": 7,
   "id": "6df47651-5715-41cf-a34c-e28070607518",
   "metadata": {},
   "outputs": [
    {
     "data": {
      "text/html": [
       "<div>\n",
       "<style scoped>\n",
       "    .dataframe tbody tr th:only-of-type {\n",
       "        vertical-align: middle;\n",
       "    }\n",
       "\n",
       "    .dataframe tbody tr th {\n",
       "        vertical-align: top;\n",
       "    }\n",
       "\n",
       "    .dataframe thead th {\n",
       "        text-align: right;\n",
       "    }\n",
       "</style>\n",
       "<table border=\"1\" class=\"dataframe\">\n",
       "  <thead>\n",
       "    <tr style=\"text-align: right;\">\n",
       "      <th></th>\n",
       "      <th>count</th>\n",
       "      <th>mean</th>\n",
       "      <th>std</th>\n",
       "      <th>min</th>\n",
       "      <th>25%</th>\n",
       "      <th>50%</th>\n",
       "      <th>75%</th>\n",
       "      <th>max</th>\n",
       "    </tr>\n",
       "  </thead>\n",
       "  <tbody>\n",
       "    <tr>\n",
       "      <th>tenure</th>\n",
       "      <td>7043.0</td>\n",
       "      <td>32.371149</td>\n",
       "      <td>24.559481</td>\n",
       "      <td>0.00</td>\n",
       "      <td>9.00</td>\n",
       "      <td>29.000</td>\n",
       "      <td>55.0000</td>\n",
       "      <td>72.00</td>\n",
       "    </tr>\n",
       "    <tr>\n",
       "      <th>monthly_charges</th>\n",
       "      <td>7043.0</td>\n",
       "      <td>64.761692</td>\n",
       "      <td>30.090047</td>\n",
       "      <td>18.25</td>\n",
       "      <td>35.50</td>\n",
       "      <td>70.350</td>\n",
       "      <td>89.8500</td>\n",
       "      <td>118.75</td>\n",
       "    </tr>\n",
       "    <tr>\n",
       "      <th>total_charges</th>\n",
       "      <td>7032.0</td>\n",
       "      <td>2283.300441</td>\n",
       "      <td>2266.771362</td>\n",
       "      <td>18.80</td>\n",
       "      <td>401.45</td>\n",
       "      <td>1397.475</td>\n",
       "      <td>3794.7375</td>\n",
       "      <td>8684.80</td>\n",
       "    </tr>\n",
       "  </tbody>\n",
       "</table>\n",
       "</div>"
      ],
      "text/plain": [
       "                  count         mean          std    min     25%       50%  \\\n",
       "tenure           7043.0    32.371149    24.559481   0.00    9.00    29.000   \n",
       "monthly_charges  7043.0    64.761692    30.090047  18.25   35.50    70.350   \n",
       "total_charges    7032.0  2283.300441  2266.771362  18.80  401.45  1397.475   \n",
       "\n",
       "                       75%      max  \n",
       "tenure             55.0000    72.00  \n",
       "monthly_charges    89.8500   118.75  \n",
       "total_charges    3794.7375  8684.80  "
      ]
     },
     "execution_count": 7,
     "metadata": {},
     "output_type": "execute_result"
    }
   ],
   "source": [
    "# STEP 2: Prepare - Summarize the Data - .describe()\n",
    "'''\n",
    "First, change the total_charges column to a float, so the monetary datatypes are appropriately standardized, \n",
    "for accurate comparison.\n",
    "Then, view the statistical information related to all numeric values\n",
    "'''\n",
    "prepare_df['total_charges'] = prepare_df.total_charges.replace(' ', np.nan).astype(float)\n",
    "prepare_df[['tenure','monthly_charges', 'total_charges']].describe().T\n",
    "\n",
    "#Observation: Count of total charges not equivalent to count of monthly charges. \n",
    "# - Could be attributed to new customers. \n",
    "# - Will need to drop these rows, so they are not included in the current customer churn rate. "
   ]
  },
  {
   "cell_type": "code",
   "execution_count": 8,
   "id": "54b2a08e-e38d-49fb-966e-e060974d0e7f",
   "metadata": {},
   "outputs": [
    {
     "data": {
      "text/plain": [
       "payment_type_id              0\n",
       "internet_service_type_id     0\n",
       "contract_type_id             0\n",
       "customer_id                  0\n",
       "gender                       0\n",
       "senior_citizen               0\n",
       "partner                      0\n",
       "dependents                   0\n",
       "tenure                       0\n",
       "phone_service                0\n",
       "multiple_lines               0\n",
       "online_security              0\n",
       "online_backup                0\n",
       "device_protection            0\n",
       "tech_support                 0\n",
       "streaming_tv                 0\n",
       "streaming_movies             0\n",
       "paperless_billing            0\n",
       "monthly_charges              0\n",
       "total_charges               11\n",
       "churn                        0\n",
       "contract_type                0\n",
       "internet_service_type        0\n",
       "payment_type                 0\n",
       "dtype: int64"
      ]
     },
     "execution_count": 8,
     "metadata": {},
     "output_type": "execute_result"
    }
   ],
   "source": [
    "# STEP 2: Prepare - Summarize the Data - - .isnull()\n",
    "'''\n",
    "Get a count of missing values, even though the series value counts \n",
    "within .info() above demonstrated none,it is good to have further evidence. \n",
    "If missing values are present, run this code:\n",
    "'''\n",
    "prepare_df.isnull().sum()\n",
    "# Observation: There are 11 missing values in the total_charges column. \n",
    "# - We will want to drop these rows, as they are a small part of our dataset, but may impact statistical calculation."
   ]
  },
  {
   "cell_type": "code",
   "execution_count": 9,
   "id": "8f98978b-159f-4c05-993a-c31d509b2c79",
   "metadata": {},
   "outputs": [
    {
     "data": {
      "text/plain": [
       "total_charges    11\n",
       "dtype: int64"
      ]
     },
     "execution_count": 9,
     "metadata": {},
     "output_type": "execute_result"
    }
   ],
   "source": [
    "# STEP 2: Prepare - Summarize the Data - - .isnull()\n",
    "'''\n",
    "Another way to quickly identify null values\n",
    "'''\n",
    "missing = prepare_df.isnull().sum()\n",
    "missing[missing > 0]"
   ]
  },
  {
   "cell_type": "code",
   "execution_count": 10,
   "id": "5a11e325-ab1d-46f5-8db1-80f20b7025f2",
   "metadata": {},
   "outputs": [
    {
     "name": "stdout",
     "output_type": "stream",
     "text": [
      "No     5174\n",
      "Yes    1869\n",
      "Name: churn, dtype: int64\n"
     ]
    },
    {
     "data": {
      "image/png": "[encoded data removed]",
      "text/plain": [
       "<Figure size 432x288 with 1 Axes>"
      ]
     },
     "metadata": {
      "needs_background": "light"
     },
     "output_type": "display_data"
    }
   ],
   "source": [
    "# STEP 2: Prepare - Summarize the Data - value_counts()\n",
    "'''\n",
    "Get an eye on the target by viewing the distribution \n",
    "of the target variable \"churn\" in numeric and visual form. \n",
    "'''\n",
    "print(prepare_df.churn.value_counts())\n",
    "prepare_df.churn.value_counts().plot.bar()\n",
    "plt.xlabel('Churn')\n",
    "plt.ylabel('# Of Customers')\n",
    "plt.tight_layout()\n",
    "plt.show()"
   ]
  },
  {
   "cell_type": "code",
   "execution_count": 11,
   "id": "9de5f0b9-31c1-4b5a-8fe6-152bb204de6c",
   "metadata": {},
   "outputs": [
    {
     "name": "stdout",
     "output_type": "stream",
     "text": [
      "No     5174\n",
      "Yes    1869\n",
      "Name: churn, dtype: int64\n"
     ]
    },
    {
     "data": {
      "image/png": "[encoded data removed]",
      "text/plain": [
       "<Figure size 432x288 with 1 Axes>"
      ]
     },
     "metadata": {},
     "output_type": "display_data"
    }
   ],
   "source": [
    "# STEP 2: Prepare - Summarize the Data - value_counts()\n",
    "'''\n",
    "Another visual option. \n",
    "'''\n",
    "print(prepare_df.churn.value_counts())\n",
    "y = prepare_df.churn.value_counts()\n",
    "plt.title('Churn')\n",
    "plt.pie(y)\n",
    "plt.show() "
   ]
  },
  {
   "cell_type": "code",
   "execution_count": 12,
   "id": "b8fe3568-8f6b-49f0-baba-147aa164f215",
   "metadata": {},
   "outputs": [
    {
     "data": {
      "image/png": "[encoded data removed]",
      "text/plain": [
       "<Figure size 432x288 with 1 Axes>"
      ]
     },
     "metadata": {
      "needs_background": "light"
     },
     "output_type": "display_data"
    },
    {
     "data": {
      "image/png": "[encoded data removed]",
      "text/plain": [
       "<Figure size 432x288 with 1 Axes>"
      ]
     },
     "metadata": {
      "needs_background": "light"
     },
     "output_type": "display_data"
    },
    {
     "data": {
      "image/png": "[encoded data removed]",
      "text/plain": [
       "<Figure size 432x288 with 1 Axes>"
      ]
     },
     "metadata": {
      "needs_background": "light"
     },
     "output_type": "display_data"
    },
    {
     "data": {
      "image/png": "[encoded data removed]",
      "text/plain": [
       "<Figure size 432x288 with 1 Axes>"
      ]
     },
     "metadata": {
      "needs_background": "light"
     },
     "output_type": "display_data"
    },
    {
     "data": {
      "image/png": "[encoded data removed]",
      "text/plain": [
       "<Figure size 432x288 with 1 Axes>"
      ]
     },
     "metadata": {
      "needs_background": "light"
     },
     "output_type": "display_data"
    }
   ],
   "source": [
    "# STEP 2: Prepare - Summarize the Data - view visualizations of numeric data.\n",
    "'''\n",
    "Look at distributions of NUMERIC - CATEGORICAL columns.\n",
    "'''\n",
    "\n",
    "num_cols = prepare_df.columns[[prepare_df[col].dtype == 'int64' for col in prepare_df.columns]]\n",
    "for col in num_cols:\n",
    "    plt.hist(prepare_df[col])\n",
    "    plt.title(col)\n",
    "    plt.show()\n",
    "    \n",
    "# Observation: payment_type_id, internet_service_type_id, contract_type_id, and senior_citizen are counts/discrete data.\n",
    "# Observation: tenure may be useful for comparison as a continuous feature. "
   ]
  },
  {
   "cell_type": "code",
   "execution_count": 13,
   "id": "cfcfaad8-71b9-4f52-bd57-72b28f269a7e",
   "metadata": {},
   "outputs": [
    {
     "data": {
      "image/png": "[encoded data removed]",
      "text/plain": [
       "<Figure size 432x288 with 1 Axes>"
      ]
     },
     "metadata": {
      "needs_background": "light"
     },
     "output_type": "display_data"
    },
    {
     "data": {
      "image/png": "[encoded data removed]",
      "text/plain": [
       "<Figure size 432x288 with 1 Axes>"
      ]
     },
     "metadata": {
      "needs_background": "light"
     },
     "output_type": "display_data"
    }
   ],
   "source": [
    "# Step 2: Clean - encode columns \n",
    "'''\n",
    "Look at distributions of NUMERIC columns.\n",
    "'''\n",
    "\n",
    "num_cols = prepare_df.columns[[prepare_df[col].dtype == 'float64' for col in prepare_df.columns]]\n",
    "for col in num_cols:\n",
    "    plt.hist(prepare_df[col])\n",
    "    plt.title(col)\n",
    "    plt.show()"
   ]
  },
  {
   "cell_type": "markdown",
   "id": "7da8ff78-89c2-422e-8f05-8c3225c93747",
   "metadata": {
    "tags": []
   },
   "source": [
    "#### 2. CLEAN THE DATA\n",
    "##### Summarizing Data Takeaways\n",
    "    \n",
    "    - Address Missing/Null Values\n",
    "        - drop null value rows in total_charges\n",
    "        \n",
    "    - Drop Unnecessary Columns & Rows\n",
    "        - check for duplicate values \n",
    "        - drop customer_ID\n",
    "        - drop columns that provide duplicate data\n",
    "            - 'payment_type_id', 'internet_service_type_id', 'contract_type_id'\n",
    "        \n",
    "    - Rename Columns\n",
    "        - for ease of use after encoding\n",
    "        \n",
    "    - Standardize Data Types\n",
    "        - monetary columns standardize to float\n",
    "        \n",
    "    - Create Numeric Datatypes (Encode)\n",
    "        - 'gender', 'partner', 'dependents', 'phone_service', 'multiple_lines', 'online_security',\n",
    "        - 'online_backup', 'device_protection', 'tech_support', 'streaming_tv', 'streaming_movies',\n",
    "        - 'paperless_billing', 'churn', 'contract_type', 'internet_service_type', 'payment_type'\n",
    "        - drop original columns after encoding"
   ]
  },
  {
   "cell_type": "code",
   "execution_count": 14,
   "id": "069fd0c7-b5ab-4be4-8f5b-506c1d6df028",
   "metadata": {},
   "outputs": [
    {
     "name": "stdout",
     "output_type": "stream",
     "text": [
      "Original Rows and Columns: (7043, 24)\n",
      "Cleaned Rows and Columns: (7032, 24)\n"
     ]
    }
   ],
   "source": [
    "# STEP 2: Prepare - Clean the Data - Address Missing/Null Values\n",
    "'''\n",
    "Brand new customers will not be included in the churn stats, so we need to drop them from the data.\n",
    "'''\n",
    "clean_df = prepare_df[prepare_df.tenure != 0]\n",
    "print(f'Original Rows and Columns: {acquire_df.shape}')\n",
    "print(f'Cleaned Rows and Columns: {clean_df.shape}')\n",
    "\n",
    "# Observations: 11 new customer observations dropped. "
   ]
  },
  {
   "cell_type": "code",
   "execution_count": 15,
   "id": "14742c6c-2d03-4ea4-b2d8-30738e1df5a2",
   "metadata": {},
   "outputs": [
    {
     "data": {
      "text/plain": [
       "(7032, 24)"
      ]
     },
     "execution_count": 15,
     "metadata": {},
     "output_type": "execute_result"
    }
   ],
   "source": [
    "# Step 2: Prepare / Clean - Drop Unnecessary Columns & Rows\n",
    "'''\n",
    "Drop dulplicates, if any\n",
    "Check shape to see verify if there were any duplicates\n",
    "'''\n",
    "clean_df = clean_df.drop_duplicates()\n",
    "clean_df.shape\n",
    "\n",
    "# Observation: no change in shape, indicates there were no duplicates."
   ]
  },
  {
   "cell_type": "code",
   "execution_count": 16,
   "id": "ad8caf8b-a303-4922-9094-d83adb77cb17",
   "metadata": {},
   "outputs": [
    {
     "data": {
      "text/plain": [
       "(7032, 21)"
      ]
     },
     "execution_count": 16,
     "metadata": {},
     "output_type": "execute_result"
    }
   ],
   "source": [
    "# Step 2: Prepare / Clean - Drop Unnecessary Columns & Rows\n",
    "'''\n",
    "Drop unnecessary columns\n",
    "'''\n",
    "clean_df = clean_df.drop(columns=['payment_type_id', 'internet_service_type_id', 'contract_type_id'])\n",
    "clean_df.shape\n",
    "\n",
    "# Observation: 4 fewer columns"
   ]
  },
  {
   "cell_type": "code",
   "execution_count": 17,
   "id": "b1464cb4-187e-4819-ae98-4ca4c2ea7afe",
   "metadata": {},
   "outputs": [],
   "source": [
    "# Step 2: Prepare / Clean -  Rename Columns \n",
    "'''\n",
    "Rename columns for consistency and readability. \n",
    "'''\n",
    "clean_df = clean_df.rename(columns={'gender': 'is_male', 'senior_citizen': 'is_senior', 'tenure': 'tenure_months',\n",
    "                                   'partner': 'has_partner', 'dependents': 'has_dependents',\n",
    "                                    'phone_service': 'has_phone_service','multiple_lines': 'has_multiple_lines', \n",
    "                                    'online_security': 'has_online_security', 'online_backup': 'has_online_backup' , \n",
    "                                    'device_protection': 'has_device_protection', 'tech_support': 'has_tech_support',\n",
    "                                   'streaming_tv': 'has_streaming_tv', 'streaming_movies': 'has_streaming_movies', \n",
    "                                   'paperless_billing': 'has_paperless_billing', 'churn': 'did_churn'})"
   ]
  },
  {
   "cell_type": "code",
   "execution_count": 18,
   "id": "0f325bc9-4d60-4b19-8e3a-87975d3b0132",
   "metadata": {},
   "outputs": [
    {
     "data": {
      "text/plain": [
       "customer_id               object\n",
       "is_male                   object\n",
       "is_senior                  int64\n",
       "has_partner               object\n",
       "has_dependents            object\n",
       "tenure_months              int64\n",
       "has_phone_service         object\n",
       "has_multiple_lines        object\n",
       "has_online_security       object\n",
       "has_online_backup         object\n",
       "has_device_protection     object\n",
       "has_tech_support          object\n",
       "has_streaming_tv          object\n",
       "has_streaming_movies      object\n",
       "has_paperless_billing     object\n",
       "monthly_charges          float64\n",
       "total_charges            float64\n",
       "did_churn                 object\n",
       "contract_type             object\n",
       "internet_service_type     object\n",
       "payment_type              object\n",
       "dtype: object"
      ]
     },
     "execution_count": 18,
     "metadata": {},
     "output_type": "execute_result"
    }
   ],
   "source": [
    " # Step 2: Prepare / Clean - Verify Standardized Data Types\n",
    "'''\n",
    "Monetary columns were previously dealth with.\n",
    "Verify the other columns will need encoding\n",
    "'''\n",
    "    \n",
    "clean_df.dtypes"
   ]
  },
  {
   "cell_type": "code",
   "execution_count": 19,
   "id": "a01fdfa2-30d4-4175-9033-2288e260ae1a",
   "metadata": {},
   "outputs": [
    {
     "data": {
      "text/plain": [
       "['customer_id',\n",
       " 'is_male',\n",
       " 'has_partner',\n",
       " 'has_dependents',\n",
       " 'has_phone_service',\n",
       " 'has_multiple_lines',\n",
       " 'has_online_security',\n",
       " 'has_online_backup',\n",
       " 'has_device_protection',\n",
       " 'has_tech_support',\n",
       " 'has_streaming_tv',\n",
       " 'has_streaming_movies',\n",
       " 'has_paperless_billing',\n",
       " 'did_churn',\n",
       " 'contract_type',\n",
       " 'internet_service_type',\n",
       " 'payment_type']"
      ]
     },
     "execution_count": 19,
     "metadata": {},
     "output_type": "execute_result"
    }
   ],
   "source": [
    " # Step 2: Prepare / Clean - Create Numeric Datatypes (Encode)\n",
    "    \n",
    "'''\n",
    "Obtain list of categorical columns that will need encoded\n",
    "'''\n",
    "\n",
    "categorical_columns = list(clean_df.dtypes[clean_df.dtypes == 'object'].index)\n",
    "categorical_columns"
   ]
  },
  {
   "cell_type": "code",
   "execution_count": 20,
   "id": "e3e06759-aeb4-4dd1-b652-86861962a349",
   "metadata": {},
   "outputs": [],
   "source": [
    "# Step 2: Clean - Encode Columns \n",
    "'''\n",
    "Identify categorical columns that will need encoded.\n",
    "'''\n",
    "catcols = [col for col in clean_df.columns if clean_df[col].dtype == 'O']"
   ]
  },
  {
   "cell_type": "code",
   "execution_count": 21,
   "id": "b0e8d954-8395-48f3-af67-05a8b6b5d683",
   "metadata": {},
   "outputs": [
    {
     "name": "stdout",
     "output_type": "stream",
     "text": [
      "Column: customer_id\n",
      "0002-ORFBO    1\n",
      "6619-RPLQZ    1\n",
      "6629-LADHQ    1\n",
      "6629-CZTTH    1\n",
      "6627-CFOSN    1\n",
      "             ..\n",
      "3359-DSRKA    1\n",
      "3354-OADJP    1\n",
      "3352-RICWQ    1\n",
      "3352-ALMCK    1\n",
      "9995-HOTOH    1\n",
      "Name: customer_id, Length: 7032, dtype: int64\n",
      "-------\n",
      "0002-ORFBO    0.000142\n",
      "6619-RPLQZ    0.000142\n",
      "6629-LADHQ    0.000142\n",
      "6629-CZTTH    0.000142\n",
      "6627-CFOSN    0.000142\n",
      "                ...   \n",
      "3359-DSRKA    0.000142\n",
      "3354-OADJP    0.000142\n",
      "3352-RICWQ    0.000142\n",
      "3352-ALMCK    0.000142\n",
      "9995-HOTOH    0.000142\n",
      "Name: customer_id, Length: 7032, dtype: float64\n",
      "====================\n",
      "Column: is_male\n",
      "Male      3549\n",
      "Female    3483\n",
      "Name: is_male, dtype: int64\n",
      "-------\n",
      "Male      0.504693\n",
      "Female    0.495307\n",
      "Name: is_male, dtype: float64\n",
      "====================\n",
      "Column: has_partner\n",
      "No     3639\n",
      "Yes    3393\n",
      "Name: has_partner, dtype: int64\n",
      "-------\n",
      "No     0.517491\n",
      "Yes    0.482509\n",
      "Name: has_partner, dtype: float64\n",
      "====================\n",
      "Column: has_dependents\n",
      "No     4933\n",
      "Yes    2099\n",
      "Name: has_dependents, dtype: int64\n",
      "-------\n",
      "No     0.701507\n",
      "Yes    0.298493\n",
      "Name: has_dependents, dtype: float64\n",
      "====================\n",
      "Column: has_phone_service\n",
      "Yes    6352\n",
      "No      680\n",
      "Name: has_phone_service, dtype: int64\n",
      "-------\n",
      "Yes    0.903299\n",
      "No     0.096701\n",
      "Name: has_phone_service, dtype: float64\n",
      "====================\n",
      "Column: has_multiple_lines\n",
      "No                  3385\n",
      "Yes                 2967\n",
      "No phone service     680\n",
      "Name: has_multiple_lines, dtype: int64\n",
      "-------\n",
      "No                  0.481371\n",
      "Yes                 0.421928\n",
      "No phone service    0.096701\n",
      "Name: has_multiple_lines, dtype: float64\n",
      "====================\n",
      "Column: has_online_security\n",
      "No                     3497\n",
      "Yes                    2015\n",
      "No internet service    1520\n",
      "Name: has_online_security, dtype: int64\n",
      "-------\n",
      "No                     0.497298\n",
      "Yes                    0.286547\n",
      "No internet service    0.216155\n",
      "Name: has_online_security, dtype: float64\n",
      "====================\n",
      "Column: has_online_backup\n",
      "No                     3087\n",
      "Yes                    2425\n",
      "No internet service    1520\n",
      "Name: has_online_backup, dtype: int64\n",
      "-------\n",
      "No                     0.438993\n",
      "Yes                    0.344852\n",
      "No internet service    0.216155\n",
      "Name: has_online_backup, dtype: float64\n",
      "====================\n",
      "Column: has_device_protection\n",
      "No                     3094\n",
      "Yes                    2418\n",
      "No internet service    1520\n",
      "Name: has_device_protection, dtype: int64\n",
      "-------\n",
      "No                     0.439989\n",
      "Yes                    0.343857\n",
      "No internet service    0.216155\n",
      "Name: has_device_protection, dtype: float64\n",
      "====================\n",
      "Column: has_tech_support\n",
      "No                     3472\n",
      "Yes                    2040\n",
      "No internet service    1520\n",
      "Name: has_tech_support, dtype: int64\n",
      "-------\n",
      "No                     0.493743\n",
      "Yes                    0.290102\n",
      "No internet service    0.216155\n",
      "Name: has_tech_support, dtype: float64\n",
      "====================\n",
      "Column: has_streaming_tv\n",
      "No                     2809\n",
      "Yes                    2703\n",
      "No internet service    1520\n",
      "Name: has_streaming_tv, dtype: int64\n",
      "-------\n",
      "No                     0.399460\n",
      "Yes                    0.384386\n",
      "No internet service    0.216155\n",
      "Name: has_streaming_tv, dtype: float64\n",
      "====================\n",
      "Column: has_streaming_movies\n",
      "No                     2781\n",
      "Yes                    2731\n",
      "No internet service    1520\n",
      "Name: has_streaming_movies, dtype: int64\n",
      "-------\n",
      "No                     0.395478\n",
      "Yes                    0.388367\n",
      "No internet service    0.216155\n",
      "Name: has_streaming_movies, dtype: float64\n",
      "====================\n",
      "Column: has_paperless_billing\n",
      "Yes    4168\n",
      "No     2864\n",
      "Name: has_paperless_billing, dtype: int64\n",
      "-------\n",
      "Yes    0.592719\n",
      "No     0.407281\n",
      "Name: has_paperless_billing, dtype: float64\n",
      "====================\n",
      "Column: did_churn\n",
      "No     5163\n",
      "Yes    1869\n",
      "Name: did_churn, dtype: int64\n",
      "-------\n",
      "No     0.734215\n",
      "Yes    0.265785\n",
      "Name: did_churn, dtype: float64\n",
      "====================\n",
      "Column: contract_type\n",
      "Month-to-month    3875\n",
      "Two year          1685\n",
      "One year          1472\n",
      "Name: contract_type, dtype: int64\n",
      "-------\n",
      "Month-to-month    0.551052\n",
      "Two year          0.239619\n",
      "One year          0.209329\n",
      "Name: contract_type, dtype: float64\n",
      "====================\n",
      "Column: internet_service_type\n",
      "Fiber optic    3096\n",
      "DSL            2416\n",
      "None           1520\n",
      "Name: internet_service_type, dtype: int64\n",
      "-------\n",
      "Fiber optic    0.440273\n",
      "DSL            0.343572\n",
      "None           0.216155\n",
      "Name: internet_service_type, dtype: float64\n",
      "====================\n",
      "Column: payment_type\n",
      "Electronic check             2365\n",
      "Mailed check                 1604\n",
      "Bank transfer (automatic)    1542\n",
      "Credit card (automatic)      1521\n",
      "Name: payment_type, dtype: int64\n",
      "-------\n",
      "Electronic check             0.336320\n",
      "Mailed check                 0.228100\n",
      "Bank transfer (automatic)    0.219283\n",
      "Credit card (automatic)      0.216297\n",
      "Name: payment_type, dtype: float64\n",
      "====================\n"
     ]
    }
   ],
   "source": [
    "# Step 2: Clean - Encode Columns \n",
    "\n",
    "'''\n",
    "Look at value counts in each of the categorical columns, noting which value is the mode for each category\n",
    "'''\n",
    "\n",
    "for col in catcols:\n",
    "    print(f'Column: {col}')\n",
    "    print(clean_df[col].value_counts())\n",
    "    print('-------')\n",
    "    print(clean_df[col].value_counts(normalize=True, dropna=False))\n",
    "    print('====================')"
   ]
  },
  {
   "cell_type": "code",
   "execution_count": 22,
   "id": "bdfcee1c-bb48-49c4-b490-288a3e3847de",
   "metadata": {},
   "outputs": [
    {
     "data": {
      "text/plain": [
       "customer_id                                   object\n",
       "is_senior                                      int64\n",
       "tenure_months                                  int64\n",
       "monthly_charges                              float64\n",
       "total_charges                                float64\n",
       "contract_type                                 object\n",
       "internet_service_type                         object\n",
       "payment_type                                  object\n",
       "is_male_Male                                   uint8\n",
       "has_partner_Yes                                uint8\n",
       "has_dependents_Yes                             uint8\n",
       "has_phone_service_Yes                          uint8\n",
       "has_multiple_lines_No phone service            uint8\n",
       "has_multiple_lines_Yes                         uint8\n",
       "has_online_security_No internet service        uint8\n",
       "has_online_security_Yes                        uint8\n",
       "has_online_backup_No internet service          uint8\n",
       "has_online_backup_Yes                          uint8\n",
       "has_device_protection_No internet service      uint8\n",
       "has_device_protection_Yes                      uint8\n",
       "has_tech_support_No internet service           uint8\n",
       "has_tech_support_Yes                           uint8\n",
       "has_streaming_tv_No internet service           uint8\n",
       "has_streaming_tv_Yes                           uint8\n",
       "has_streaming_movies_No internet service       uint8\n",
       "has_streaming_movies_Yes                       uint8\n",
       "has_paperless_billing_Yes                      uint8\n",
       "did_churn_Yes                                  uint8\n",
       "contract_type_One year                         uint8\n",
       "contract_type_Two year                         uint8\n",
       "internet_service_type_Fiber optic              uint8\n",
       "internet_service_type_None                     uint8\n",
       "payment_type_Credit card (automatic)           uint8\n",
       "payment_type_Electronic check                  uint8\n",
       "payment_type_Mailed check                      uint8\n",
       "dtype: object"
      ]
     },
     "execution_count": 22,
     "metadata": {},
     "output_type": "execute_result"
    }
   ],
   "source": [
    "# Step 2: Clean - encode columns \n",
    "\n",
    "# make variable of list of columns to encode\n",
    "columns = ['is_male',\n",
    " 'has_partner',\n",
    " 'has_dependents',\n",
    " 'has_phone_service',\n",
    " 'has_multiple_lines',\n",
    " 'has_online_security',\n",
    " 'has_online_backup',\n",
    " 'has_device_protection',\n",
    " 'has_tech_support',\n",
    " 'has_streaming_tv',\n",
    " 'has_streaming_movies',\n",
    " 'has_paperless_billing',\n",
    " 'did_churn',\n",
    " 'contract_type',\n",
    " 'internet_service_type',\n",
    " 'payment_type'\n",
    "          ]\n",
    "\n",
    "# make dummy columns for  all columns in the list\n",
    "Dummies = pd.get_dummies(clean_df[columns], drop_first=True)\n",
    "\n",
    "# add dummy columns onto clean_df\n",
    "clean_df = pd.concat([clean_df, Dummies] , axis=1)\n",
    "\n",
    "# drop original columns after adding the dummy columns\n",
    "clean_df = clean_df.drop(columns=(['is_male',\n",
    " 'has_partner',\n",
    " 'has_dependents',\n",
    " 'has_phone_service',\n",
    " 'has_multiple_lines',\n",
    " 'has_online_security',\n",
    " 'has_online_backup',\n",
    " 'has_device_protection',\n",
    " 'has_tech_support',\n",
    " 'has_streaming_tv',\n",
    " 'has_streaming_movies',\n",
    " 'has_paperless_billing',\n",
    " 'did_churn'\n",
    "]))\n",
    "\n",
    "# Verify datatypes for categorical columns are what they need to be\n",
    "clean_df.dtypes\n",
    "\n",
    "# Observation: Monetary datatypes are in a format that is appropriate (float)"
   ]
  },
  {
   "cell_type": "code",
   "execution_count": 23,
   "id": "71ce325a-60b4-45c1-86b5-ad1c130cc0a8",
   "metadata": {},
   "outputs": [
    {
     "data": {
      "text/plain": [
       "customer_id                              object\n",
       "is_senior                                 int64\n",
       "tenure_months                             int64\n",
       "monthly_charges                         float64\n",
       "total_charges                           float64\n",
       "contract_type                            object\n",
       "internet_service_type                    object\n",
       "payment_type                             object\n",
       "is_male_Male                              uint8\n",
       "has_partner_Yes                           uint8\n",
       "has_dependents_Yes                        uint8\n",
       "has_phone_service_Yes                     uint8\n",
       "has_multiple_lines_No phone service       uint8\n",
       "has_multiple_lines_Yes                    uint8\n",
       "has_online_security_Yes                   uint8\n",
       "has_online_backup_Yes                     uint8\n",
       "has_device_protection_Yes                 uint8\n",
       "has_tech_support_Yes                      uint8\n",
       "has_streaming_tv_Yes                      uint8\n",
       "has_streaming_movies_Yes                  uint8\n",
       "has_paperless_billing_Yes                 uint8\n",
       "did_churn_Yes                             uint8\n",
       "contract_type_One year                    uint8\n",
       "contract_type_Two year                    uint8\n",
       "internet_service_type_Fiber optic         uint8\n",
       "internet_service_type_None                uint8\n",
       "payment_type_Credit card (automatic)      uint8\n",
       "payment_type_Electronic check             uint8\n",
       "payment_type_Mailed check                 uint8\n",
       "dtype: object"
      ]
     },
     "execution_count": 23,
     "metadata": {},
     "output_type": "execute_result"
    }
   ],
   "source": [
    "# Dropping columns that produce duplicate information to - no_internet\n",
    "\n",
    "clean_df = clean_df.drop(columns=([\n",
    " 'has_online_security_No internet service',\n",
    " 'has_online_backup_No internet service',\n",
    " 'has_device_protection_No internet service',\n",
    " 'has_tech_support_No internet service',\n",
    " 'has_streaming_tv_No internet service',\n",
    " 'has_streaming_movies_No internet service']))\n",
    "\n",
    "clean_df.dtypes"
   ]
  },
  {
   "cell_type": "code",
   "execution_count": 24,
   "id": "5f09326b-55e1-4a4c-be63-ce4884ce81c5",
   "metadata": {},
   "outputs": [
    {
     "data": {
      "text/plain": [
       "0    5163\n",
       "1    1869\n",
       "Name: did_churn_Yes, dtype: int64"
      ]
     },
     "execution_count": 24,
     "metadata": {},
     "output_type": "execute_result"
    }
   ],
   "source": [
    "'''\n",
    "acquire quantity of churn - which is the focus of the project\n",
    "'''\n",
    "\n",
    "clean_df['did_churn_Yes'].value_counts()\n",
    "\n",
    "# Looking at the describe data function restuls I see:\n",
    "# 1869/5163 customers who have churned"
   ]
  },
  {
   "cell_type": "code",
   "execution_count": 39,
   "id": "5eb92fa5-fce0-41ba-acda-436dd5545833",
   "metadata": {},
   "outputs": [
    {
     "data": {
      "text/plain": [
       "(7032, 29)"
      ]
     },
     "execution_count": 39,
     "metadata": {},
     "output_type": "execute_result"
    }
   ],
   "source": [
    "'''\n",
    "convert clean_df to explore_df for ease of tracking location in DataScience Pipeline\n",
    "and for ease of going back and making corrections without it impacting entire pipeline.\n",
    "'''\n",
    "explore_df = clean_df\n",
    "explore_df.shape"
   ]
  },
  {
   "cell_type": "markdown",
   "id": "2031aea7-29a6-4740-a8a9-03bde04a78ce",
   "metadata": {
    "tags": []
   },
   "source": [
    "#### 3. SPLIT THE DATA\n",
    "- Train - to use for exploration and modeling\n",
    "- Validate - to use for validating best performing models\n",
    "- Test - to use ONLY ONCE to confirm performance of best performing model on unseen data"
   ]
  },
  {
   "cell_type": "code",
   "execution_count": 45,
   "id": "2d3bbb0d-d489-4e24-bfdd-261eb8e89526",
   "metadata": {},
   "outputs": [],
   "source": [
    "def data_split(df):\n",
    "    '''\n",
    "    This function drops the customer_id column and then splits a dataframe into \n",
    "    train, validate, and test in order to explore the data and to create and validate models. \n",
    "    It takes in a dataframe. The target variable (for stratification purposes) is set within the function, \n",
    "    and contains an integer for setting a seed for replication. \n",
    "    Test is 20% of the original dataset. The remaining 80% of the dataset is \n",
    "    divided between valiidate and train, with validate being .30*.80= 24% of \n",
    "    the original dataset, and train being .70*.80= 56% of the original dataset. \n",
    "    The function returns, train, validate and test dataframes. \n",
    "    '''\n",
    "    df = df.drop(columns=['customer_id'])\n",
    "    train, test = train_test_split(df, test_size = .2, random_state=123, stratify=df.did_churn_Yes)   \n",
    "    train, validate = train_test_split(train, test_size=.3, random_state=123, stratify=train.did_churn_Yes)\n",
    "\n",
    "\n",
    "    print(f'train -> {train.shape}')\n",
    "    print(f'validate -> {validate.shape}')\n",
    "    print(f'test -> {test.shape}')\n",
    "    \n",
    "    return train, validate, test"
   ]
  },
  {
   "cell_type": "code",
   "execution_count": 46,
   "id": "6827bf2b-1d78-4af1-90ad-16170ae54b63",
   "metadata": {},
   "outputs": [
    {
     "name": "stdout",
     "output_type": "stream",
     "text": [
      "train -> (3937, 28)\n",
      "validate -> (1688, 28)\n",
      "test -> (1407, 28)\n"
     ]
    }
   ],
   "source": [
    "train, validate, test = data_split(explore_df)"
   ]
  },
  {
   "cell_type": "markdown",
   "id": "c2f9cafe-85ba-48a0-bc2e-4d9f6959ad63",
   "metadata": {
    "tags": []
   },
   "source": [
    "## IV: EXPLORE\n",
    "\n",
    "The goal is to discover features that have the largest impact on the target variable, i.e. provide the most information gain, drive the outcome.\n",
    "\n",
    "Use a correlation chart to spot potential relationships between features and churn.\n",
    "\n",
    "Guide exploration using correlations and the initial questions to visualize relationships between churn and other variables to identify drivers of churn.\n",
    "\n",
    "- What types of customers do we have?\n",
    "- What services do we offer?\n",
    "- What customer base contributes the most to churn?\n",
    "- What service types contribute most to churn?\n",
    "- What is our total revenue?\n",
    "- What amount of revenue is impacted by the overall churn?\n",
    "- What amount of revenue is impacted by the customer base that churns the most?\n",
    "- What amount of revenue is impacted by the service type that churns the most?"
   ]
  },
  {
   "cell_type": "markdown",
   "id": "732ad60d-5908-4977-bf8e-be6eaed526d5",
   "metadata": {},
   "source": [
    "### UNIVARIATE STATS:"
   ]
  },
  {
   "cell_type": "code",
   "execution_count": 47,
   "id": "adaca495-bf07-408d-bb05-6f4563fffa85",
   "metadata": {},
   "outputs": [
    {
     "name": "stdout",
     "output_type": "stream",
     "text": [
      "0    2891\n",
      "1    1046\n",
      "Name: did_churn_Yes, dtype: int64\n"
     ]
    },
    {
     "data": {
      "image/png": "[encoded data removed]",
      "text/plain": [
       "<Figure size 432x288 with 1 Axes>"
      ]
     },
     "metadata": {
      "needs_background": "light"
     },
     "output_type": "display_data"
    }
   ],
   "source": [
    "'''\n",
    "Obtain visual and counts of churn within the train dataset.\n",
    "'''\n",
    "print(train.did_churn_Yes.value_counts())\n",
    "train.did_churn_Yes.value_counts().sort_index().plot.bar()\n",
    "\n",
    "plt.xlabel(\"Churned\")\n",
    "plt.show()"
   ]
  },
  {
   "cell_type": "code",
   "execution_count": 48,
   "id": "930579a8-55c7-4745-a60e-2616f81d1626",
   "metadata": {},
   "outputs": [
    {
     "name": "stdout",
     "output_type": "stream",
     "text": [
      "Percent churned from train\n"
     ]
    },
    {
     "data": {
      "text/plain": [
       "0.27"
      ]
     },
     "execution_count": 48,
     "metadata": {},
     "output_type": "execute_result"
    }
   ],
   "source": [
    "'''\n",
    "Calculate rate of train sample that churned\n",
    "'''\n",
    "print(\"Percent churned from train\")\n",
    "round(train.did_churn_Yes.mean(), 2)"
   ]
  },
  {
   "cell_type": "code",
   "execution_count": 49,
   "id": "67f7904d-6491-41a0-a2b7-1174420122dc",
   "metadata": {},
   "outputs": [
    {
     "data": {
      "text/plain": [
       "['is_male_Male',\n",
       " 'has_partner_Yes',\n",
       " 'has_dependents_Yes',\n",
       " 'has_phone_service_Yes',\n",
       " 'has_multiple_lines_No phone service',\n",
       " 'has_multiple_lines_Yes',\n",
       " 'has_online_security_Yes',\n",
       " 'has_online_backup_Yes',\n",
       " 'has_device_protection_Yes',\n",
       " 'has_tech_support_Yes',\n",
       " 'has_streaming_tv_Yes',\n",
       " 'has_streaming_movies_Yes',\n",
       " 'has_paperless_billing_Yes',\n",
       " 'did_churn_Yes',\n",
       " 'contract_type_One year',\n",
       " 'contract_type_Two year',\n",
       " 'internet_service_type_Fiber optic',\n",
       " 'internet_service_type_None',\n",
       " 'payment_type_Credit card (automatic)',\n",
       " 'payment_type_Electronic check',\n",
       " 'payment_type_Mailed check']"
      ]
     },
     "execution_count": 49,
     "metadata": {},
     "output_type": "execute_result"
    }
   ],
   "source": [
    "'''\n",
    "Obtain categorical columns to explore visually\n",
    "'''\n",
    "categorical_columns = list(train.dtypes[train.dtypes == 'uint8'].index)\n",
    "categorical_columns"
   ]
  },
  {
   "cell_type": "code",
   "execution_count": 50,
   "id": "d2396ca6-8bab-401b-ad0f-b68a11373c6f",
   "metadata": {},
   "outputs": [
    {
     "name": "stdout",
     "output_type": "stream",
     "text": [
      "   is_male_Male_counts\n",
      "1                 1976\n",
      "0                 1961\n"
     ]
    },
    {
     "data": {
      "image/png": "[encoded data removed]",
      "text/plain": [
       "<Figure size 432x288 with 1 Axes>"
      ]
     },
     "metadata": {
      "needs_background": "light"
     },
     "output_type": "display_data"
    },
    {
     "name": "stdout",
     "output_type": "stream",
     "text": [
      "   has_partner_Yes_counts\n",
      "0                    2027\n",
      "1                    1910\n"
     ]
    },
    {
     "data": {
      "image/png": "[encoded data removed]",
      "text/plain": [
       "<Figure size 432x288 with 1 Axes>"
      ]
     },
     "metadata": {
      "needs_background": "light"
     },
     "output_type": "display_data"
    },
    {
     "name": "stdout",
     "output_type": "stream",
     "text": [
      "   has_dependents_Yes_counts\n",
      "0                       2745\n",
      "1                       1192\n"
     ]
    },
    {
     "data": {
      "image/png": "[encoded data removed]",
      "text/plain": [
       "<Figure size 432x288 with 1 Axes>"
      ]
     },
     "metadata": {
      "needs_background": "light"
     },
     "output_type": "display_data"
    },
    {
     "name": "stdout",
     "output_type": "stream",
     "text": [
      "   has_phone_service_Yes_counts\n",
      "1                          3564\n",
      "0                           373\n"
     ]
    },
    {
     "data": {
      "image/png": "[encoded data removed]",
      "text/plain": [
       "<Figure size 432x288 with 1 Axes>"
      ]
     },
     "metadata": {
      "needs_background": "light"
     },
     "output_type": "display_data"
    },
    {
     "name": "stdout",
     "output_type": "stream",
     "text": [
      "   has_multiple_lines_No phone service_counts\n",
      "0                                        3564\n",
      "1                                         373\n"
     ]
    },
    {
     "data": {
      "image/png": "[encoded data removed]",
      "text/plain": [
       "<Figure size 432x288 with 1 Axes>"
      ]
     },
     "metadata": {
      "needs_background": "light"
     },
     "output_type": "display_data"
    },
    {
     "name": "stdout",
     "output_type": "stream",
     "text": [
      "   has_multiple_lines_Yes_counts\n",
      "0                           2268\n",
      "1                           1669\n"
     ]
    },
    {
     "data": {
      "image/png": "[encoded data removed]",
      "text/plain": [
       "<Figure size 432x288 with 1 Axes>"
      ]
     },
     "metadata": {
      "needs_background": "light"
     },
     "output_type": "display_data"
    },
    {
     "name": "stdout",
     "output_type": "stream",
     "text": [
      "   has_online_security_Yes_counts\n",
      "0                            2785\n",
      "1                            1152\n"
     ]
    },
    {
     "data": {
      "image/png": "[encoded data removed]",
      "text/plain": [
       "<Figure size 432x288 with 1 Axes>"
      ]
     },
     "metadata": {
      "needs_background": "light"
     },
     "output_type": "display_data"
    },
    {
     "name": "stdout",
     "output_type": "stream",
     "text": [
      "   has_online_backup_Yes_counts\n",
      "0                          2564\n",
      "1                          1373\n"
     ]
    },
    {
     "data": {
      "image/png": "[encoded data removed]",
      "text/plain": [
       "<Figure size 432x288 with 1 Axes>"
      ]
     },
     "metadata": {
      "needs_background": "light"
     },
     "output_type": "display_data"
    },
    {
     "name": "stdout",
     "output_type": "stream",
     "text": [
      "   has_device_protection_Yes_counts\n",
      "0                              2560\n",
      "1                              1377\n"
     ]
    },
    {
     "data": {
      "image/png": "[encoded data removed]",
      "text/plain": [
       "<Figure size 432x288 with 1 Axes>"
      ]
     },
     "metadata": {
      "needs_background": "light"
     },
     "output_type": "display_data"
    },
    {
     "name": "stdout",
     "output_type": "stream",
     "text": [
      "   has_tech_support_Yes_counts\n",
      "0                         2798\n",
      "1                         1139\n"
     ]
    },
    {
     "data": {
      "image/png": "[encoded data removed]",
      "text/plain": [
       "<Figure size 432x288 with 1 Axes>"
      ]
     },
     "metadata": {
      "needs_background": "light"
     },
     "output_type": "display_data"
    },
    {
     "name": "stdout",
     "output_type": "stream",
     "text": [
      "   has_streaming_tv_Yes_counts\n",
      "0                         2416\n",
      "1                         1521\n"
     ]
    },
    {
     "data": {
      "image/png": "[encoded data removed]",
      "text/plain": [
       "<Figure size 432x288 with 1 Axes>"
      ]
     },
     "metadata": {
      "needs_background": "light"
     },
     "output_type": "display_data"
    },
    {
     "name": "stdout",
     "output_type": "stream",
     "text": [
      "   has_streaming_movies_Yes_counts\n",
      "0                             2396\n",
      "1                             1541\n"
     ]
    },
    {
     "data": {
      "image/png": "[encoded data removed]",
      "text/plain": [
       "<Figure size 432x288 with 1 Axes>"
      ]
     },
     "metadata": {
      "needs_background": "light"
     },
     "output_type": "display_data"
    },
    {
     "name": "stdout",
     "output_type": "stream",
     "text": [
      "   has_paperless_billing_Yes_counts\n",
      "1                              2324\n",
      "0                              1613\n"
     ]
    },
    {
     "data": {
      "image/png": "[encoded data removed]",
      "text/plain": [
       "<Figure size 432x288 with 1 Axes>"
      ]
     },
     "metadata": {
      "needs_background": "light"
     },
     "output_type": "display_data"
    },
    {
     "name": "stdout",
     "output_type": "stream",
     "text": [
      "   did_churn_Yes_counts\n",
      "0                  2891\n",
      "1                  1046\n"
     ]
    },
    {
     "data": {
      "image/png": "[encoded data removed]",
      "text/plain": [
       "<Figure size 432x288 with 1 Axes>"
      ]
     },
     "metadata": {
      "needs_background": "light"
     },
     "output_type": "display_data"
    },
    {
     "name": "stdout",
     "output_type": "stream",
     "text": [
      "   contract_type_One year_counts\n",
      "0                           3122\n",
      "1                            815\n"
     ]
    },
    {
     "data": {
      "image/png": "[encoded data removed]",
      "text/plain": [
       "<Figure size 432x288 with 1 Axes>"
      ]
     },
     "metadata": {
      "needs_background": "light"
     },
     "output_type": "display_data"
    },
    {
     "name": "stdout",
     "output_type": "stream",
     "text": [
      "   contract_type_Two year_counts\n",
      "0                           2980\n",
      "1                            957\n"
     ]
    },
    {
     "data": {
      "image/png": "[encoded data removed]",
      "text/plain": [
       "<Figure size 432x288 with 1 Axes>"
      ]
     },
     "metadata": {
      "needs_background": "light"
     },
     "output_type": "display_data"
    },
    {
     "name": "stdout",
     "output_type": "stream",
     "text": [
      "   internet_service_type_Fiber optic_counts\n",
      "0                                      2215\n",
      "1                                      1722\n"
     ]
    },
    {
     "data": {
      "image/png": "[encoded data removed]",
      "text/plain": [
       "<Figure size 432x288 with 1 Axes>"
      ]
     },
     "metadata": {
      "needs_background": "light"
     },
     "output_type": "display_data"
    },
    {
     "name": "stdout",
     "output_type": "stream",
     "text": [
      "   internet_service_type_None_counts\n",
      "0                               3070\n",
      "1                                867\n"
     ]
    },
    {
     "data": {
      "image/png": "[encoded data removed]",
      "text/plain": [
       "<Figure size 432x288 with 1 Axes>"
      ]
     },
     "metadata": {
      "needs_background": "light"
     },
     "output_type": "display_data"
    },
    {
     "name": "stdout",
     "output_type": "stream",
     "text": [
      "   payment_type_Credit card (automatic)_counts\n",
      "0                                         3042\n",
      "1                                          895\n"
     ]
    },
    {
     "data": {
      "image/png": "[encoded data removed]",
      "text/plain": [
       "<Figure size 432x288 with 1 Axes>"
      ]
     },
     "metadata": {
      "needs_background": "light"
     },
     "output_type": "display_data"
    },
    {
     "name": "stdout",
     "output_type": "stream",
     "text": [
      "   payment_type_Electronic check_counts\n",
      "0                                  2648\n",
      "1                                  1289\n"
     ]
    },
    {
     "data": {
      "image/png": "[encoded data removed]",
      "text/plain": [
       "<Figure size 432x288 with 1 Axes>"
      ]
     },
     "metadata": {
      "needs_background": "light"
     },
     "output_type": "display_data"
    },
    {
     "name": "stdout",
     "output_type": "stream",
     "text": [
      "   payment_type_Mailed check_counts\n",
      "0                              3046\n",
      "1                               891\n"
     ]
    },
    {
     "data": {
      "image/png": "[encoded data removed]",
      "text/plain": [
       "<Figure size 432x288 with 1 Axes>"
      ]
     },
     "metadata": {
      "needs_background": "light"
     },
     "output_type": "display_data"
    }
   ],
   "source": [
    "'''\n",
    "Create visual of categorical column counts, looking for which categories demonstrate high churn counts.\n",
    "'''\n",
    "\n",
    "# for each of those columns\n",
    "for col in categorical_columns:\n",
    "    \n",
    "    # display a frequency table\n",
    "    print(pd.DataFrame(train[col].value_counts())\n",
    "          .rename(columns={col: f'{col}_counts'}))\n",
    "    \n",
    "    # display a bar plot of those frequencies\n",
    "    sns.countplot(data=train, x=col)\n",
    "    plt.title(f'{col}_counts')\n",
    "    plt.show()\n",
    "\n",
    "# Observation: Categories that do not appear to be correlated to churn based on counts:\n",
    "    # - is_male_Male, has_partner_Yes, has_dependents_Yes, has_multiple_lines_No phone service.\n",
    "    # - has_multiple_lines_Yes, has_online_security_Yes, has_online_backup_Yes, has_device_protection_Yes,\n",
    "    # - has_tech_support_Yes, has_streaming_tv_Yes, has_streaming_movies_Yes, contract_type_One year,\n",
    "    # - contract_type_Two year, internet_service_type_None, payment_type_Credit card (automatic), payment_type_Mailed check\n",
    "    \n",
    "# Observation: Categories that do appear to be correlated churn based on counts:   \n",
    "    # - has_phone_service_Yes, has_multiple_lines_No phone service', has_paperless_billing_Yes,\n",
    "    # - internet_service_type_Fiber optic, payment_type_Electronic check\n",
    "    "
   ]
  },
  {
   "cell_type": "code",
   "execution_count": 51,
   "id": "1528da65-700d-41c5-83f3-199b5dbea28c",
   "metadata": {},
   "outputs": [
    {
     "name": "stdout",
     "output_type": "stream",
     "text": [
      "                contract_type_counts\n",
      "Month-to-month                  2165\n",
      "Two year                         957\n",
      "One year                         815\n"
     ]
    },
    {
     "data": {
      "image/png": "[encoded data removed]",
      "text/plain": [
       "<Figure size 432x288 with 1 Axes>"
      ]
     },
     "metadata": {
      "needs_background": "light"
     },
     "output_type": "display_data"
    },
    {
     "name": "stdout",
     "output_type": "stream",
     "text": [
      "             internet_service_type_counts\n",
      "Fiber optic                          1722\n",
      "DSL                                  1348\n",
      "None                                  867\n"
     ]
    },
    {
     "data": {
      "image/png": "[encoded data removed]",
      "text/plain": [
       "<Figure size 432x288 with 1 Axes>"
      ]
     },
     "metadata": {
      "needs_background": "light"
     },
     "output_type": "display_data"
    },
    {
     "name": "stdout",
     "output_type": "stream",
     "text": [
      "                           payment_type_counts\n",
      "Electronic check                          1289\n",
      "Credit card (automatic)                    895\n",
      "Mailed check                               891\n",
      "Bank transfer (automatic)                  862\n"
     ]
    },
    {
     "data": {
      "image/png": "[encoded data removed]",
      "text/plain": [
       "<Figure size 432x288 with 1 Axes>"
      ]
     },
     "metadata": {
      "needs_background": "light"
     },
     "output_type": "display_data"
    }
   ],
   "source": [
    "'''\n",
    "Create visual of specified object columns (excluding customer_ID, looking for which categories demonstrate high churn counts.\n",
    "'''\n",
    "specified_object_col = ['contract_type', 'internet_service_type', 'payment_type']\n",
    "    \n",
    "for col in specified_object_col:\n",
    "    \n",
    "    # display a frequency table\n",
    "    print(pd.DataFrame(train[col].value_counts())\n",
    "          .rename(columns={col: f'{col}_counts'}))\n",
    "    \n",
    "    # display a bar plot of those frequencies\n",
    "    sns.countplot(data=train, x=col)\n",
    "    plt.title(f'{col}_counts')\n",
    "    plt.show()                         "
   ]
  },
  {
   "cell_type": "code",
   "execution_count": 63,
   "id": "bbbd0ab5-026d-4b4f-b3eb-e0d04471ad09",
   "metadata": {},
   "outputs": [
    {
     "data": {
      "image/png": "[encoded data removed]",
      "text/plain": [
       "<Figure size 432x288 with 1 Axes>"
      ]
     },
     "metadata": {
      "needs_background": "light"
     },
     "output_type": "display_data"
    },
    {
     "data": {
      "image/png": "[encoded data removed]",
      "text/plain": [
       "<Figure size 432x288 with 1 Axes>"
      ]
     },
     "metadata": {
      "needs_background": "light"
     },
     "output_type": "display_data"
    },
    {
     "data": {
      "image/png": "[encoded data removed]",
      "text/plain": [
       "<Figure size 432x288 with 1 Axes>"
      ]
     },
     "metadata": {
      "needs_background": "light"
     },
     "output_type": "display_data"
    }
   ],
   "source": [
    "'''\n",
    "Create visual of specified object columns (excluding customer_ID, looking for which categories demonstrate high churn counts.\n",
    "'''\n",
    "float_col = ['monthly_charges', 'total_charges', 'tenure_months']\n",
    "\n",
    "for col in float_col:\n",
    "    \n",
    "    # display a bar plot of those frequencies\n",
    "    sns.histplot(data=train, x=col)\n",
    "    plt.title(f'{col}_counts')\n",
    "    plt.show()      "
   ]
  },
  {
   "cell_type": "markdown",
   "id": "ef4a778b-b90b-463e-abd0-7ab13819c176",
   "metadata": {},
   "source": [
    "### BIVARIATE STATS:"
   ]
  },
  {
   "cell_type": "code",
   "execution_count": 64,
   "id": "576fd864-34a5-4f95-b66a-0f20cff68e63",
   "metadata": {},
   "outputs": [
    {
     "data": {
      "image/png": "[encoded data removed]",
      "text/plain": [
       "<Figure size 1296x864 with 2 Axes>"
      ]
     },
     "metadata": {
      "needs_background": "light"
     },
     "output_type": "display_data"
    }
   ],
   "source": [
    "'''\n",
    "Use a correlation matrix to look at relationships with 'did_churn'.\n",
    "'''\n",
    "correlations = train.corr()\n",
    "plt.figure(figsize=(18,12))\n",
    "sns.set_theme(style=\"white\")\n",
    "corr = correlations\n",
    "heatmap = sns.heatmap(corr, annot=True, cmap=\"coolwarm\", fmt='.1g')\n",
    "\n",
    "# Obervation: Fiber Optic Internet and Electronic Check Payment show a correlation to churn of 0.3\n",
    "# Observation: Monthly Charges shows a correlation to churn of 0.2"
   ]
  },
  {
   "cell_type": "code",
   "execution_count": 67,
   "id": "f4004885-4bf5-483e-a4ef-bdb8755de282",
   "metadata": {},
   "outputs": [
    {
     "data": {
      "text/html": [
       "<div>\n",
       "<style scoped>\n",
       "    .dataframe tbody tr th:only-of-type {\n",
       "        vertical-align: middle;\n",
       "    }\n",
       "\n",
       "    .dataframe tbody tr th {\n",
       "        vertical-align: top;\n",
       "    }\n",
       "\n",
       "    .dataframe thead th {\n",
       "        text-align: right;\n",
       "    }\n",
       "</style>\n",
       "<table border=\"1\" class=\"dataframe\">\n",
       "  <thead>\n",
       "    <tr style=\"text-align: right;\">\n",
       "      <th></th>\n",
       "      <th>index</th>\n",
       "      <th>is_senior</th>\n",
       "      <th>tenure_months</th>\n",
       "      <th>monthly_charges</th>\n",
       "      <th>total_charges</th>\n",
       "      <th>is_male_Male</th>\n",
       "      <th>has_partner_Yes</th>\n",
       "      <th>has_dependents_Yes</th>\n",
       "      <th>has_phone_service_Yes</th>\n",
       "      <th>has_multiple_lines_No phone service</th>\n",
       "      <th>...</th>\n",
       "      <th>has_streaming_movies_Yes</th>\n",
       "      <th>has_paperless_billing_Yes</th>\n",
       "      <th>did_churn_Yes</th>\n",
       "      <th>contract_type_One year</th>\n",
       "      <th>contract_type_Two year</th>\n",
       "      <th>internet_service_type_Fiber optic</th>\n",
       "      <th>internet_service_type_None</th>\n",
       "      <th>payment_type_Credit card (automatic)</th>\n",
       "      <th>payment_type_Electronic check</th>\n",
       "      <th>payment_type_Mailed check</th>\n",
       "    </tr>\n",
       "  </thead>\n",
       "  <tbody>\n",
       "    <tr>\n",
       "      <th>0</th>\n",
       "      <td>is_senior</td>\n",
       "      <td>1.000000</td>\n",
       "      <td>0.012348</td>\n",
       "      <td>0.224259</td>\n",
       "      <td>0.106855</td>\n",
       "      <td>-0.013411</td>\n",
       "      <td>0.017874</td>\n",
       "      <td>-0.206309</td>\n",
       "      <td>0.012171</td>\n",
       "      <td>-0.012171</td>\n",
       "      <td>...</td>\n",
       "      <td>0.130816</td>\n",
       "      <td>0.170145</td>\n",
       "      <td>0.159932</td>\n",
       "      <td>-0.029746</td>\n",
       "      <td>-0.124541</td>\n",
       "      <td>0.250947</td>\n",
       "      <td>-0.191381</td>\n",
       "      <td>-0.020358</td>\n",
       "      <td>0.170854</td>\n",
       "      <td>-0.159609</td>\n",
       "    </tr>\n",
       "    <tr>\n",
       "      <th>1</th>\n",
       "      <td>tenure_months</td>\n",
       "      <td>0.012348</td>\n",
       "      <td>1.000000</td>\n",
       "      <td>0.258456</td>\n",
       "      <td>0.826402</td>\n",
       "      <td>-0.008735</td>\n",
       "      <td>0.384882</td>\n",
       "      <td>0.170727</td>\n",
       "      <td>0.022472</td>\n",
       "      <td>-0.022472</td>\n",
       "      <td>...</td>\n",
       "      <td>0.280099</td>\n",
       "      <td>0.006698</td>\n",
       "      <td>-0.351807</td>\n",
       "      <td>0.202264</td>\n",
       "      <td>0.569234</td>\n",
       "      <td>0.028768</td>\n",
       "      <td>-0.051233</td>\n",
       "      <td>0.250554</td>\n",
       "      <td>-0.217421</td>\n",
       "      <td>-0.237574</td>\n",
       "    </tr>\n",
       "    <tr>\n",
       "      <th>2</th>\n",
       "      <td>monthly_charges</td>\n",
       "      <td>0.224259</td>\n",
       "      <td>0.258456</td>\n",
       "      <td>1.000000</td>\n",
       "      <td>0.658896</td>\n",
       "      <td>-0.002743</td>\n",
       "      <td>0.116981</td>\n",
       "      <td>-0.113951</td>\n",
       "      <td>0.245759</td>\n",
       "      <td>-0.245759</td>\n",
       "      <td>...</td>\n",
       "      <td>0.632026</td>\n",
       "      <td>0.352447</td>\n",
       "      <td>0.196871</td>\n",
       "      <td>0.007936</td>\n",
       "      <td>-0.059051</td>\n",
       "      <td>0.786980</td>\n",
       "      <td>-0.767519</td>\n",
       "      <td>0.043873</td>\n",
       "      <td>0.258575</td>\n",
       "      <td>-0.369683</td>\n",
       "    </tr>\n",
       "    <tr>\n",
       "      <th>3</th>\n",
       "      <td>total_charges</td>\n",
       "      <td>0.106855</td>\n",
       "      <td>0.826402</td>\n",
       "      <td>0.658896</td>\n",
       "      <td>1.000000</td>\n",
       "      <td>-0.005145</td>\n",
       "      <td>0.325783</td>\n",
       "      <td>0.068300</td>\n",
       "      <td>0.119694</td>\n",
       "      <td>-0.119694</td>\n",
       "      <td>...</td>\n",
       "      <td>0.518443</td>\n",
       "      <td>0.159822</td>\n",
       "      <td>-0.193774</td>\n",
       "      <td>0.166754</td>\n",
       "      <td>0.365313</td>\n",
       "      <td>0.370010</td>\n",
       "      <td>-0.386008</td>\n",
       "      <td>0.199898</td>\n",
       "      <td>-0.068034</td>\n",
       "      <td>-0.294499</td>\n",
       "    </tr>\n",
       "    <tr>\n",
       "      <th>4</th>\n",
       "      <td>is_male_Male</td>\n",
       "      <td>-0.013411</td>\n",
       "      <td>-0.008735</td>\n",
       "      <td>-0.002743</td>\n",
       "      <td>-0.005145</td>\n",
       "      <td>1.000000</td>\n",
       "      <td>-0.024028</td>\n",
       "      <td>-0.009145</td>\n",
       "      <td>-0.010043</td>\n",
       "      <td>0.010043</td>\n",
       "      <td>...</td>\n",
       "      <td>0.001628</td>\n",
       "      <td>-0.014903</td>\n",
       "      <td>0.000008</td>\n",
       "      <td>0.008711</td>\n",
       "      <td>-0.009857</td>\n",
       "      <td>-0.012576</td>\n",
       "      <td>-0.016123</td>\n",
       "      <td>0.004600</td>\n",
       "      <td>0.016286</td>\n",
       "      <td>-0.001454</td>\n",
       "    </tr>\n",
       "  </tbody>\n",
       "</table>\n",
       "<p>5 rows × 26 columns</p>\n",
       "</div>"
      ],
      "text/plain": [
       "             index  is_senior  tenure_months  monthly_charges  total_charges  \\\n",
       "0        is_senior   1.000000       0.012348         0.224259       0.106855   \n",
       "1    tenure_months   0.012348       1.000000         0.258456       0.826402   \n",
       "2  monthly_charges   0.224259       0.258456         1.000000       0.658896   \n",
       "3    total_charges   0.106855       0.826402         0.658896       1.000000   \n",
       "4     is_male_Male  -0.013411      -0.008735        -0.002743      -0.005145   \n",
       "\n",
       "   is_male_Male  has_partner_Yes  has_dependents_Yes  has_phone_service_Yes  \\\n",
       "0     -0.013411         0.017874           -0.206309               0.012171   \n",
       "1     -0.008735         0.384882            0.170727               0.022472   \n",
       "2     -0.002743         0.116981           -0.113951               0.245759   \n",
       "3     -0.005145         0.325783            0.068300               0.119694   \n",
       "4      1.000000        -0.024028           -0.009145              -0.010043   \n",
       "\n",
       "   has_multiple_lines_No phone service  ...  has_streaming_movies_Yes  \\\n",
       "0                            -0.012171  ...                  0.130816   \n",
       "1                            -0.022472  ...                  0.280099   \n",
       "2                            -0.245759  ...                  0.632026   \n",
       "3                            -0.119694  ...                  0.518443   \n",
       "4                             0.010043  ...                  0.001628   \n",
       "\n",
       "   has_paperless_billing_Yes  did_churn_Yes  contract_type_One year  \\\n",
       "0                   0.170145       0.159932               -0.029746   \n",
       "1                   0.006698      -0.351807                0.202264   \n",
       "2                   0.352447       0.196871                0.007936   \n",
       "3                   0.159822      -0.193774                0.166754   \n",
       "4                  -0.014903       0.000008                0.008711   \n",
       "\n",
       "   contract_type_Two year  internet_service_type_Fiber optic  \\\n",
       "0               -0.124541                           0.250947   \n",
       "1                0.569234                           0.028768   \n",
       "2               -0.059051                           0.786980   \n",
       "3                0.365313                           0.370010   \n",
       "4               -0.009857                          -0.012576   \n",
       "\n",
       "   internet_service_type_None  payment_type_Credit card (automatic)  \\\n",
       "0                   -0.191381                             -0.020358   \n",
       "1                   -0.051233                              0.250554   \n",
       "2                   -0.767519                              0.043873   \n",
       "3                   -0.386008                              0.199898   \n",
       "4                   -0.016123                              0.004600   \n",
       "\n",
       "   payment_type_Electronic check  payment_type_Mailed check  \n",
       "0                       0.170854                  -0.159609  \n",
       "1                      -0.217421                  -0.237574  \n",
       "2                       0.258575                  -0.369683  \n",
       "3                      -0.068034                  -0.294499  \n",
       "4                       0.016286                  -0.001454  \n",
       "\n",
       "[5 rows x 26 columns]"
      ]
     },
     "execution_count": 67,
     "metadata": {},
     "output_type": "execute_result"
    }
   ],
   "source": [
    "'''\n",
    "Create correlation table - to see numbers more clearly\n",
    "'''\n",
    "df_corr = train.corr().reset_index()\n",
    "df_corr.head()"
   ]
  },
  {
   "cell_type": "code",
   "execution_count": 68,
   "id": "60dd302f-b6d2-4928-8463-db65b4c998a7",
   "metadata": {},
   "outputs": [
    {
     "name": "stdout",
     "output_type": "stream",
     "text": [
      "did_churn_Yes                           1.000000\n",
      "internet_service_type_Fiber optic       0.321678\n",
      "payment_type_Electronic check           0.292306\n",
      "monthly_charges                         0.196871\n",
      "has_paperless_billing_Yes               0.190075\n",
      "is_senior                               0.159932\n",
      "has_multiple_lines_Yes                  0.053031\n",
      "has_streaming_movies_Yes                0.051348\n",
      "has_streaming_tv_Yes                    0.038849\n",
      "has_phone_service_Yes                   0.015906\n",
      "is_male_Male                            0.000008\n",
      "has_multiple_lines_No phone service    -0.015906\n",
      "has_device_protection_Yes              -0.060108\n",
      "has_online_backup_Yes                  -0.068519\n",
      "payment_type_Mailed check              -0.090324\n",
      "payment_type_Credit card (automatic)   -0.127314\n",
      "has_partner_Yes                        -0.143203\n",
      "has_tech_support_Yes                   -0.159305\n",
      "has_dependents_Yes                     -0.163579\n",
      "has_online_security_Yes                -0.180834\n",
      "contract_type_One year                 -0.181010\n",
      "total_charges                          -0.193774\n",
      "internet_service_type_None             -0.230842\n",
      "contract_type_Two year                 -0.300652\n",
      "tenure_months                          -0.351807\n",
      "Name: did_churn_Yes, dtype: float64\n"
     ]
    }
   ],
   "source": [
    "'''\n",
    "Filter columns to only churn_yes and transpose table to see highest correlations\n",
    "'''\n",
    "\n",
    "corr_matrix = train.corr()\n",
    "print(corr_matrix[\"did_churn_Yes\"].sort_values(ascending=False))"
   ]
  },
  {
   "cell_type": "code",
   "execution_count": null,
   "id": "524283d9-a4fd-4134-8a22-bc6e5e08cda9",
   "metadata": {},
   "outputs": [],
   "source": [
    "What types of customers do we have?\n",
    "What services do we offer?\n",
    "What customer base contributes the most to churn?\n",
    "What service types contribute most to churn?\n",
    "What is our total revenue?\n",
    "What amount of revenue is impacted by the overall churn?\n",
    "What amount of revenue is impacted by the customer base that churns the most?\n",
    "What amount of revenue is impacted by the service type that churns the most?"
   ]
  },
  {
   "cell_type": "markdown",
   "id": "2a621b61-4f59-4a1f-aacb-2620edf9ca0e",
   "metadata": {},
   "source": [
    "### QUESTIONS ABOUT THE DATA"
   ]
  },
  {
   "cell_type": "markdown",
   "id": "5a4ac989-9783-48a2-8fea-f9cf2bfa3dba",
   "metadata": {},
   "source": [
    "#### QUESTION 1: What is the total monthly revenue for the company?"
   ]
  },
  {
   "cell_type": "code",
   "execution_count": null,
   "id": "a70c8e66-4366-44e3-a38f-4c5fdee846e1",
   "metadata": {},
   "outputs": [],
   "source": [
    "total_monthly_revenue_overall = explore_df.monthly_charges.sum()\n",
    "total_monthly_revenue_train = train.monthly_charges.sum()"
   ]
  },
  {
   "cell_type": "markdown",
   "id": "a57a4f1c-431b-440e-a154-1714de1f0002",
   "metadata": {},
   "source": [
    "#### ANSWER 1:"
   ]
  },
  {
   "cell_type": "code",
   "execution_count": null,
   "id": "1479337d-e384-457b-bde1-42ecd82f757e",
   "metadata": {},
   "outputs": [],
   "source": [
    "print(f' Overall Total Monthly Revenue = {total_monthly_revenue_overall:.2f}')\n",
    "print(f' Sample Total Monthly Revenue = {total_monthly_revenue_train:.2f}')"
   ]
  },
  {
   "cell_type": "markdown",
   "id": "274583bb-a1fe-477a-b196-79fbda8f0093",
   "metadata": {},
   "source": [
    "#### QUESTION 2: What is the amount of monthly revenue lost by those who have churned?"
   ]
  },
  {
   "cell_type": "code",
   "execution_count": null,
   "id": "184a8dd0-0130-45b8-a27b-a9258f4d790c",
   "metadata": {},
   "outputs": [],
   "source": [
    "churn_monthly_revenue_lost_overall= explore_df[explore_df.did_churn_Yes == 1].monthly_charges.sum()\n",
    "churn_monthly_revenue_lost_train = train[train.did_churn_Yes == 1].monthly_charges.sum()"
   ]
  },
  {
   "cell_type": "markdown",
   "id": "fe008571-0f0b-45be-b9ee-e4385f223d40",
   "metadata": {},
   "source": [
    "#### ANSWER 2:"
   ]
  },
  {
   "cell_type": "code",
   "execution_count": null,
   "id": "59c6261b-fa34-4fd7-8e8c-f30c3785134b",
   "metadata": {},
   "outputs": [],
   "source": [
    "print(f' Overall Total Monthly Revenue Lost to Churn = {churn_monthly_revenue_lost_overall:.2f}')\n",
    "print(f' Sample Total Monthly Revenue Lost to Churn = {churn_monthly_revenue_lost_train:.2f}')"
   ]
  },
  {
   "cell_type": "markdown",
   "id": "c5e99848-74b3-4d9c-bc54-37d64ecc8189",
   "metadata": {},
   "source": [
    "#### QUESTION 3: What is the percentage of revenue lost to those who churn?"
   ]
  },
  {
   "cell_type": "code",
   "execution_count": null,
   "id": "816cf759-af03-49e4-814f-564b70cbd6f3",
   "metadata": {},
   "outputs": [],
   "source": [
    "overall_percent_revenue_lost_to_churn = total_monthly_revenue_overall / churn_monthly_revenue_lost_overall\n",
    "sample_percent_revenue_lost_to_churn =  total_monthly_revenue_train / churn_monthly_revenue_lost_train "
   ]
  },
  {
   "cell_type": "markdown",
   "id": "3d02511d-25fc-4ad2-93e2-5b7547646247",
   "metadata": {},
   "source": [
    "#### Answer 3: "
   ]
  },
  {
   "cell_type": "code",
   "execution_count": null,
   "id": "ce37db3a-e759-4619-a624-e5232ea37eaa",
   "metadata": {},
   "outputs": [],
   "source": [
    "print(f' Overall Revenue Loss Rate = {overall_percent_revenue_lost_to_churn:.2f}')\n",
    "print(f' Sample Revenue Loss Rate = {sample_percent_revenue_lost_to_churn:.2f}')"
   ]
  },
  {
   "cell_type": "code",
   "execution_count": null,
   "id": "397dad98-6d95-4584-abe2-8f60db1aee73",
   "metadata": {},
   "outputs": [],
   "source": [
    "QUESTION 4: What is the total monthly revenue for the company?"
   ]
  },
  {
   "cell_type": "code",
   "execution_count": null,
   "id": "adbc8ca4-b4d5-4544-8e62-a4a43effc065",
   "metadata": {},
   "outputs": [],
   "source": [
    "QUESTION 4: What is the total monthly revenue for the company"
   ]
  },
  {
   "cell_type": "code",
   "execution_count": null,
   "id": "4598768c-d2cc-4f91-a998-84631c13d1e4",
   "metadata": {},
   "outputs": [],
   "source": [
    "QUESTION 4: What is the total monthly revenue for the company"
   ]
  },
  {
   "cell_type": "code",
   "execution_count": null,
   "id": "0c7abc7c-0afa-4dfb-b42f-9db1b650cd2e",
   "metadata": {},
   "outputs": [],
   "source": [
    "Answer 4: "
   ]
  },
  {
   "cell_type": "code",
   "execution_count": null,
   "id": "4e6ad781-bc0e-4e2a-9182-062c15f8babd",
   "metadata": {},
   "outputs": [],
   "source": []
  },
  {
   "cell_type": "code",
   "execution_count": null,
   "id": "f2d46568-d1b0-4eb3-9a94-ae7d6c98d068",
   "metadata": {},
   "outputs": [],
   "source": [
    "- What amount of revenue is impacted by the INTERNET SERVICE type that churns the most?"
   ]
  },
  {
   "cell_type": "markdown",
   "id": "46b0ba62-9067-419a-9d75-83ac65075650",
   "metadata": {
    "tags": []
   },
   "source": [
    "#### QUESTION 3: Is there a relationship between CONTRACT TYPE and churn?"
   ]
  },
  {
   "cell_type": "code",
   "execution_count": null,
   "id": "9a9b7fbb-179d-43bf-a7e0-071e65711b71",
   "metadata": {},
   "outputs": [],
   "source": [
    "print('Is there a relationship between contract type and churn?')\n",
    "pd.crosstab(X_train.contract_type, y_train, normalize='index').style.background_gradient(cmap='Blues')"
   ]
  },
  {
   "cell_type": "code",
   "execution_count": 70,
   "id": "ab15ce26-8b8c-4b81-a7a4-482cdbbcc992",
   "metadata": {},
   "outputs": [
    {
     "data": {
      "text/plain": [
       "<AxesSubplot:>"
      ]
     },
     "execution_count": 70,
     "metadata": {},
     "output_type": "execute_result"
    },
    {
     "data": {
      "image/png": "[encoded data removed]",
      "text/plain": [
       "<Figure size 432x288 with 1 Axes>"
      ]
     },
     "metadata": {},
     "output_type": "display_data"
    }
   ],
   "source": [
    "train.contract_type.hist()"
   ]
  },
  {
   "cell_type": "code",
   "execution_count": 71,
   "id": "5fcff111-7c11-4e92-9895-8c8d5d384027",
   "metadata": {},
   "outputs": [
    {
     "data": {
      "text/plain": [
       "customer_id                              object\n",
       "is_senior                                 int64\n",
       "tenure_months                             int64\n",
       "monthly_charges                         float64\n",
       "total_charges                           float64\n",
       "contract_type                            object\n",
       "internet_service_type                    object\n",
       "payment_type                             object\n",
       "is_male_Male                              uint8\n",
       "has_partner_Yes                           uint8\n",
       "has_dependents_Yes                        uint8\n",
       "has_phone_service_Yes                     uint8\n",
       "has_multiple_lines_No phone service       uint8\n",
       "has_multiple_lines_Yes                    uint8\n",
       "has_online_security_Yes                   uint8\n",
       "has_online_backup_Yes                     uint8\n",
       "has_device_protection_Yes                 uint8\n",
       "has_tech_support_Yes                      uint8\n",
       "has_streaming_tv_Yes                      uint8\n",
       "has_streaming_movies_Yes                  uint8\n",
       "has_paperless_billing_Yes                 uint8\n",
       "did_churn_Yes                             uint8\n",
       "contract_type_One year                    uint8\n",
       "contract_type_Two year                    uint8\n",
       "internet_service_type_Fiber optic         uint8\n",
       "internet_service_type_None                uint8\n",
       "payment_type_Credit card (automatic)      uint8\n",
       "payment_type_Electronic check             uint8\n",
       "payment_type_Mailed check                 uint8\n",
       "dtype: object"
      ]
     },
     "execution_count": 71,
     "metadata": {},
     "output_type": "execute_result"
    }
   ],
   "source": [
    "explore_df.dtypes"
   ]
  },
  {
   "cell_type": "markdown",
   "id": "b63bfa58-a842-4768-9ee4-b59abce3f930",
   "metadata": {
    "jp-MarkdownHeadingCollapsed": true,
    "tags": []
   },
   "source": [
    "#### Form a Hypothesis\n",
    "\n",
    "- H$_{0}$: Churn for customers with month to month contracts <= churn of all customers\n",
    "- H$_{a}$: Churn for customers with month to month contracts  > churn of all customers"
   ]
  },
  {
   "cell_type": "markdown",
   "id": "1500203a-4603-4e26-9706-ee9f7848b8db",
   "metadata": {
    "tags": []
   },
   "source": [
    "#### Set a Significance Level"
   ]
  },
  {
   "cell_type": "code",
   "execution_count": null,
   "id": "e279644c-902c-4ae4-a730-7e2c9d59d3a7",
   "metadata": {},
   "outputs": [],
   "source": [
    "α = 0.05"
   ]
  },
  {
   "cell_type": "markdown",
   "id": "1ebe3704-cccc-4a28-b234-10b9a7063391",
   "metadata": {},
   "source": [
    "#### Evaluate Assumptions\n",
    "- Normal: Yes!\n",
    "- Independent: Yes!\n",
    "- Variance:"
   ]
  },
  {
   "cell_type": "code",
   "execution_count": null,
   "id": "09f93167-fd86-4ad9-a3e6-2dab9c941582",
   "metadata": {},
   "outputs": [],
   "source": []
  },
  {
   "cell_type": "markdown",
   "id": "641e65d4-73f1-4a06-86f9-b6b86650c2da",
   "metadata": {},
   "source": [
    "#### ANSWER 3:\n",
    "- Customers with month to month contracts ('0')  appear to churn more frequently than other contract types ('1' & '2' year)."
   ]
  },
  {
   "cell_type": "markdown",
   "id": "759a7a01-cd6f-42ea-a635-4f9cee7b319d",
   "metadata": {},
   "source": [
    "### QUESTION 3:\n",
    "#### What amount of revenue is impacted by the CONTRACT TYPE that churns the most?"
   ]
  },
  {
   "cell_type": "code",
   "execution_count": null,
   "id": "9a24d4af-ec3e-4733-8f41-410483d825e1",
   "metadata": {},
   "outputs": [],
   "source": [
    "churn_sample = train[train.did_churn_Yes == 1].monthly_charges.sum()\n",
    "churn_sample"
   ]
  },
  {
   "cell_type": "markdown",
   "id": "13e99d32-0971-4e1f-886b-64a00f7d255e",
   "metadata": {},
   "source": []
  },
  {
   "cell_type": "markdown",
   "id": "fa4c5c79-720d-4dcc-aa12-4c355de4dbc1",
   "metadata": {},
   "source": [
    "#### ANSWER 3:\n",
    "- Customers with month to month contracts ('0')  appear to churn more frequently than other contract types ('1' & '2' year)."
   ]
  },
  {
   "cell_type": "markdown",
   "id": "671804a3-37ba-4585-b99b-c457ae6e2c29",
   "metadata": {
    "tags": []
   },
   "source": [
    "### QUESTION 4:Is there a relationship between INTERNET SERVICE type and churn?"
   ]
  },
  {
   "cell_type": "code",
   "execution_count": null,
   "id": "ce23020e-44ba-4e17-bc43-0c1b45f6c70b",
   "metadata": {},
   "outputs": [],
   "source": [
    "print('Is there a relationship between internet service type and churn?')\n",
    "pd.crosstab(X_train.internet_service_type, y_train, normalize='index').style.background_gradient(cmap='Blues')"
   ]
  },
  {
   "cell_type": "code",
   "execution_count": null,
   "id": "aeaa92ca-1776-4e0b-8b37-5c6af94d8ffa",
   "metadata": {},
   "outputs": [],
   "source": [
    "train.internet_service_type.hist()"
   ]
  },
  {
   "cell_type": "markdown",
   "id": "c424756a-a3e2-40b5-acb4-5fa58cdb1a0e",
   "metadata": {},
   "source": [
    "#### Form a Hypothesis\n",
    "\n",
    "- H$_{0}$: Churn for customers with fiber optic intenet <= churn of all customers\n",
    "- H$_{a}$: Churn for customers with fiber optic intenet > churn of all customers"
   ]
  },
  {
   "cell_type": "code",
   "execution_count": null,
   "id": "c2cd3b82-ca59-45d6-99cb-a2f3b7ce6af0",
   "metadata": {},
   "outputs": [],
   "source": [
    "#### Set a Significance Level\n",
    "α = 0.05"
   ]
  },
  {
   "cell_type": "markdown",
   "id": "a751dd15-d46d-4139-b8ae-67fc736e8124",
   "metadata": {},
   "source": [
    "- d. Assumptions\n",
    "Normal: Yes!\n",
    "Independent: Yes!\n",
    "Variance:"
   ]
  },
  {
   "cell_type": "markdown",
   "id": "7df900af-35e4-4ecc-ae06-58ad56adfd9b",
   "metadata": {},
   "source": [
    "#### ANSWER 4:\n",
    "- Customers with fiber optic internet appear to churn more frequently than other internet service types."
   ]
  },
  {
   "cell_type": "markdown",
   "id": "dd877316-cf46-44bb-bc00-3650ed0553c4",
   "metadata": {
    "tags": []
   },
   "source": [
    "### QUESTION 4: Is there a relationship between MONTHLY CHARGES and churn?"
   ]
  },
  {
   "cell_type": "code",
   "execution_count": null,
   "id": "40320923-7cdd-4b31-b116-2f2d011a945c",
   "metadata": {},
   "outputs": [],
   "source": [
    "sns.boxplot(data=train, y='monthly_charges', x='did_churn_Yes')\n",
    "plt.title('Do customers that churn pay more per month?')\n",
    "plt.show()\n"
   ]
  },
  {
   "cell_type": "markdown",
   "id": "2faf8ca7-5cd5-4332-8e97-95bec4870e24",
   "metadata": {},
   "source": [
    "### STATISTICAL TESTING"
   ]
  },
  {
   "cell_type": "markdown",
   "id": "6a53d097-11fb-45a2-b77f-076ab623961a",
   "metadata": {},
   "source": [
    "#### A. Plot Distribution"
   ]
  },
  {
   "cell_type": "code",
   "execution_count": null,
   "id": "6cf16132-1369-444a-85a9-8da1fb64d1a2",
   "metadata": {},
   "outputs": [],
   "source": [
    "train.monthly_charges.hist()\n",
    "plt.title('Monthly Charges for All Customers in Sample')\n",
    "plt.xlabel('Monthly Charges')\n",
    "plt.ylabel('# of Customers')\n",
    "\n",
    "churn_sample = train[train.did_churn_Yes == 1].monthly_charges\n",
    "churn_sample.hist(figsize=(14,7))\n",
    "\n",
    "plt.title('Monthly Charges for All Customers in Sample VS. Those Who Churned in Sample')\n",
    "plt.xlabel('Monthly Charges')\n",
    "plt.ylabel('# of Customers')\n",
    "plt.legend(labels = ['All Customers', 'Churned Customers'])\n",
    "plt.show"
   ]
  },
  {
   "cell_type": "code",
   "execution_count": null,
   "id": "43e44510-7670-472e-a03f-752fc2eaf68c",
   "metadata": {},
   "outputs": [],
   "source": [
    "plt.figure(figsize=(14,7))\n",
    "sns.histplot(train, x=train.monthly_charges, hue =  'did_churn_Yes', multiple = 'stack', legend = False)\n",
    "\n",
    "\n",
    "plt.title('Monthly Charges for All Customers in Sample VS. Those Who Churned in Sample', fontsize = 20)\n",
    "plt.xlabel('Monthly Charges', fontsize = 16)\n",
    "plt.ylabel('# of Customers', fontsize = 16)\n",
    "plt.legend(labels = ['All Customers', 'Churned Customers'], loc= 'best')\n",
    "plt.show"
   ]
  },
  {
   "cell_type": "markdown",
   "id": "9751f90c-3743-4d3f-b4b7-9f8ff807e781",
   "metadata": {},
   "source": [
    "#### B. Form a Hypothesis\n",
    "\n",
    "- H$_{0}$: Mean of monthly charges of churned customers <= Mean of monthly charges of all customers\n",
    "- H$_{a}$: Mean of monthly charges of churned customers > Mean of monthly charges of all customers"
   ]
  },
  {
   "cell_type": "markdown",
   "id": "803daea6-3455-48bb-9a26-844f18fa98d0",
   "metadata": {},
   "source": [
    "#### C. Select Appropriate Test\n",
    "- 1-Tailed, 1-Sample T-Test - Mean of Subgroup vs. Mean of Overall"
   ]
  },
  {
   "cell_type": "markdown",
   "id": "cc066e25-87b5-4917-a057-6f5e58d58d30",
   "metadata": {},
   "source": [
    "#### D. Set a Significance Level (Alpha)"
   ]
  },
  {
   "cell_type": "code",
   "execution_count": null,
   "id": "d4efac84-00c6-4e59-b4ab-460e2edf03a1",
   "metadata": {},
   "outputs": [],
   "source": [
    "alpha = 0.05"
   ]
  },
  {
   "cell_type": "markdown",
   "id": "7e0e26c7-37cd-4fdd-9823-dead29d0c728",
   "metadata": {},
   "source": [
    "#### E. Assumptions for 1 Sample T-Test\n",
    "- Normally Distributed: \n",
    "    - Yes, as evidenced by histograms above and sample size, which meets the assumptions of normal distribution.\n"
   ]
  },
  {
   "cell_type": "code",
   "execution_count": null,
   "id": "c0913a06-be40-4280-a0e5-b78a0197f562",
   "metadata": {},
   "outputs": [],
   "source": [
    "train.did_churn_Yes.value_counts()"
   ]
  },
  {
   "cell_type": "markdown",
   "id": "7dab1a54-1761-42e8-8071-105ab55b0eed",
   "metadata": {},
   "source": [
    "#### F. Compute test statistic and probability (t-statistic & p-value)"
   ]
  },
  {
   "cell_type": "code",
   "execution_count": null,
   "id": "1b837db7-df75-4f27-8739-2e9bb913d43c",
   "metadata": {},
   "outputs": [],
   "source": [
    "import scipy.stats as stats"
   ]
  },
  {
   "cell_type": "code",
   "execution_count": null,
   "id": "c71bbd6d-a809-4d96-82fc-272a8d368706",
   "metadata": {},
   "outputs": [],
   "source": [
    "churn_sample = train[train.did_churn_Yes == 1].monthly_charges\n",
    "overall_mean = train.monthly_charges.mean()\n",
    "\n",
    "t, p = stats.ttest_1samp(churn_sample, overall_mean)\n",
    "\n",
    "print(t, p/2, alpha)"
   ]
  },
  {
   "cell_type": "code",
   "execution_count": null,
   "id": "a1e84362-6d52-4139-ae2e-fc0ba1ff2214",
   "metadata": {},
   "outputs": [],
   "source": [
    "if p/2 > alpha:\n",
    "    print(\"We fail to reject $H_{0}$\")\n",
    "elif t < 0:\n",
    "    print(\"We fail to reject $H_{0}$\")\n",
    "else:\n",
    "    print(\"We reject $H_{0}$\")"
   ]
  },
  {
   "cell_type": "markdown",
   "id": "96276856-6e76-4835-89b5-2bbdce20654c",
   "metadata": {},
   "source": [
    "## V: MODEL & EVALUATE\n",
    "\n",
    "The goal is to create a robust and generalizable model that is a mapping between features and a target outcome."
   ]
  },
  {
   "cell_type": "code",
   "execution_count": null,
   "id": "95d64d8d-cc07-495c-990b-92a6097bb089",
   "metadata": {},
   "outputs": [],
   "source": [
    "X_train, y_train = train.drop(columns='did_churn_Yes'), train['did_churn_Yes']\n",
    "X_val, y_val = validate.drop(columns='did_churn_Yes'), validate['did_churn_Yes']"
   ]
  },
  {
   "cell_type": "markdown",
   "id": "9edede78-b273-4899-b1a2-086780f067b6",
   "metadata": {
    "tags": []
   },
   "source": [
    "### QUESTION 2: Is there a relationship between CONTRACT TYPE and churn?"
   ]
  },
  {
   "cell_type": "markdown",
   "id": "f5c5962e-4b04-443b-898d-c9bc69799663",
   "metadata": {
    "tags": []
   },
   "source": [
    "### QUESTION 3: Is there a relationship between INTERNET SERVICE type and churn?"
   ]
  },
  {
   "cell_type": "markdown",
   "id": "351513ba-d275-463c-a7bb-9e44b233f2ac",
   "metadata": {},
   "source": [
    "### QUESTION 4: Is there a relationship between MONTHLY CHARGES and churn?"
   ]
  },
  {
   "cell_type": "markdown",
   "id": "f906acd5-e680-4492-a313-c153f0cf52df",
   "metadata": {},
   "source": [
    "###  Set Baseline"
   ]
  },
  {
   "cell_type": "code",
   "execution_count": null,
   "id": "52375257-2227-41ba-aa6c-b0a31e2f986b",
   "metadata": {},
   "outputs": [],
   "source": [
    "train.did_churn_Yes.value_counts()"
   ]
  },
  {
   "cell_type": "code",
   "execution_count": null,
   "id": "490794c3-a118-4e2e-a815-1839c9956322",
   "metadata": {},
   "outputs": [],
   "source": [
    "# Obtain the mode for the target\n",
    "baseline = y_train.mode()\n",
    "\n",
    "# produce boolean array with True assigned to match the baseline prediction and real data. \n",
    "matches_baseline_prediction = (y_train == 0)\n",
    "\n",
    "baseline_accuracy = matches_baseline_prediction.mean()\n",
    "\n",
    "print(f'Baseline Accuracy: {baseline_accuracy:.2%}')"
   ]
  },
  {
   "cell_type": "code",
   "execution_count": null,
   "id": "16216f8b-3e82-4f65-9c18-d6cf883e62fa",
   "metadata": {},
   "outputs": [],
   "source": [
    "categorical_columns = list(clean_df.dtypes[clean_df.dtypes == 'object'].index)\n",
    "categorical_columns"
   ]
  },
  {
   "cell_type": "code",
   "execution_count": null,
   "id": "be6d2c1b-c299-4f12-b658-69a1fd2927a6",
   "metadata": {},
   "outputs": [],
   "source": [
    "train = train.drop(columns=['customer_id', 'contract_type', 'internet_service_type', 'payment_type'])\n",
    "train.head()"
   ]
  },
  {
   "cell_type": "code",
   "execution_count": null,
   "id": "64f0873b-a4fa-4ee1-a344-fc0dc9679ff3",
   "metadata": {},
   "outputs": [],
   "source": [
    "validate = validate.drop(columns=['customer_id', 'contract_type', 'internet_service_type', 'payment_type'])\n",
    "validate.head()"
   ]
  },
  {
   "cell_type": "code",
   "execution_count": null,
   "id": "65fa2300-7708-40c6-bbf0-8bd58a7dd127",
   "metadata": {},
   "outputs": [],
   "source": [
    "test = test.drop(columns=['customer_id', 'contract_type', 'internet_service_type', 'payment_type'])"
   ]
  },
  {
   "cell_type": "markdown",
   "id": "088391fd-8338-4664-a61c-1a679a3d0574",
   "metadata": {},
   "source": [
    "###  Set X & y"
   ]
  },
  {
   "cell_type": "code",
   "execution_count": null,
   "id": "e3304920-4001-42ed-9b38-d15442d3bdbc",
   "metadata": {},
   "outputs": [],
   "source": [
    "X_train, y_train = train.drop(columns='did_churn_Yes'), train['did_churn_Yes']\n",
    "X_val, y_val = validate.drop(columns='did_churn_Yes'), validate['did_churn_Yes']"
   ]
  },
  {
   "cell_type": "markdown",
   "id": "9185c598-bf18-4a94-b359-f3c1e109cfd2",
   "metadata": {},
   "source": [
    "### Train Model"
   ]
  },
  {
   "cell_type": "markdown",
   "id": "07cd2257-c283-4b48-89b8-156b4526b9a8",
   "metadata": {},
   "source": [
    "#### Create the object"
   ]
  },
  {
   "cell_type": "code",
   "execution_count": null,
   "id": "8e51b9de-5cb2-468c-984f-5a74e2ff2c82",
   "metadata": {},
   "outputs": [],
   "source": [
    "clf1 = DecisionTreeClassifier(max_depth=2, random_state=123)"
   ]
  },
  {
   "cell_type": "markdown",
   "id": "1d5b3544-1203-4785-bf2d-844bf4f805c3",
   "metadata": {},
   "source": [
    "#### Fit the Model"
   ]
  },
  {
   "cell_type": "code",
   "execution_count": null,
   "id": "609f7db9-cadc-48b8-b60b-35c7eaf6843c",
   "metadata": {},
   "outputs": [],
   "source": [
    "clf1 = clf1.fit(X_train, y_train)"
   ]
  },
  {
   "cell_type": "markdown",
   "id": "d4b14e09-c8f2-492d-9c28-58d6125705fb",
   "metadata": {},
   "source": [
    "#### Visualize a Decision Tree"
   ]
  },
  {
   "cell_type": "code",
   "execution_count": null,
   "id": "e04feccb-e3f1-4d87-8323-0f86139e7655",
   "metadata": {},
   "outputs": [],
   "source": [
    "plt.figure(figsize=(22, 12))\n",
    "plot_tree(clf1,feature_names=X_train.columns)"
   ]
  },
  {
   "cell_type": "markdown",
   "id": "fc6b19cb-17d4-493a-82e2-b9e44497e634",
   "metadata": {},
   "source": [
    "#### Make Predictions "
   ]
  },
  {
   "cell_type": "code",
   "execution_count": null,
   "id": "d36affd9-c8db-42cb-aeac-e7ad8a0aa91b",
   "metadata": {},
   "outputs": [],
   "source": [
    "y_pred = clf1.predict(X_train)\n",
    "y_pred[0:20]"
   ]
  },
  {
   "cell_type": "markdown",
   "id": "597911cf-0999-4ee2-995c-06b448ea353e",
   "metadata": {},
   "source": [
    "#### Estimate Probability"
   ]
  },
  {
   "cell_type": "code",
   "execution_count": null,
   "id": "2e71867b-dae4-400a-b4d7-d2963f805214",
   "metadata": {},
   "outputs": [],
   "source": [
    "y_pred_proba = clf1.predict_proba(X_train)\n",
    "pd.DataFrame(y_pred_proba, columns = ['No Churn', 'Churn'])"
   ]
  },
  {
   "cell_type": "markdown",
   "id": "db1bdc7a-f8e9-4fa3-9977-0e1db8edc960",
   "metadata": {},
   "source": [
    "### Evaluate Model"
   ]
  },
  {
   "cell_type": "markdown",
   "id": "49439955-d699-4670-b4b8-0175b948aa0d",
   "metadata": {},
   "source": [
    "#### Compute Accuracy"
   ]
  },
  {
   "cell_type": "code",
   "execution_count": null,
   "id": "da1998bd-f80a-4d39-97fe-b6a7ead1918e",
   "metadata": {},
   "outputs": [],
   "source": [
    "print('Accuracy of Decision Tree classifier on training set: {:.2f}'\n",
    "      .format(clf1.score(X_train, y_train)))"
   ]
  },
  {
   "cell_type": "markdown",
   "id": "fdeb5c23-0d54-4fb0-916c-1eeb1020f52d",
   "metadata": {},
   "source": [
    "#### Create a Confusion Matrix\n",
    "\n",
    "- True Positive: number of occurrences where y is true and y is predicted true.\n",
    "- True Negative: number of occurrences where y is false and y is predicted false.\n",
    "- False Positive: number of occurrences where y is false and y is predicted true.\n",
    "- False Negative: number of occurrences where y is true and y is predicted false."
   ]
  },
  {
   "cell_type": "code",
   "execution_count": null,
   "id": "60497ec0-4bef-45b2-922f-df9767c05e22",
   "metadata": {},
   "outputs": [],
   "source": [
    "confusion_matrix(y_train, y_pred)"
   ]
  },
  {
   "cell_type": "code",
   "execution_count": null,
   "id": "5f4c23cf-b3a9-486a-a551-caa1dafd6a78",
   "metadata": {},
   "outputs": [],
   "source": [
    "y_train.value_counts()"
   ]
  },
  {
   "cell_type": "code",
   "execution_count": null,
   "id": "8e1bc434-9729-4ea5-a59e-89631ad79546",
   "metadata": {},
   "outputs": [],
   "source": [
    "labels = sorted(y_train.unique())\n",
    "\n",
    "pd.DataFrame(confusion_matrix(y_train, y_pred), index=labels, columns=labels)"
   ]
  },
  {
   "cell_type": "markdown",
   "id": "7441d00e-2bb5-4a2b-8419-23e6727664c0",
   "metadata": {},
   "source": [
    "#### Create a Classificaiton Report"
   ]
  },
  {
   "cell_type": "code",
   "execution_count": null,
   "id": "0659f3f9-5dda-439c-a96a-4511acd0e2a1",
   "metadata": {},
   "outputs": [],
   "source": [
    "print(classification_report(y_train, y_pred))"
   ]
  },
  {
   "cell_type": "markdown",
   "id": "eecfa2c2-e05c-4490-b98d-598dc6077d7e",
   "metadata": {},
   "source": [
    "### Evaluate the Model with our Validate dataset"
   ]
  },
  {
   "cell_type": "code",
   "execution_count": null,
   "id": "0c89d4f5-8870-4b8b-8d3b-f47e631028aa",
   "metadata": {},
   "outputs": [],
   "source": [
    "print('Accuracy of Decision Tree classifier on validate set: {:.2f}'\n",
    "     .format(clf1.score(X_validate, y_validate)))"
   ]
  },
  {
   "cell_type": "code",
   "execution_count": null,
   "id": "6fdc56fc-3ee6-438b-aa2c-6f465a2b2eae",
   "metadata": {},
   "outputs": [],
   "source": [
    "# And since accuracy isn't everything\n",
    "\n",
    "# Produce y_predictions that come from the X_validate\n",
    "y_pred = clf.predict(X_validate)\n",
    "\n",
    "# Compare actual y values (from validate) to predicted y_values from the model run on X_validate\n",
    "print(classification_report(y_validate, y_pred))"
   ]
  },
  {
   "cell_type": "code",
   "execution_count": null,
   "id": "c472afe3-8779-46f6-b13e-dcff83accc6b",
   "metadata": {},
   "outputs": [],
   "source": []
  },
  {
   "cell_type": "code",
   "execution_count": null,
   "id": "f2b04064-bd51-4034-ba89-3e0d5e8fc3a4",
   "metadata": {},
   "outputs": [],
   "source": []
  },
  {
   "cell_type": "code",
   "execution_count": null,
   "id": "f200a362-d3bd-4129-8d1d-d28df94114a6",
   "metadata": {},
   "outputs": [],
   "source": [
    "# Model 1\n",
    "\n",
    "positive = '0'\n",
    "\n",
    "model_accuracy = (df.model1 == df.actual).mean()\n",
    "baseline_accuracy = (df.baseline == df.actual).mean()\n",
    "\n",
    "# precision -- how good are our positive predictions?\n",
    "# precision -- model performance | predicted positive\n",
    "subset = df[df.model1  == positive]\n",
    "model_precision = (subset.model1  == subset.actual).mean()\n",
    "subset = df[df.baseline == positive]\n",
    "baseline_precision = (subset.baseline == subset.actual).mean()\n",
    "\n",
    "# recall -- how good are we at detecting actual positives?\n",
    "# recall -- model performance | actual positive\n",
    "subset = df[df.actual == positive]\n",
    "model_recall = (subset.model1  == subset.actual).mean()\n",
    "baseline_recall = (subset.baseline == subset.actual).mean()\n",
    "\n",
    "\n",
    "print(f'   model 1 accuracy: {model_accuracy:.2%}')\n",
    "print(f'baseline accuracy: {baseline_accuracy:.2%}')\n",
    "print()\n",
    "print(f'   model 1 recall: {model_recall:.2%}')\n",
    "print(f'baseline recall: {baseline_recall:.2%}')\n",
    "print()\n",
    "print(f'   model 1 precision: {model_precision:.2%}')\n",
    "print(f'baseline precision: {baseline_precision:.2%}')"
   ]
  },
  {
   "cell_type": "code",
   "execution_count": null,
   "id": "012b7f2d-58ee-47ae-8170-28e56ac2aa7b",
   "metadata": {},
   "outputs": [],
   "source": []
  },
  {
   "cell_type": "code",
   "execution_count": null,
   "id": "2a144793-067d-421d-91d3-bf069cb3c0e5",
   "metadata": {},
   "outputs": [],
   "source": []
  },
  {
   "cell_type": "code",
   "execution_count": null,
   "id": "dd22ffe4-717f-49c0-8fb8-d0d7697818dc",
   "metadata": {},
   "outputs": [],
   "source": []
  },
  {
   "cell_type": "code",
   "execution_count": null,
   "id": "36cc2b88-0fbe-4803-b049-69ea0024531a",
   "metadata": {},
   "outputs": [],
   "source": []
  },
  {
   "cell_type": "code",
   "execution_count": null,
   "id": "888ae8ea-e1ef-4c21-ad68-95ebd58eb5f3",
   "metadata": {},
   "outputs": [],
   "source": []
  },
  {
   "cell_type": "code",
   "execution_count": null,
   "id": "4b0a9f58-7047-4046-933d-bdd820cf822f",
   "metadata": {},
   "outputs": [],
   "source": []
  },
  {
   "cell_type": "code",
   "execution_count": null,
   "id": "e202e1a4-5a8a-4489-b9e5-8181fe73a2c9",
   "metadata": {},
   "outputs": [],
   "source": []
  },
  {
   "cell_type": "code",
   "execution_count": null,
   "id": "39bb8668-b804-444c-9375-c06d62aa4a4a",
   "metadata": {},
   "outputs": [],
   "source": [
    "model1 = DecisionTreeClassifier(max_depth=2)\n",
    "model1.fit(X_train[features], y_train)\n",
    "accuracy = model1.score(X_validate[features], y_validate)\n",
    "print(f'Model 1 Accuracy: {accuracy:.2%}')"
   ]
  },
  {
   "cell_type": "code",
   "execution_count": null,
   "id": "d12ff022-9413-46a4-b18a-f1bc2d5f5dc5",
   "metadata": {},
   "outputs": [],
   "source": [
    "plt.figure(figsize=(13, 7))\n",
    "plot_tree(model1, feature_names=features, class_names=['No Churn', 'Churn'])\n",
    "plt.show()"
   ]
  },
  {
   "cell_type": "markdown",
   "id": "c371e084-9426-47ef-b7e9-cb1ce86134b3",
   "metadata": {},
   "source": [
    "Answer key questions, your hypotheses, and figure out the drivers of churn. You are required to run at least 2 statistical tests in your data exploration. Make sure you document your hypotheses, set your alpha before running the tests, and document your findings well.\n",
    "Create visualizations and run statistical tests that work toward discovering variable relationships (independent with independent and independent with dependent). The goal is to identify features that are related to churn (your target), identify any data integrity issues, and understand 'how the data works'. If there appears to be some sort of interaction or correlation, assume there is no causal relationship and brainstorm (and document) ideas on reasons there could be correlation.\n",
    "For example: We may find that all who have online services also have device protection. In that case, we don't need both of those.\n",
    "Below are some questions you might decide to explore in this stage:\n",
    "If a group is identified by tenure, is there a cohort or cohorts who have a higher rate of churn than other cohorts?\n",
    "For Example: You might plot the rate of churn on a line chart where x is the tenure and y is the rate of churn (customers churned/total customers)\n",
    "Are there features that indicate a higher propensity to churn?\n",
    "For Example: type of internet service, type of phone service, online security and backup, senior citizens, paying more than x% of customers with the same services, etc.\n",
    "Is there a price threshold for specific services where the likelihood of churn increases once price for those services goes past that point? If so, what is that point for what service(s)?\n",
    "If we looked at churn rate for month-to-month customers after the 12th month and that of 1-year contract customers after the 12th month, are those rates comparable?\n",
    "Controlling for services (phone_id, internet_service_type_id, online_security_backup, device_protection, tech_support, and contract_type_id), is the mean monthly_charges of those who have churned significantly different from that of those who have not churned? (Use a t-test to answer this.)\n",
    "How much of monthly_charges can be explained by internet_service_type?\n",
    "Hint: Run a correlation test. State your hypotheses and document your findings clearly.\n",
    "How much of monthly_charges can be explained by internet_service_type + phone_service_type (0, 1, or multiple lines).\n"
   ]
  },
  {
   "cell_type": "code",
   "execution_count": null,
   "id": "672bb7ad-426b-47bd-89aa-444a225d4655",
   "metadata": {},
   "outputs": [],
   "source": []
  },
  {
   "cell_type": "code",
   "execution_count": null,
   "id": "2480653e-ded2-4541-ab52-5ffb665c7b3e",
   "metadata": {},
   "outputs": [],
   "source": [
    "model1 = DecisionTreeClassifier(max_depth=2)\n",
    "model1.fit(X_train[features], y_train)\n",
    "accuracy = model1.score(X_validate[features], y_validate)\n",
    "print(f'Model 1 Accuracy: {accuracy:.2%}')"
   ]
  },
  {
   "cell_type": "code",
   "execution_count": null,
   "id": "851ed6fa-cb10-4eaa-89c8-549415da3ef9",
   "metadata": {},
   "outputs": [],
   "source": [
    "observed = pd.crosstab(train.internet_service_type, train.did_churn_Yes, margins=True)\n",
    "observed"
   ]
  },
  {
   "cell_type": "code",
   "execution_count": null,
   "id": "d772fa11-a99f-432d-ac05-a38f11f248f6",
   "metadata": {},
   "outputs": [],
   "source": [
    "# set our alpha\n",
    "alpha = 0.05"
   ]
  },
  {
   "cell_type": "code",
   "execution_count": null,
   "id": "8ac5119a-3a86-49c0-95cf-0500084fac26",
   "metadata": {},
   "outputs": [],
   "source": []
  },
  {
   "cell_type": "markdown",
   "id": "b7f3a51e-c151-4f18-ad48-854605fd938c",
   "metadata": {},
   "source": [
    "## VI: DELIVERY\n",
    "The goal is to enable others to use what you have learned or developed through all the previous stages."
   ]
  },
  {
   "cell_type": "markdown",
   "id": "3cf83f9e-821d-4dd8-9b7e-9f59ab61cb4f",
   "metadata": {},
   "source": [
    "Questions:\n",
    "1. Do those who churn spend more than those who don't?\n",
    "\n",
    "2. Are certain internet types more likely to churn?"
   ]
  },
  {
   "cell_type": "markdown",
   "id": "3ff48603-5e40-414d-9961-4623dbc93797",
   "metadata": {},
   "source": [
    "#### T-Test"
   ]
  },
  {
   "cell_type": "markdown",
   "id": "2fc80bb9-ee97-41a8-a57a-d412ec86f28b",
   "metadata": {},
   "source": [
    "- H0: The monthly charges for those who churn are <= the monthly charges for those who do not churn.\n",
    "- Ha: The monthly charges for those who churn are > the monthly charnges for those who do not churn"
   ]
  },
  {
   "cell_type": "code",
   "execution_count": null,
   "id": "1097aa9b-3bb6-4edd-81a2-09e4284b7823",
   "metadata": {},
   "outputs": [],
   "source": [
    "train."
   ]
  },
  {
   "cell_type": "code",
   "execution_count": null,
   "id": "0a6682e7-598f-4cad-82c1-90950121e5fd",
   "metadata": {},
   "outputs": [],
   "source": [
    "#T-Test across 2 groups - boolean comparison of means - subgroup vs. subgroup\n",
    "\n",
    "\n",
    "Verify Assumptions: \n",
    "    Normal Distribution\n",
    "\n"
   ]
  },
  {
   "cell_type": "markdown",
   "id": "882b6561-321b-4961-abc2-7ceda33c3c0a",
   "metadata": {},
   "source": [
    "- H0: The churn rate for fiber-optic month-to-month customers >= than the churn rate for all internet customers. \n",
    "- Ha: The churn rate for fiber-optic month-to-month customers < than the churn rate for all internet customers. "
   ]
  },
  {
   "cell_type": "code",
   "execution_count": null,
   "id": "968317a5-2ae9-4679-9cbe-cc03803e7ccd",
   "metadata": {},
   "outputs": [],
   "source": [
    "Comparison of realtionships (boolean vs. boolean)\n"
   ]
  },
  {
   "cell_type": "code",
   "execution_count": null,
   "id": "b5b55163-88e0-40af-ad07-90b2dc5e4673",
   "metadata": {},
   "outputs": [],
   "source": []
  },
  {
   "cell_type": "code",
   "execution_count": null,
   "id": "3662528b-7429-4267-9dad-ee4b00b8197e",
   "metadata": {},
   "outputs": [],
   "source": []
  },
  {
   "cell_type": "code",
   "execution_count": null,
   "id": "1888f03c-4502-4d66-9798-856fe11a731d",
   "metadata": {},
   "outputs": [],
   "source": [
    "catcols = [col for col in acquire_df.columns if acquire_df[col].dtype == 'O']"
   ]
  },
  {
   "cell_type": "code",
   "execution_count": null,
   "id": "15a847e1-27a7-4cc3-b2a3-59dac7167d07",
   "metadata": {},
   "outputs": [],
   "source": [
    "for col in catcols:\n",
    "    print(f'Column: {col}')\n",
    "    print(acquire_df[col].value_counts())\n",
    "    print('-------')\n",
    "    print(acquire_df[col].value_counts(normalize=True, dropna=False))\n",
    "    print('====================')"
   ]
  }
 ],
 "metadata": {
  "kernelspec": {
   "display_name": "Python 3 (ipykernel)",
   "language": "python",
   "name": "python3"
  },
  "language_info": {
   "codemirror_mode": {
    "name": "ipython",
    "version": 3
   },
   "file_extension": ".py",
   "mimetype": "text/x-python",
   "name": "python",
   "nbconvert_exporter": "python",
   "pygments_lexer": "ipython3",
   "version": "3.9.7"
  }
 },
 "nbformat": 4,
 "nbformat_minor": 5
}
