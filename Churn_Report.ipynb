{
 "cells": [
  {
   "cell_type": "markdown",
   "id": "1d6d90b2-11d6-40aa-9fed-6eb0a68fb332",
   "metadata": {},
   "source": [
    "# Telco Churn Project - Working Notebook\n",
    "Project & Report Crated By: Rachel Robbins-Mayhill 2022-03-14"
   ]
  },
  {
   "cell_type": "code",
   "execution_count": null,
   "id": "2458fd23-becc-4971-a93f-a4d3919f4ff9",
   "metadata": {},
   "outputs": [],
   "source": [
    "Image"
   ]
  },
  {
   "cell_type": "markdown",
   "id": "2cdde895-5b25-4309-ad26-7e8656a82ea9",
   "metadata": {},
   "source": [
    "## PROJECT DESCRIPTION"
   ]
  },
  {
   "cell_type": "markdown",
   "id": "36d5c233-e476-44af-9eb9-ab4eb32c7b72",
   "metadata": {},
   "source": [
    "With an ever-competitive business market, it is vital to understand your customer base and what drives them to stay with your company.  This can help you maximize retention and stabilize revenue in order to plan for next steps and continue to grow as a business. It is far less expensive to keep an existing customer than it is to acquire a new one for the long term. Therefore, it is important to identify drivers causing customers to leave your business. When you know WHY customers are leaving, you can take steps to help keep customers satisfied, ultimately preventing attrition and retaining current customers for the long term. Customer retention is not only important for maintaining revenue, but it allows room to continue to plan for growth while knowing you have a steady financial foundation. \n",
    "\n",
    "This report will identify key drivers of churn for the Telco dataset and use modeling and statistics to identify ways to prevent churn in the future. Churn is another term for attrition and is represented by the percentage of customers who stop doing business with the company. Ultimately this report will provide a recommendation that could be used by Telco or other customer-based service companies to decrease churn and maximize retention."
   ]
  },
  {
   "cell_type": "markdown",
   "id": "01e83306-8055-4b80-9cc6-710cd996cf90",
   "metadata": {},
   "source": [
    "### PROJECT GOAL"
   ]
  },
  {
   "cell_type": "markdown",
   "id": "80e418e0-8e97-46b6-aba7-36ef69a85b27",
   "metadata": {},
   "source": [
    "The goal of this report is to identify key drivers of churn for Teleco, a telecommunications company, and make recommendations to reduce churn in order to increase customer retention, and ultimately increase revenue. Through machine learning and statistical analysis, predictions of future churn will be identified and recommendations for prevention will be made in order to improve customer retention."
   ]
  },
  {
   "cell_type": "markdown",
   "id": "1652ff6b-bdec-4018-98aa-a198237af884",
   "metadata": {},
   "source": [
    "### INITIAL QUESTIONS?????"
   ]
  },
  {
   "cell_type": "markdown",
   "id": "efefb589-e981-4128-baea-f014d01f29ee",
   "metadata": {},
   "source": [
    "To look at the data, some supporting programs are needed. The required supplemental libraries and modules are imported below."
   ]
  },
  {
   "cell_type": "code",
   "execution_count": 1,
   "id": "4b4887c9-3804-4660-9cb5-ebc28c9eb3eb",
   "metadata": {},
   "outputs": [],
   "source": [
    "# import python linraries\n",
    "import pandas as pd\n",
    "import numpy as np\n",
    "import scipy.stats as stats\n",
    "\n",
    "# import modules and created functions\n",
    "import acquire\n",
    "import prepare\n",
    "\n",
    "\n",
    "# import visualization tools\n",
    "import matplotlib.pyplot as plt\n",
    "import seaborn as sns\n",
    "from sklearn.tree import DecisionTreeClassifier, plot_tree\n",
    "\n",
    "# import machine-learning python library elements \n",
    "from sklearn.dummy import DummyClassifier\n",
    "from sklearn.model_selection import train_test_split\n",
    "\n",
    "from sklearn.metrics import classification_report\n",
    "from sklearn.metrics import confusion_matrix\n",
    "\n",
    "from sklearn.ensemble import RandomForestClassifier\n",
    "from sklearn.neighbors import KNeighborsClassifier\n",
    "from sklearn.linear_model import LogisticRegression\n",
    "\n",
    "# eliminate pesky warnings about future changes to libraries from popping up\n",
    "import warnings\n",
    "warnings.filterwarnings('ignore')"
   ]
  },
  {
   "cell_type": "code",
   "execution_count": null,
   "id": "8408ab11-241e-41c1-a552-bdd910cf6550",
   "metadata": {},
   "outputs": [],
   "source": [
    "# build a viz here setting the context of the data "
   ]
  },
  {
   "cell_type": "code",
   "execution_count": null,
   "id": "eaa6cae7-9e83-4048-8e19-b8c5ae06cdb8",
   "metadata": {},
   "outputs": [],
   "source": [
    "print(acquire_df.churn.value_counts())\n",
    "acquire_df.churn.value_counts().plot.bar()\n",
    "plt.title('Overall Churn')\n",
    "plt.xlabel('Churn')\n",
    "plt.ylabel('# Of Customers')\n",
    "plt.tight_layout()\n",
    "plt.show()"
   ]
  },
  {
   "cell_type": "markdown",
   "id": "dce28281-3b32-4ea9-9555-4b6002ab3466",
   "metadata": {},
   "source": [
    "---"
   ]
  },
  {
   "cell_type": "markdown",
   "id": "ae7f581e-b742-4bc7-9189-b9d0433576ea",
   "metadata": {},
   "source": [
    "## ACQUISITION & PREPARATION of DATA"
   ]
  },
  {
   "cell_type": "markdown",
   "id": "12e53440-8fa0-45ef-8b5a-1ff1030fc8e6",
   "metadata": {},
   "source": [
    "#### I. Acquire the Data"
   ]
  },
  {
   "cell_type": "markdown",
   "id": "128fd163-3e22-45f8-b5ef-2a256ad30646",
   "metadata": {},
   "source": [
    "The data for this report was acquired by accessing 'telco_churn' from the Codeup SQL database. By combining all columns from four tables within the database;`customers`, `contract_types`, `internet_service_types`, and `payment_types.`"
   ]
  },
  {
   "cell_type": "code",
   "execution_count": 2,
   "id": "c6ac67f2-5849-42b5-aa10-f49a8b5afa1b",
   "metadata": {},
   "outputs": [
    {
     "name": "stdout",
     "output_type": "stream",
     "text": [
      "Reading from csv file...\n"
     ]
    }
   ],
   "source": [
    "acquire_df = acquire.get_telco_data()"
   ]
  },
  {
   "cell_type": "markdown",
   "id": "edc437f2-a4b3-48db-9428-deac77e1bb54",
   "metadata": {},
   "source": [
    "#### II. Prepare the Data"
   ]
  },
  {
   "cell_type": "markdown",
   "id": "c5686564-e953-48a5-bf4a-72a2f17a1823",
   "metadata": {},
   "source": [
    "Once acquired, a new table (Dataframe) containing all necessary data was created.  This new table was then analyzed and adjusted to eliminate data errors, clarify confusion, and code non-numeric data into more useful numeric types. "
   ]
  },
  {
   "cell_type": "markdown",
   "id": "d6913632-c0fb-4ba9-a94f-3e21c3f8998c",
   "metadata": {},
   "source": [
    "Some of the data correction strategies that were employed were:\n",
    "    \n",
    "- Addressing Missing Data\n",
    "    - Dropping 11 missing values from total charges, as it was a very small portion of our data\n",
    "    \n",
    "- Dropping Unnecessary Columns\n",
    "    - 'payment_type_id', 'internet_service_type_id', 'contract_type_id' had duplicate data, providing the same information as payment_type, internet_service_type, and contract_type \n",
    "    \n",
    "- Rename Columns\n",
    "    - Adding verbs 'is' or 'has' to column names for ease of data understanding after converting word values to numeric values\n",
    "    \n",
    "- Standardize Data Types\n",
    "    - Adjusted monetary columns to have matching data types for ease of use\n",
    "    \n",
    "- Create Numeric Data Types for Data that was in Word From\n",
    "    - The following columns needed to be transformed to numeric values: 'gender', 'partner', 'dependents', 'phone_service', 'multiple_lines', 'online_security','online_backup', 'device_protection', 'tech_support', 'streaming_tv', 'streaming_movies','paperless_billing', 'churn', 'contract_type', 'internet_service_type', 'payment_type'\n"
   ]
  },
  {
   "cell_type": "markdown",
   "id": "da1e954e-d171-4966-88a1-17d243cc2faa",
   "metadata": {},
   "source": [
    "#### Results of Preparing the Data\n",
    "The results of the acquisition and preparation phases resulted in data that was ready to explore. "
   ]
  },
  {
   "cell_type": "code",
   "execution_count": 3,
   "id": "2ec92b25-6fde-4fbc-bb67-23335e564759",
   "metadata": {},
   "outputs": [
    {
     "name": "stdout",
     "output_type": "stream",
     "text": [
      "<class 'pandas.core.frame.DataFrame'>\n",
      "Int64Index: 7032 entries, 0 to 7042\n",
      "Data columns (total 35 columns):\n",
      " #   Column                                     Non-Null Count  Dtype  \n",
      "---  ------                                     --------------  -----  \n",
      " 0   customer_id                                7032 non-null   object \n",
      " 1   is_senior                                  7032 non-null   int64  \n",
      " 2   tenure_months                              7032 non-null   int64  \n",
      " 3   monthly_charges                            7032 non-null   float64\n",
      " 4   total_charges                              7032 non-null   float64\n",
      " 5   contract_type                              7032 non-null   object \n",
      " 6   internet_service_type                      7032 non-null   object \n",
      " 7   payment_type                               7032 non-null   object \n",
      " 8   is_male_Male                               7032 non-null   uint8  \n",
      " 9   has_partner_Yes                            7032 non-null   uint8  \n",
      " 10  has_dependents_Yes                         7032 non-null   uint8  \n",
      " 11  has_phone_service_Yes                      7032 non-null   uint8  \n",
      " 12  has_multiple_lines_No phone service        7032 non-null   uint8  \n",
      " 13  has_multiple_lines_Yes                     7032 non-null   uint8  \n",
      " 14  has_online_security_No internet service    7032 non-null   uint8  \n",
      " 15  has_online_security_Yes                    7032 non-null   uint8  \n",
      " 16  has_online_backup_No internet service      7032 non-null   uint8  \n",
      " 17  has_online_backup_Yes                      7032 non-null   uint8  \n",
      " 18  has_device_protection_No internet service  7032 non-null   uint8  \n",
      " 19  has_device_protection_Yes                  7032 non-null   uint8  \n",
      " 20  has_tech_support_No internet service       7032 non-null   uint8  \n",
      " 21  has_tech_support_Yes                       7032 non-null   uint8  \n",
      " 22  has_streaming_tv_No internet service       7032 non-null   uint8  \n",
      " 23  has_streaming_tv_Yes                       7032 non-null   uint8  \n",
      " 24  has_streaming_movies_No internet service   7032 non-null   uint8  \n",
      " 25  has_streaming_movies_Yes                   7032 non-null   uint8  \n",
      " 26  has_paperless_billing_Yes                  7032 non-null   uint8  \n",
      " 27  did_churn_Yes                              7032 non-null   uint8  \n",
      " 28  contract_type_One year                     7032 non-null   uint8  \n",
      " 29  contract_type_Two year                     7032 non-null   uint8  \n",
      " 30  internet_service_type_Fiber optic          7032 non-null   uint8  \n",
      " 31  internet_service_type_None                 7032 non-null   uint8  \n",
      " 32  payment_type_Credit card (automatic)       7032 non-null   uint8  \n",
      " 33  payment_type_Electronic check              7032 non-null   uint8  \n",
      " 34  payment_type_Mailed check                  7032 non-null   uint8  \n",
      "dtypes: float64(2), int64(2), object(4), uint8(27)\n",
      "memory usage: 679.9+ KB\n"
     ]
    }
   ],
   "source": [
    "df = prepare.clean_telco_data(acquire_df)\n",
    "df.info()"
   ]
  },
  {
   "cell_type": "markdown",
   "id": "84a3fb2d-ec59-4d31-90f5-7d986da2c1a3",
   "metadata": {},
   "source": [
    "#### Segmenting Prepared Data"
   ]
  },
  {
   "cell_type": "markdown",
   "id": "9b0f28e6-771a-47a6-a837-17b366f3e333",
   "metadata": {},
   "source": [
    "After cleaning-up the data, it is split into 3 samples;  train, validate, and test. \n",
    "- The train sample is used to explore, fit to models, and evaluate results without looking at new data.\n",
    "- The validate sample is used to verify our models built are not overfit to the train dataset.\n",
    "- The test set sample is used to give an estimate of how this model will perform on data it has never seen in the future.\n",
    "- The samples are then separated into two groups with y representing the target variable and x representing the rest of the data."
   ]
  },
  {
   "cell_type": "code",
   "execution_count": 4,
   "id": "a4499e87-0f4e-46c7-a952-9a57d7c14009",
   "metadata": {},
   "outputs": [
    {
     "name": "stdout",
     "output_type": "stream",
     "text": [
      "train -> (3937, 34)\n",
      "validate -> (1688, 34)\n",
      "test -> (1407, 34)\n"
     ]
    }
   ],
   "source": [
    "# The number of rows and columns for each split is shown below.\n",
    "train, validate, test = prepare.data_split(df)"
   ]
  },
  {
   "cell_type": "code",
   "execution_count": 5,
   "id": "7c9bfee0-08ca-4efb-808b-55924f88f570",
   "metadata": {},
   "outputs": [],
   "source": [
    "# Set our X and y, in order to conduct evaluation and testing on our target variable. \n",
    "X_train, y_train = train.drop(columns='did_churn_Yes'), train['did_churn_Yes']\n",
    "X_validate, y_validate = validate.drop(columns='did_churn_Yes'), validate['did_churn_Yes']"
   ]
  },
  {
   "cell_type": "code",
   "execution_count": 26,
   "id": "4901478b-a6a1-414b-aac5-0b5eb6c3b60e",
   "metadata": {},
   "outputs": [
    {
     "data": {
      "text/html": [
       "<div>\n",
       "<style scoped>\n",
       "    .dataframe tbody tr th:only-of-type {\n",
       "        vertical-align: middle;\n",
       "    }\n",
       "\n",
       "    .dataframe tbody tr th {\n",
       "        vertical-align: top;\n",
       "    }\n",
       "\n",
       "    .dataframe thead th {\n",
       "        text-align: right;\n",
       "    }\n",
       "</style>\n",
       "<table border=\"1\" class=\"dataframe\">\n",
       "  <thead>\n",
       "    <tr style=\"text-align: right;\">\n",
       "      <th></th>\n",
       "      <th>5919</th>\n",
       "      <th>1915</th>\n",
       "      <th>5054</th>\n",
       "      <th>2355</th>\n",
       "      <th>6279</th>\n",
       "    </tr>\n",
       "  </thead>\n",
       "  <tbody>\n",
       "    <tr>\n",
       "      <th>is_senior</th>\n",
       "      <td>0.0</td>\n",
       "      <td>0.00</td>\n",
       "      <td>0.00</td>\n",
       "      <td>0.0</td>\n",
       "      <td>1.0</td>\n",
       "    </tr>\n",
       "    <tr>\n",
       "      <th>tenure_months</th>\n",
       "      <td>58.0</td>\n",
       "      <td>71.00</td>\n",
       "      <td>35.00</td>\n",
       "      <td>1.0</td>\n",
       "      <td>20.0</td>\n",
       "    </tr>\n",
       "    <tr>\n",
       "      <th>monthly_charges</th>\n",
       "      <td>71.1</td>\n",
       "      <td>85.45</td>\n",
       "      <td>25.75</td>\n",
       "      <td>19.2</td>\n",
       "      <td>54.0</td>\n",
       "    </tr>\n",
       "    <tr>\n",
       "      <th>total_charges</th>\n",
       "      <td>4299.2</td>\n",
       "      <td>6028.95</td>\n",
       "      <td>882.55</td>\n",
       "      <td>19.2</td>\n",
       "      <td>1055.9</td>\n",
       "    </tr>\n",
       "    <tr>\n",
       "      <th>is_male_Male</th>\n",
       "      <td>0.0</td>\n",
       "      <td>1.00</td>\n",
       "      <td>0.00</td>\n",
       "      <td>1.0</td>\n",
       "      <td>1.0</td>\n",
       "    </tr>\n",
       "    <tr>\n",
       "      <th>has_partner_Yes</th>\n",
       "      <td>0.0</td>\n",
       "      <td>0.00</td>\n",
       "      <td>1.00</td>\n",
       "      <td>1.0</td>\n",
       "      <td>0.0</td>\n",
       "    </tr>\n",
       "    <tr>\n",
       "      <th>has_dependents_Yes</th>\n",
       "      <td>0.0</td>\n",
       "      <td>1.00</td>\n",
       "      <td>1.00</td>\n",
       "      <td>1.0</td>\n",
       "      <td>0.0</td>\n",
       "    </tr>\n",
       "    <tr>\n",
       "      <th>has_phone_service_Yes</th>\n",
       "      <td>1.0</td>\n",
       "      <td>1.00</td>\n",
       "      <td>1.00</td>\n",
       "      <td>1.0</td>\n",
       "      <td>1.0</td>\n",
       "    </tr>\n",
       "    <tr>\n",
       "      <th>has_multiple_lines_No phone service</th>\n",
       "      <td>0.0</td>\n",
       "      <td>0.00</td>\n",
       "      <td>0.00</td>\n",
       "      <td>0.0</td>\n",
       "      <td>0.0</td>\n",
       "    </tr>\n",
       "    <tr>\n",
       "      <th>has_multiple_lines_Yes</th>\n",
       "      <td>1.0</td>\n",
       "      <td>1.00</td>\n",
       "      <td>1.00</td>\n",
       "      <td>0.0</td>\n",
       "      <td>0.0</td>\n",
       "    </tr>\n",
       "    <tr>\n",
       "      <th>has_online_security_No internet service</th>\n",
       "      <td>0.0</td>\n",
       "      <td>0.00</td>\n",
       "      <td>1.00</td>\n",
       "      <td>1.0</td>\n",
       "      <td>0.0</td>\n",
       "    </tr>\n",
       "    <tr>\n",
       "      <th>has_online_security_Yes</th>\n",
       "      <td>1.0</td>\n",
       "      <td>1.00</td>\n",
       "      <td>0.00</td>\n",
       "      <td>0.0</td>\n",
       "      <td>1.0</td>\n",
       "    </tr>\n",
       "    <tr>\n",
       "      <th>has_online_backup_No internet service</th>\n",
       "      <td>0.0</td>\n",
       "      <td>0.00</td>\n",
       "      <td>1.00</td>\n",
       "      <td>1.0</td>\n",
       "      <td>0.0</td>\n",
       "    </tr>\n",
       "    <tr>\n",
       "      <th>has_online_backup_Yes</th>\n",
       "      <td>1.0</td>\n",
       "      <td>1.00</td>\n",
       "      <td>0.00</td>\n",
       "      <td>0.0</td>\n",
       "      <td>0.0</td>\n",
       "    </tr>\n",
       "    <tr>\n",
       "      <th>has_device_protection_No internet service</th>\n",
       "      <td>0.0</td>\n",
       "      <td>0.00</td>\n",
       "      <td>1.00</td>\n",
       "      <td>1.0</td>\n",
       "      <td>0.0</td>\n",
       "    </tr>\n",
       "    <tr>\n",
       "      <th>has_device_protection_Yes</th>\n",
       "      <td>1.0</td>\n",
       "      <td>0.00</td>\n",
       "      <td>0.00</td>\n",
       "      <td>0.0</td>\n",
       "      <td>0.0</td>\n",
       "    </tr>\n",
       "    <tr>\n",
       "      <th>has_tech_support_No internet service</th>\n",
       "      <td>0.0</td>\n",
       "      <td>0.00</td>\n",
       "      <td>1.00</td>\n",
       "      <td>1.0</td>\n",
       "      <td>0.0</td>\n",
       "    </tr>\n",
       "    <tr>\n",
       "      <th>has_tech_support_Yes</th>\n",
       "      <td>1.0</td>\n",
       "      <td>0.00</td>\n",
       "      <td>0.00</td>\n",
       "      <td>0.0</td>\n",
       "      <td>1.0</td>\n",
       "    </tr>\n",
       "    <tr>\n",
       "      <th>has_streaming_tv_No internet service</th>\n",
       "      <td>0.0</td>\n",
       "      <td>0.00</td>\n",
       "      <td>1.00</td>\n",
       "      <td>1.0</td>\n",
       "      <td>0.0</td>\n",
       "    </tr>\n",
       "    <tr>\n",
       "      <th>has_streaming_tv_Yes</th>\n",
       "      <td>0.0</td>\n",
       "      <td>0.00</td>\n",
       "      <td>0.00</td>\n",
       "      <td>0.0</td>\n",
       "      <td>0.0</td>\n",
       "    </tr>\n",
       "    <tr>\n",
       "      <th>has_streaming_movies_No internet service</th>\n",
       "      <td>0.0</td>\n",
       "      <td>0.00</td>\n",
       "      <td>1.00</td>\n",
       "      <td>1.0</td>\n",
       "      <td>0.0</td>\n",
       "    </tr>\n",
       "    <tr>\n",
       "      <th>has_streaming_movies_Yes</th>\n",
       "      <td>0.0</td>\n",
       "      <td>0.00</td>\n",
       "      <td>0.00</td>\n",
       "      <td>0.0</td>\n",
       "      <td>0.0</td>\n",
       "    </tr>\n",
       "    <tr>\n",
       "      <th>has_paperless_billing_Yes</th>\n",
       "      <td>1.0</td>\n",
       "      <td>1.00</td>\n",
       "      <td>1.00</td>\n",
       "      <td>0.0</td>\n",
       "      <td>0.0</td>\n",
       "    </tr>\n",
       "    <tr>\n",
       "      <th>contract_type_One year</th>\n",
       "      <td>1.0</td>\n",
       "      <td>1.00</td>\n",
       "      <td>0.00</td>\n",
       "      <td>0.0</td>\n",
       "      <td>1.0</td>\n",
       "    </tr>\n",
       "    <tr>\n",
       "      <th>contract_type_Two year</th>\n",
       "      <td>0.0</td>\n",
       "      <td>0.00</td>\n",
       "      <td>0.00</td>\n",
       "      <td>0.0</td>\n",
       "      <td>0.0</td>\n",
       "    </tr>\n",
       "    <tr>\n",
       "      <th>internet_service_type_Fiber optic</th>\n",
       "      <td>0.0</td>\n",
       "      <td>1.00</td>\n",
       "      <td>0.00</td>\n",
       "      <td>0.0</td>\n",
       "      <td>0.0</td>\n",
       "    </tr>\n",
       "    <tr>\n",
       "      <th>internet_service_type_None</th>\n",
       "      <td>0.0</td>\n",
       "      <td>0.00</td>\n",
       "      <td>1.00</td>\n",
       "      <td>1.0</td>\n",
       "      <td>0.0</td>\n",
       "    </tr>\n",
       "    <tr>\n",
       "      <th>payment_type_Credit card (automatic)</th>\n",
       "      <td>1.0</td>\n",
       "      <td>1.00</td>\n",
       "      <td>0.00</td>\n",
       "      <td>0.0</td>\n",
       "      <td>0.0</td>\n",
       "    </tr>\n",
       "    <tr>\n",
       "      <th>payment_type_Electronic check</th>\n",
       "      <td>0.0</td>\n",
       "      <td>0.00</td>\n",
       "      <td>1.00</td>\n",
       "      <td>0.0</td>\n",
       "      <td>0.0</td>\n",
       "    </tr>\n",
       "    <tr>\n",
       "      <th>payment_type_Mailed check</th>\n",
       "      <td>0.0</td>\n",
       "      <td>0.00</td>\n",
       "      <td>0.00</td>\n",
       "      <td>1.0</td>\n",
       "      <td>1.0</td>\n",
       "    </tr>\n",
       "  </tbody>\n",
       "</table>\n",
       "</div>"
      ],
      "text/plain": [
       "                                             5919     1915    5054  2355  \\\n",
       "is_senior                                     0.0     0.00    0.00   0.0   \n",
       "tenure_months                                58.0    71.00   35.00   1.0   \n",
       "monthly_charges                              71.1    85.45   25.75  19.2   \n",
       "total_charges                              4299.2  6028.95  882.55  19.2   \n",
       "is_male_Male                                  0.0     1.00    0.00   1.0   \n",
       "has_partner_Yes                               0.0     0.00    1.00   1.0   \n",
       "has_dependents_Yes                            0.0     1.00    1.00   1.0   \n",
       "has_phone_service_Yes                         1.0     1.00    1.00   1.0   \n",
       "has_multiple_lines_No phone service           0.0     0.00    0.00   0.0   \n",
       "has_multiple_lines_Yes                        1.0     1.00    1.00   0.0   \n",
       "has_online_security_No internet service       0.0     0.00    1.00   1.0   \n",
       "has_online_security_Yes                       1.0     1.00    0.00   0.0   \n",
       "has_online_backup_No internet service         0.0     0.00    1.00   1.0   \n",
       "has_online_backup_Yes                         1.0     1.00    0.00   0.0   \n",
       "has_device_protection_No internet service     0.0     0.00    1.00   1.0   \n",
       "has_device_protection_Yes                     1.0     0.00    0.00   0.0   \n",
       "has_tech_support_No internet service          0.0     0.00    1.00   1.0   \n",
       "has_tech_support_Yes                          1.0     0.00    0.00   0.0   \n",
       "has_streaming_tv_No internet service          0.0     0.00    1.00   1.0   \n",
       "has_streaming_tv_Yes                          0.0     0.00    0.00   0.0   \n",
       "has_streaming_movies_No internet service      0.0     0.00    1.00   1.0   \n",
       "has_streaming_movies_Yes                      0.0     0.00    0.00   0.0   \n",
       "has_paperless_billing_Yes                     1.0     1.00    1.00   0.0   \n",
       "contract_type_One year                        1.0     1.00    0.00   0.0   \n",
       "contract_type_Two year                        0.0     0.00    0.00   0.0   \n",
       "internet_service_type_Fiber optic             0.0     1.00    0.00   0.0   \n",
       "internet_service_type_None                    0.0     0.00    1.00   1.0   \n",
       "payment_type_Credit card (automatic)          1.0     1.00    0.00   0.0   \n",
       "payment_type_Electronic check                 0.0     0.00    1.00   0.0   \n",
       "payment_type_Mailed check                     0.0     0.00    0.00   1.0   \n",
       "\n",
       "                                             6279  \n",
       "is_senior                                     1.0  \n",
       "tenure_months                                20.0  \n",
       "monthly_charges                              54.0  \n",
       "total_charges                              1055.9  \n",
       "is_male_Male                                  1.0  \n",
       "has_partner_Yes                               0.0  \n",
       "has_dependents_Yes                            0.0  \n",
       "has_phone_service_Yes                         1.0  \n",
       "has_multiple_lines_No phone service           0.0  \n",
       "has_multiple_lines_Yes                        0.0  \n",
       "has_online_security_No internet service       0.0  \n",
       "has_online_security_Yes                       1.0  \n",
       "has_online_backup_No internet service         0.0  \n",
       "has_online_backup_Yes                         0.0  \n",
       "has_device_protection_No internet service     0.0  \n",
       "has_device_protection_Yes                     0.0  \n",
       "has_tech_support_No internet service          0.0  \n",
       "has_tech_support_Yes                          1.0  \n",
       "has_streaming_tv_No internet service          0.0  \n",
       "has_streaming_tv_Yes                          0.0  \n",
       "has_streaming_movies_No internet service      0.0  \n",
       "has_streaming_movies_Yes                      0.0  \n",
       "has_paperless_billing_Yes                     0.0  \n",
       "contract_type_One year                        1.0  \n",
       "contract_type_Two year                        0.0  \n",
       "internet_service_type_Fiber optic             0.0  \n",
       "internet_service_type_None                    0.0  \n",
       "payment_type_Credit card (automatic)          0.0  \n",
       "payment_type_Electronic check                 0.0  \n",
       "payment_type_Mailed check                     1.0  "
      ]
     },
     "execution_count": 26,
     "metadata": {},
     "output_type": "execute_result"
    }
   ],
   "source": [
    "X_train.head().T"
   ]
  },
  {
   "cell_type": "markdown",
   "id": "57623e09-10a7-4b45-8eef-edfebae05d97",
   "metadata": {},
   "source": [
    "________"
   ]
  },
  {
   "cell_type": "markdown",
   "id": "f3600f2b-688a-4220-9f61-758d996a0210",
   "metadata": {},
   "source": [
    "## DATA EXPLORATION - Data in Context"
   ]
  },
  {
   "cell_type": "markdown",
   "id": "0a17994b-c41a-42c3-b67c-a256f0142226",
   "metadata": {},
   "source": [
    "- Exploration started by looking at all data features and how they may have related to customer churn. \n",
    "- Looking at a correlation matrix of the features in connection with churn, we see a higher correlation with: \n",
    "    - Fiber Optic Internet - Positive Correlation \n",
    "    - Electronic Check - Postiive Correlation\n",
    "    - Monthly Charges - Positive Correlation\n",
    "    - Tenure Months - Negative Correlation\n"
   ]
  },
  {
   "cell_type": "markdown",
   "id": "475fe4d9-0b3f-4384-a0f2-09454983932f",
   "metadata": {},
   "source": [
    "#### Correlations"
   ]
  },
  {
   "cell_type": "code",
   "execution_count": 28,
   "id": "208bf1b3-091b-4bbf-a62d-d67b318700aa",
   "metadata": {},
   "outputs": [
    {
     "name": "stdout",
     "output_type": "stream",
     "text": [
      "did_churn_Yes                                1.000000\n",
      "internet_service_type_Fiber optic            0.321678\n",
      "payment_type_Electronic check                0.292306\n",
      "monthly_charges                              0.196871\n",
      "has_paperless_billing_Yes                    0.190075\n",
      "is_senior                                    0.159932\n",
      "has_multiple_lines_Yes                       0.053031\n",
      "has_streaming_movies_Yes                     0.051348\n",
      "has_streaming_tv_Yes                         0.038849\n",
      "has_phone_service_Yes                        0.015906\n",
      "is_male_Male                                 0.000008\n",
      "has_multiple_lines_No phone service         -0.015906\n",
      "has_device_protection_Yes                   -0.060108\n",
      "has_online_backup_Yes                       -0.068519\n",
      "payment_type_Mailed check                   -0.090324\n",
      "payment_type_Credit card (automatic)        -0.127314\n",
      "has_partner_Yes                             -0.143203\n",
      "has_tech_support_Yes                        -0.159305\n",
      "has_dependents_Yes                          -0.163579\n",
      "has_online_security_Yes                     -0.180834\n",
      "contract_type_One year                      -0.181010\n",
      "total_charges                               -0.193774\n",
      "has_tech_support_No internet service        -0.230842\n",
      "has_streaming_tv_No internet service        -0.230842\n",
      "has_online_backup_No internet service       -0.230842\n",
      "has_streaming_movies_No internet service    -0.230842\n",
      "has_device_protection_No internet service   -0.230842\n",
      "internet_service_type_None                  -0.230842\n",
      "has_online_security_No internet service     -0.230842\n",
      "contract_type_Two year                      -0.300652\n",
      "tenure_months                               -0.351807\n",
      "Name: did_churn_Yes, dtype: float64\n"
     ]
    }
   ],
   "source": [
    "df_corr = train.corr().reset_index()\n",
    "corr_matrix = train.corr()\n",
    "print(corr_matrix[\"did_churn_Yes\"].sort_values(ascending=False))"
   ]
  },
  {
   "cell_type": "markdown",
   "id": "55c76d8b-63dd-43ee-8b91-2cf05b0f7422",
   "metadata": {},
   "source": [
    "#### Exploratory Questions\n",
    "The correlation observations guided our exploratory questions.\n",
    "1. Are Customers With Fiber Optic Internet More Likely to Churn?\n",
    "2. Are Customers Who Pay More per Month More likely to Churn?\n",
    "3. Are Month-to-Month Customers More Likely to Churn?\n",
    "4. What is the Total Monthly Revenue for the Company?\n",
    "5. What is the Amount of Monthly Revenue Lost by Those Who Have Churned?"
   ]
  },
  {
   "cell_type": "markdown",
   "id": "76f4eb5a-a875-4db5-bfa0-78659adc90a2",
   "metadata": {},
   "source": [
    "### 1.  POSSIBLE DRIVER OF CHURN: Are Customers with Fiber Optic Internet More Likely to Churn?"
   ]
  },
  {
   "cell_type": "markdown",
   "id": "f0adc305-3dd3-4f3f-a245-1f1cde678906",
   "metadata": {
    "tags": []
   },
   "source": [
    "#### Hypothesis"
   ]
  },
  {
   "cell_type": "markdown",
   "id": "74e661ca-c1ec-4e54-acb6-822b9c1889e3",
   "metadata": {},
   "source": [
    "- H 0 : Churn for customers with fiber optic intenet <= churn of all customers\n",
    "- H 𝑎 : Churn for customers with fiber optic intenet > churn of all customers"
   ]
  },
  {
   "cell_type": "markdown",
   "id": "7bb68164-0756-4df9-9759-cdc2c80f4888",
   "metadata": {},
   "source": [
    "#### Visualization"
   ]
  },
  {
   "cell_type": "code",
   "execution_count": null,
   "id": "e1b4b6c2-b91b-4875-9f2a-3157bf2fa5a3",
   "metadata": {},
   "outputs": [
    {
     "name": "stdout",
     "output_type": "stream",
     "text": [
      "Fiber optic    1722\n",
      "DSL            1348\n",
      "None            867\n",
      "Name: internet_service_type, dtype: int64\n"
     ]
    },
    {
     "data": {
      "text/plain": [
       "Text(0, 0.5, '# of Customers')"
      ]
     },
     "execution_count": 20,
     "metadata": {},
     "output_type": "execute_result"
    },
    {
     "data": {
      "image/png": "[encoded data removed]",
      "text/plain": [
       "<Figure size 1008x504 with 1 Axes>"
      ]
     },
     "metadata": {
      "needs_background": "light"
     },
     "output_type": "display_data"
    }
   ],
   "source": [
    "print(train.internet_service_type.value_counts())\n",
    "\n",
    "plt.figure(figsize=(14,7))\n",
    "train.internet_service_type.hist()\n",
    "\n",
    "plt.title('Churn by Internet Type', fontsize = 20)\n",
    "plt.xlabel('Internet Type', fontsize = 16)\n",
    "plt.ylabel('# of Customers', fontsize = 16)"
   ]
  },
  {
   "cell_type": "markdown",
   "id": "8110faf0-207b-42c4-8938-a4aa4092aca7",
   "metadata": {},
   "source": [
    "#### Statistical Testing"
   ]
  },
  {
   "cell_type": "code",
   "execution_count": 9,
   "id": "199585c1-814e-41e8-bb36-90f600d0cc17",
   "metadata": {},
   "outputs": [
    {
     "name": "stdout",
     "output_type": "stream",
     "text": [
      "chi^2 = 405.9211\n",
      "p     = 0.0000\n",
      "We reject the hypothesis\n"
     ]
    }
   ],
   "source": [
    "observed = pd.crosstab(train['internet_service_type_Fiber optic'], train. did_churn_Yes)\n",
    "alpha= 0.05\n",
    "chi2, p, degf, expected = stats.chi2_contingency(observed)\n",
    "\n",
    "print(f'chi^2 = {chi2:.4f}')\n",
    "print(f'p     = {p:.4f}')\n",
    "\n",
    "if p < alpha:\n",
    "    print(\"We reject the hypothesis\")\n",
    "else:\n",
    "    print(\"We fail to reject the null hypothesis\")"
   ]
  },
  {
   "cell_type": "markdown",
   "id": "88270482-85c4-4e40-815c-b088bc79da87",
   "metadata": {},
   "source": [
    "### Answer: Customers with fiber optic internet are more likely to churn. "
   ]
  },
  {
   "cell_type": "markdown",
   "id": "7b33ca0c-6067-48fb-b983-453fee63a893",
   "metadata": {},
   "source": [
    "---------"
   ]
  },
  {
   "cell_type": "markdown",
   "id": "35b69b19-fb40-421f-aa16-823761593cbd",
   "metadata": {},
   "source": [
    "### 2.  POSSIBLE DRIVER OF CHURN: Are customers who pay more per month more likely to churn?"
   ]
  },
  {
   "cell_type": "markdown",
   "id": "ba565fc1-75bd-42ab-836d-eeae2ca5ca2d",
   "metadata": {
    "tags": []
   },
   "source": [
    "#### Hypothesis\n",
    "\n",
    "- H$_{0}$: Mean of monthly charges of churned customers <= Mean of monthly charges of all customers\n",
    "- H$_{a}$: Mean of monthly charges of churned customers > Mean of monthly charges of all customers"
   ]
  },
  {
   "cell_type": "markdown",
   "id": "5eeaefcd-6cb4-409d-aebe-9fca9fa76662",
   "metadata": {
    "tags": []
   },
   "source": [
    "#### Visualize"
   ]
  },
  {
   "cell_type": "code",
   "execution_count": 10,
   "id": "66503804-4814-4438-9fd5-b1f4ed80b0dc",
   "metadata": {},
   "outputs": [
    {
     "data": {
      "image/png": "[encoded data removed]",
      "text/plain": [
       "<Figure size 1008x504 with 1 Axes>"
      ]
     },
     "metadata": {
      "needs_background": "light"
     },
     "output_type": "display_data"
    }
   ],
   "source": [
    "plt.figure(figsize=(14,7))\n",
    "sns.boxplot(data=train, y='monthly_charges', x='did_churn_Yes')\n",
    "plt.title('Do customers that churn pay more per month?',fontsize = 16)\n",
    "plt.ylabel('Monthly Charges', fontsize = 16)\n",
    "plt.xlabel('Churn: 0 = No  1 = Yes', fontsize = 16)\n",
    "plt.show()"
   ]
  },
  {
   "cell_type": "code",
   "execution_count": 31,
   "id": "16dddc1c-f805-4bd0-9dc4-26229b964b5c",
   "metadata": {},
   "outputs": [
    {
     "data": {
      "image/png": "[encoded data removed]",
      "text/plain": [
       "<Figure size 1008x504 with 1 Axes>"
      ]
     },
     "metadata": {
      "needs_background": "light"
     },
     "output_type": "display_data"
    }
   ],
   "source": [
    "plt.figure(figsize=(14,7))\n",
    "sns.histplot(train, x=train.monthly_charges, hue =  'did_churn_Yes', multiple = 'stack', legend = False)\n",
    "\n",
    "\n",
    "plt.title('Monthly Charges for All Customers in Sample VS. Those Who Churned in Sample', fontsize = 20)\n",
    "plt.xlabel('Monthly Charges', fontsize = 16)\n",
    "plt.ylabel('# of Customers', fontsize = 16)\n",
    "plt.legend(labels = ['All Customers', 'Churned Customers'], loc= 'best')\n",
    "plt.show()"
   ]
  },
  {
   "cell_type": "markdown",
   "id": "239692d6-b84e-4356-97dc-8bac1b474c47",
   "metadata": {
    "tags": []
   },
   "source": [
    "#### Statistical Testing"
   ]
  },
  {
   "cell_type": "code",
   "execution_count": 11,
   "id": "f204eae6-4240-47f9-a26a-04bbb3472df2",
   "metadata": {},
   "outputs": [
    {
     "name": "stdout",
     "output_type": "stream",
     "text": [
      "13.037366230308015 2.0798982128378347e-36 0.05\n",
      "We reject the null hypothesis.\n"
     ]
    }
   ],
   "source": [
    "# 1-Tailed, 1-Sample T-Test - Mean of Subgroup vs. Mean of Overall\n",
    "\n",
    "alpha = 0.05\n",
    "churn_sample = train[train.did_churn_Yes == 1].monthly_charges\n",
    "overall_mean = train.monthly_charges.mean()\n",
    "t, p = stats.ttest_1samp(churn_sample, overall_mean)\n",
    "\n",
    "print(t, p/2, alpha)\n",
    "\n",
    "if p/2 > alpha:\n",
    "    print(\"We fail to reject the null hypothesis.\")\n",
    "elif t < 0:\n",
    "    print(\"We fail to reject the null hypothesis.\")\n",
    "else:\n",
    "    print(\"We reject the null hypothesis.\")"
   ]
  },
  {
   "cell_type": "markdown",
   "id": "a8acc178-3220-4eec-b547-1dd6e6c3ff8d",
   "metadata": {},
   "source": [
    "### Answer: Customers who churn pay more in monthly charges."
   ]
  },
  {
   "cell_type": "markdown",
   "id": "43e58d55-d18d-4e16-b8d7-2e4532faf5f6",
   "metadata": {},
   "source": [
    "-------"
   ]
  },
  {
   "cell_type": "markdown",
   "id": "93f4c114-c1d2-4cc2-b687-ff100d2a4cf4",
   "metadata": {},
   "source": [
    "### 3.  POSSIBLE DRIVER OF CHURN: Are month-to-month customers more likely to churn?"
   ]
  },
  {
   "cell_type": "markdown",
   "id": "a0d09d1a-b290-4c63-ade1-a8a979c68485",
   "metadata": {},
   "source": [
    "#### Hypothesis"
   ]
  },
  {
   "cell_type": "markdown",
   "id": "baa6c259-e2d2-41bc-8094-181e3a1640f3",
   "metadata": {},
   "source": [
    "- H 0 : Churn for customers with month to month contracts <= churn of all customers\n",
    "- H 𝑎 : Churn for customers with month to month contracts > churn of all customers"
   ]
  },
  {
   "cell_type": "markdown",
   "id": "d29382a9-a675-4dea-86d7-1880ed88eff0",
   "metadata": {},
   "source": [
    "#### Visualization"
   ]
  },
  {
   "cell_type": "code",
   "execution_count": 12,
   "id": "241bbc90-af72-422b-a02d-e23ffc620bf0",
   "metadata": {},
   "outputs": [
    {
     "name": "stdout",
     "output_type": "stream",
     "text": [
      "Is there a relationship between contract type and churn?\n"
     ]
    },
    {
     "data": {
      "text/html": [
       "<style type=\"text/css\">\n",
       "#T_17371_row0_col0, #T_17371_row2_col1 {\n",
       "  background-color: #f7fbff;\n",
       "  color: #000000;\n",
       "}\n",
       "#T_17371_row0_col1, #T_17371_row2_col0 {\n",
       "  background-color: #08306b;\n",
       "  color: #f1f1f1;\n",
       "}\n",
       "#T_17371_row1_col0 {\n",
       "  background-color: #1663aa;\n",
       "  color: #f1f1f1;\n",
       "}\n",
       "#T_17371_row1_col1 {\n",
       "  background-color: #d0e2f2;\n",
       "  color: #000000;\n",
       "}\n",
       "</style>\n",
       "<table id=\"T_17371_\">\n",
       "  <thead>\n",
       "    <tr>\n",
       "      <th class=\"index_name level0\" >did_churn_Yes</th>\n",
       "      <th class=\"col_heading level0 col0\" >0</th>\n",
       "      <th class=\"col_heading level0 col1\" >1</th>\n",
       "    </tr>\n",
       "    <tr>\n",
       "      <th class=\"index_name level0\" >contract_type</th>\n",
       "      <th class=\"blank col0\" >&nbsp;</th>\n",
       "      <th class=\"blank col1\" >&nbsp;</th>\n",
       "    </tr>\n",
       "  </thead>\n",
       "  <tbody>\n",
       "    <tr>\n",
       "      <th id=\"T_17371_level0_row0\" class=\"row_heading level0 row0\" >Month-to-month</th>\n",
       "      <td id=\"T_17371_row0_col0\" class=\"data row0 col0\" >0.571824</td>\n",
       "      <td id=\"T_17371_row0_col1\" class=\"data row0 col1\" >0.428176</td>\n",
       "    </tr>\n",
       "    <tr>\n",
       "      <th id=\"T_17371_level0_row1\" class=\"row_heading level0 row1\" >One year</th>\n",
       "      <td id=\"T_17371_row1_col0\" class=\"data row1 col0\" >0.890798</td>\n",
       "      <td id=\"T_17371_row1_col1\" class=\"data row1 col1\" >0.109202</td>\n",
       "    </tr>\n",
       "    <tr>\n",
       "      <th id=\"T_17371_level0_row2\" class=\"row_heading level0 row2\" >Two year</th>\n",
       "      <td id=\"T_17371_row2_col0\" class=\"data row2 col0\" >0.968652</td>\n",
       "      <td id=\"T_17371_row2_col1\" class=\"data row2 col1\" >0.031348</td>\n",
       "    </tr>\n",
       "  </tbody>\n",
       "</table>\n"
      ],
      "text/plain": [
       "<pandas.io.formats.style.Styler at 0x7fb4893d94c0>"
      ]
     },
     "execution_count": 12,
     "metadata": {},
     "output_type": "execute_result"
    }
   ],
   "source": [
    "print('Is there a relationship between contract type and churn?')\n",
    "pd.crosstab(X_train.contract_type, y_train, normalize='index').style.background_gradient(cmap='Blues')"
   ]
  },
  {
   "cell_type": "code",
   "execution_count": 23,
   "id": "07e09283-002b-4dd1-be88-aa50a137b9d5",
   "metadata": {},
   "outputs": [
    {
     "data": {
      "text/plain": [
       "Text(0, 0.5, '# of Customers')"
      ]
     },
     "execution_count": 23,
     "metadata": {},
     "output_type": "execute_result"
    },
    {
     "data": {
      "image/png": "[encoded data removed]",
      "text/plain": [
       "<Figure size 1008x504 with 1 Axes>"
      ]
     },
     "metadata": {
      "needs_background": "light"
     },
     "output_type": "display_data"
    }
   ],
   "source": [
    "plt.figure(figsize=(14,7))\n",
    "train.contract_type.hist()\n",
    "plt.title('Churn by Contract Type', fontsize = 20)\n",
    "plt.xlabel('Contract Type', fontsize = 16)\n",
    "plt.ylabel('# of Customers', fontsize = 16)"
   ]
  },
  {
   "cell_type": "markdown",
   "id": "ceabbad1-916d-4c9c-ba25-f136c6f2b89e",
   "metadata": {},
   "source": [
    "### 4. OTHER PERTINENT QUESTIONS: What is the total monthly revenue for the company?"
   ]
  },
  {
   "cell_type": "code",
   "execution_count": 29,
   "id": "929e6e2f-1c0d-44eb-964d-15698d432db8",
   "metadata": {},
   "outputs": [
    {
     "name": "stdout",
     "output_type": "stream",
     "text": [
      " Overal Total Monthly Revenue = 456116.60\n",
      " Sample Total Monthly Revenue = 255137.80\n"
     ]
    }
   ],
   "source": [
    "total_monthly_revenue_overall = acquire_df.monthly_charges.sum()\n",
    "total_monthly_revenue_train = train.monthly_charges.sum()\n",
    "print(f' Overal Total Monthly Revenue = {total_monthly_revenue_overall:.2f}')\n",
    "print(f' Sample Total Monthly Revenue = {total_monthly_revenue_train:.2f}')"
   ]
  },
  {
   "cell_type": "markdown",
   "id": "1df1d5db-e040-480e-b14c-5b2f6b22c4b3",
   "metadata": {},
   "source": [
    "### 5. What is the amount of monthly revenue lost by those who have churned?"
   ]
  },
  {
   "cell_type": "code",
   "execution_count": 30,
   "id": "7073b097-e2c2-4964-a686-998dd3ab3729",
   "metadata": {},
   "outputs": [
    {
     "name": "stdout",
     "output_type": "stream",
     "text": [
      " Overall Total Monthly Revenue Lost to Churn = 139130.85\n",
      " Sample Total Monthly Revenue Lost to Churn = 78156.30\n"
     ]
    }
   ],
   "source": [
    "churn_monthly_revenue_lost_overall= acquire_df[acquire_df.churn == 'Yes'].monthly_charges.sum()\n",
    "churn_monthly_revenue_lost_train = train[train.did_churn_Yes == 1].monthly_charges.sum()\n",
    "\n",
    "print(f' Overall Total Monthly Revenue Lost to Churn = {churn_monthly_revenue_lost_overall:.2f}')\n",
    "print(f' Sample Total Monthly Revenue Lost to Churn = {churn_monthly_revenue_lost_train:.2f}')"
   ]
  },
  {
   "cell_type": "markdown",
   "id": "df913a13-5edb-46cd-98df-18fe87acc570",
   "metadata": {
    "tags": []
   },
   "source": [
    "#### Summary - Who is more likely to churn?\n"
   ]
  },
  {
   "cell_type": "markdown",
   "id": "f142c5b9-d0f8-4f33-bef0-7461ad622162",
   "metadata": {},
   "source": [
    "## Predicting Churn\n",
    "Because churn is a boolean/yes or no value, we will use classification machine learning algorithms to fit to our training data and we will evaluate on validate. We will pick the best model using accuracy because the data is mostly balanced, and the risk of an event happening balances the risk of getting a prediction wrong."
   ]
  },
  {
   "cell_type": "markdown",
   "id": "9c43a3fd-e703-415a-a241-a23318fce34f",
   "metadata": {},
   "source": [
    "## ULTIMATE HYPOTHESIS\n",
    "#### Fiber optic internet subscribers are more likely to churn."
   ]
  },
  {
   "cell_type": "markdown",
   "id": "e4f200bf-d10d-47c6-830e-82b92d36c27e",
   "metadata": {},
   "source": [
    "_________"
   ]
  },
  {
   "cell_type": "markdown",
   "id": "fdcdd521-5bb8-45cc-a255-af7c7a63d8e4",
   "metadata": {},
   "source": [
    "## DATA MODELING"
   ]
  },
  {
   "cell_type": "code",
   "execution_count": 21,
   "id": "4b0ad42b-00e6-48ae-9c47-6532511a0f85",
   "metadata": {},
   "outputs": [],
   "source": [
    "# Set X and y variables for model testing. \n",
    "X_train, y_train = train.drop(columns=['contract_type', 'internet_service_type', 'payment_type','did_churn_Yes']), train['did_churn_Yes']\n",
    "X_validate, y_validate = validate.drop(columns=['contract_type', 'internet_service_type', 'payment_type','did_churn_Yes']), validate['did_churn_Yes']\n",
    "X_test, y_test = test.drop(columns=['contract_type', 'internet_service_type', 'payment_type','did_churn_Yes']), test['did_churn_Yes']"
   ]
  },
  {
   "cell_type": "markdown",
   "id": "9259cf02-6bf6-4975-92e5-ebd88efb3062",
   "metadata": {},
   "source": [
    "### Baseline\n",
    "I will set a baseline prediction by predicting all customers will churn (churn == 0). I will evaluate the accuracy of that."
   ]
  },
  {
   "cell_type": "code",
   "execution_count": 32,
   "id": "13199f31-061b-473b-afe4-bd861100b414",
   "metadata": {},
   "outputs": [
    {
     "name": "stdout",
     "output_type": "stream",
     "text": [
      "Baseline Accuracy: 73.43%\n"
     ]
    }
   ],
   "source": [
    "train.did_churn_Yes.value_counts()\n",
    "baseline = y_train.mode()\n",
    "matches_baseline_prediction = (y_train == 0)\n",
    "baseline_accuracy = matches_baseline_prediction.mean()\n",
    "\n",
    "print(f'Baseline Accuracy: {baseline_accuracy:.2%}')"
   ]
  },
  {
   "cell_type": "markdown",
   "id": "b45f3805-c01e-457e-9468-bae68a9b334e",
   "metadata": {
    "tags": []
   },
   "source": [
    "### Models\n",
    "\n",
    "The top 3 models we built were a decision tree, random forest, and logistical regression. The models differed in features and algorothms. \n",
    "- The random forest model performed the best at 79.6% accuracy on the validate data set, as you will see."
   ]
  },
  {
   "cell_type": "raw",
   "id": "ac460b8e-6fda-4447-9bd3-3c53d6856611",
   "metadata": {},
   "source": [
    "# fit on train\n",
    "# predict on train\n",
    "# evaluate on train"
   ]
  },
  {
   "cell_type": "code",
   "execution_count": 34,
   "id": "880dba65-d6c0-4a64-a62f-99e7ad119378",
   "metadata": {},
   "outputs": [
    {
     "data": {
      "text/html": [
       "<div>\n",
       "<style scoped>\n",
       "    .dataframe tbody tr th:only-of-type {\n",
       "        vertical-align: middle;\n",
       "    }\n",
       "\n",
       "    .dataframe tbody tr th {\n",
       "        vertical-align: top;\n",
       "    }\n",
       "\n",
       "    .dataframe thead th {\n",
       "        text-align: right;\n",
       "    }\n",
       "</style>\n",
       "<table border=\"1\" class=\"dataframe\">\n",
       "  <thead>\n",
       "    <tr style=\"text-align: right;\">\n",
       "      <th></th>\n",
       "      <th>min_samples_per_leaf</th>\n",
       "      <th>max_depth</th>\n",
       "      <th>train_accuracy</th>\n",
       "      <th>validate_accuracy</th>\n",
       "      <th>difference</th>\n",
       "    </tr>\n",
       "  </thead>\n",
       "  <tbody>\n",
       "    <tr>\n",
       "      <th>0</th>\n",
       "      <td>1</td>\n",
       "      <td>1</td>\n",
       "      <td>0.734315</td>\n",
       "      <td>0.734005</td>\n",
       "      <td>0.000311</td>\n",
       "    </tr>\n",
       "    <tr>\n",
       "      <th>1</th>\n",
       "      <td>2</td>\n",
       "      <td>2</td>\n",
       "      <td>0.765304</td>\n",
       "      <td>0.751185</td>\n",
       "      <td>0.014119</td>\n",
       "    </tr>\n",
       "    <tr>\n",
       "      <th>2</th>\n",
       "      <td>3</td>\n",
       "      <td>3</td>\n",
       "      <td>0.787148</td>\n",
       "      <td>0.770142</td>\n",
       "      <td>0.017005</td>\n",
       "    </tr>\n",
       "    <tr>\n",
       "      <th>3</th>\n",
       "      <td>4</td>\n",
       "      <td>4</td>\n",
       "      <td>0.801880</td>\n",
       "      <td>0.781991</td>\n",
       "      <td>0.019889</td>\n",
       "    </tr>\n",
       "    <tr>\n",
       "      <th>4</th>\n",
       "      <td>5</td>\n",
       "      <td>5</td>\n",
       "      <td>0.808230</td>\n",
       "      <td>0.791469</td>\n",
       "      <td>0.016760</td>\n",
       "    </tr>\n",
       "    <tr>\n",
       "      <th>5</th>\n",
       "      <td>6</td>\n",
       "      <td>6</td>\n",
       "      <td>0.811786</td>\n",
       "      <td>0.786730</td>\n",
       "      <td>0.025056</td>\n",
       "    </tr>\n",
       "    <tr>\n",
       "      <th>6</th>\n",
       "      <td>7</td>\n",
       "      <td>7</td>\n",
       "      <td>0.815342</td>\n",
       "      <td>0.796209</td>\n",
       "      <td>0.019133</td>\n",
       "    </tr>\n",
       "    <tr>\n",
       "      <th>7</th>\n",
       "      <td>8</td>\n",
       "      <td>8</td>\n",
       "      <td>0.821184</td>\n",
       "      <td>0.791469</td>\n",
       "      <td>0.029714</td>\n",
       "    </tr>\n",
       "    <tr>\n",
       "      <th>8</th>\n",
       "      <td>9</td>\n",
       "      <td>9</td>\n",
       "      <td>0.828550</td>\n",
       "      <td>0.796209</td>\n",
       "      <td>0.032341</td>\n",
       "    </tr>\n",
       "    <tr>\n",
       "      <th>9</th>\n",
       "      <td>10</td>\n",
       "      <td>10</td>\n",
       "      <td>0.830328</td>\n",
       "      <td>0.796801</td>\n",
       "      <td>0.033527</td>\n",
       "    </tr>\n",
       "    <tr>\n",
       "      <th>10</th>\n",
       "      <td>11</td>\n",
       "      <td>11</td>\n",
       "      <td>0.830074</td>\n",
       "      <td>0.792062</td>\n",
       "      <td>0.038012</td>\n",
       "    </tr>\n",
       "    <tr>\n",
       "      <th>11</th>\n",
       "      <td>12</td>\n",
       "      <td>12</td>\n",
       "      <td>0.827026</td>\n",
       "      <td>0.793839</td>\n",
       "      <td>0.033187</td>\n",
       "    </tr>\n",
       "    <tr>\n",
       "      <th>12</th>\n",
       "      <td>13</td>\n",
       "      <td>13</td>\n",
       "      <td>0.828550</td>\n",
       "      <td>0.793246</td>\n",
       "      <td>0.035303</td>\n",
       "    </tr>\n",
       "    <tr>\n",
       "      <th>13</th>\n",
       "      <td>14</td>\n",
       "      <td>14</td>\n",
       "      <td>0.824232</td>\n",
       "      <td>0.793839</td>\n",
       "      <td>0.030393</td>\n",
       "    </tr>\n",
       "    <tr>\n",
       "      <th>14</th>\n",
       "      <td>15</td>\n",
       "      <td>15</td>\n",
       "      <td>0.824994</td>\n",
       "      <td>0.794431</td>\n",
       "      <td>0.030562</td>\n",
       "    </tr>\n",
       "    <tr>\n",
       "      <th>15</th>\n",
       "      <td>16</td>\n",
       "      <td>16</td>\n",
       "      <td>0.823724</td>\n",
       "      <td>0.793839</td>\n",
       "      <td>0.029885</td>\n",
       "    </tr>\n",
       "    <tr>\n",
       "      <th>16</th>\n",
       "      <td>17</td>\n",
       "      <td>17</td>\n",
       "      <td>0.816866</td>\n",
       "      <td>0.795024</td>\n",
       "      <td>0.021842</td>\n",
       "    </tr>\n",
       "    <tr>\n",
       "      <th>17</th>\n",
       "      <td>18</td>\n",
       "      <td>18</td>\n",
       "      <td>0.818898</td>\n",
       "      <td>0.795616</td>\n",
       "      <td>0.023282</td>\n",
       "    </tr>\n",
       "    <tr>\n",
       "      <th>18</th>\n",
       "      <td>19</td>\n",
       "      <td>19</td>\n",
       "      <td>0.818898</td>\n",
       "      <td>0.795024</td>\n",
       "      <td>0.023874</td>\n",
       "    </tr>\n",
       "    <tr>\n",
       "      <th>19</th>\n",
       "      <td>20</td>\n",
       "      <td>20</td>\n",
       "      <td>0.819406</td>\n",
       "      <td>0.793246</td>\n",
       "      <td>0.026159</td>\n",
       "    </tr>\n",
       "  </tbody>\n",
       "</table>\n",
       "</div>"
      ],
      "text/plain": [
       "    min_samples_per_leaf  max_depth  train_accuracy  validate_accuracy  \\\n",
       "0                      1          1        0.734315           0.734005   \n",
       "1                      2          2        0.765304           0.751185   \n",
       "2                      3          3        0.787148           0.770142   \n",
       "3                      4          4        0.801880           0.781991   \n",
       "4                      5          5        0.808230           0.791469   \n",
       "5                      6          6        0.811786           0.786730   \n",
       "6                      7          7        0.815342           0.796209   \n",
       "7                      8          8        0.821184           0.791469   \n",
       "8                      9          9        0.828550           0.796209   \n",
       "9                     10         10        0.830328           0.796801   \n",
       "10                    11         11        0.830074           0.792062   \n",
       "11                    12         12        0.827026           0.793839   \n",
       "12                    13         13        0.828550           0.793246   \n",
       "13                    14         14        0.824232           0.793839   \n",
       "14                    15         15        0.824994           0.794431   \n",
       "15                    16         16        0.823724           0.793839   \n",
       "16                    17         17        0.816866           0.795024   \n",
       "17                    18         18        0.818898           0.795616   \n",
       "18                    19         19        0.818898           0.795024   \n",
       "19                    20         20        0.819406           0.793246   \n",
       "\n",
       "    difference  \n",
       "0     0.000311  \n",
       "1     0.014119  \n",
       "2     0.017005  \n",
       "3     0.019889  \n",
       "4     0.016760  \n",
       "5     0.025056  \n",
       "6     0.019133  \n",
       "7     0.029714  \n",
       "8     0.032341  \n",
       "9     0.033527  \n",
       "10    0.038012  \n",
       "11    0.033187  \n",
       "12    0.035303  \n",
       "13    0.030393  \n",
       "14    0.030562  \n",
       "15    0.029885  \n",
       "16    0.021842  \n",
       "17    0.023282  \n",
       "18    0.023874  \n",
       "19    0.026159  "
      ]
     },
     "execution_count": 34,
     "metadata": {},
     "output_type": "execute_result"
    }
   ],
   "source": [
    "# Evaluate Random Forest models on train & validate set \n",
    "# by looping through different values for max_depth and min_samples_leaf hyperparameters\n",
    "\n",
    "# create empty list for which to append metrics from each loop\n",
    "scores = []\n",
    "max_value = range(1,21)\n",
    "# create loop for range 1-20\n",
    "for i in max_value:\n",
    "    # set depth & n_samples to value for current loop\n",
    "    depth = i\n",
    "    n_samples = i\n",
    "    # define the model setting hyperparameters to values for current loop\n",
    "    forest = RandomForestClassifier(max_depth=depth, min_samples_leaf=n_samples, random_state=123)\n",
    "    # fit the model on train\n",
    "    forest = forest.fit(X_train, y_train)\n",
    "    # use the model and evaluate performance on train\n",
    "    in_sample_accuracy = forest.score(X_train, y_train)\n",
    "    # use the model and evaluate performance on validate\n",
    "    out_of_sample_accuracy = forest.score(X_validate, y_validate)\n",
    "    # create output of current loop’s hyperparameters and accuracy to append to metrics\n",
    "    output = {\n",
    "        'min_samples_per_leaf': n_samples,\n",
    "        'max_depth': depth,\n",
    "        'train_accuracy': in_sample_accuracy,\n",
    "        'validate_accuracy': out_of_sample_accuracy\n",
    "    }\n",
    "    scores.append(output)\n",
    "# convert metrics list to a dataframe for easy reading\n",
    "df = pd.DataFrame(scores)\n",
    "# add column to assess the difference between train & validate accuracy\n",
    "df['difference'] = df.train_accuracy - df.validate_accuracy\n",
    "df"
   ]
  },
  {
   "cell_type": "markdown",
   "id": "54648f84-7cfb-4710-9352-f3d1b49836df",
   "metadata": {},
   "source": [
    "None of these model appear to be overfit. The Random Forest Model that performed best had 10 samples_per_leaf and max_depth of 10, wiht train accuracy of 82.9% and validate accuracy of 80.0.% performing 6.47% better than baseline with validate. model performed the best on the validate sample, therefore, I moved forward with that model."
   ]
  },
  {
   "cell_type": "code",
   "execution_count": 36,
   "id": "1ddb0fcb-e91e-4b6b-abb6-e42578ce4665",
   "metadata": {},
   "outputs": [
    {
     "name": "stdout",
     "output_type": "stream",
     "text": [
      "test_accuracy:  80.241649%\n"
     ]
    }
   ],
   "source": [
    "# Evaluate Random Forest model on train & validate set\n",
    "\n",
    "# define the model setting hyperparameters to values for current loop\n",
    "forest = RandomForestClassifier(max_depth=10, min_samples_leaf=10, random_state=123)\n",
    "\n",
    "# fit the model on train\n",
    "forest = forest.fit(X_train, y_train)\n",
    "\n",
    "# use the model and evaluate performance on train\n",
    "\n",
    "# use the model and evaluate performance on validate\n",
    "test_accuracy = forest.score(X_test, y_test)\n",
    "\n",
    "print(f'test_accuracy: {test_accuracy: 2%}')"
   ]
  },
  {
   "cell_type": "markdown",
   "id": "f5490e8d-44bc-483b-9f1b-7be70e1568b5",
   "metadata": {},
   "source": [
    "I expect this model to perform with 80% accuracy in the future on data it has not seen, given no major changes in our data source."
   ]
  },
  {
   "cell_type": "markdown",
   "id": "b889bb7c-18c6-4d98-85fd-e3bf29d266d9",
   "metadata": {},
   "source": [
    "## Conclusion\n",
    "\n",
    "Your notebook should begin with a project overview and goals and end with a conclusion that talks about your original goals and how you reached those (or didn't), the key findings, recommendations and next steps (\"If I had more time, I would...\")"
   ]
  },
  {
   "cell_type": "markdown",
   "id": "1f25db60-a8c3-43cb-aaf1-8dadd664af08",
   "metadata": {},
   "source": [
    "### Summary"
   ]
  },
  {
   "cell_type": "markdown",
   "id": "d3ef5fad-bb66-4751-ae78-f675204274be",
   "metadata": {},
   "source": [
    "The goal of this report was to identify drivers of churn for Telco and to present reccomendations based on the findings.  \n",
    "Through the process of data acquisition, preparation, exploration, and statistical testing, it was determined customers with \n",
    "- fiber optic internet \n",
    "- month-to-month contracts  \n",
    "- and higher monthly blls \n",
    "\n",
    "are more at-risk of churn. By using machine learning modeling, predictions to prevent churn were made with 80% accuracy within the best performing model. Using the identified at-risk factors and modeling, a list of customers predicted to churn was created. This information is useful in developing mechanisms within marketing and customer retention teams to prevent churn. "
   ]
  },
  {
   "cell_type": "markdown",
   "id": "fa187a7a-2207-473d-a58a-048abf609e35",
   "metadata": {},
   "source": [
    "### Recommendations\n",
    "It is reccomended each area of churn is addressed in order to maximize retention and stabalize revenenu. The followng reccomendations are based upon each risk factor identified.\n",
    "\n",
    "- 1. Fiber optic internet: Send out electronic survey to fiber optic internet users, requesting feedback on internet service and quality satisfcation. \n",
    "    - Give $10 statement credit towards following month's bill for completion of survey.  \n",
    "    - Collect data on survey results to move towards next steps of identifying the reason for high churn rate for fiber optic customers.\n",
    "    \n",
    "- 2. \n"
   ]
  },
  {
   "cell_type": "code",
   "execution_count": null,
   "id": "e840629c-3591-49fb-b7fc-59bbcdd24f3d",
   "metadata": {},
   "outputs": [],
   "source": [
    "Suggstions to consider "
   ]
  },
  {
   "cell_type": "markdown",
   "id": "432214e2-b839-4aa3-a9d8-7ec6ad6447b0",
   "metadata": {},
   "source": [
    "### NEXT STEPS\n",
    "If given more time, further exploration would be beneficial in the following areas:"
   ]
  },
  {
   "cell_type": "markdown",
   "id": "a4918c2c-faca-4738-bed3-63c8ca9f4b2d",
   "metadata": {},
   "source": [
    "- 1. Fiber-Optic_Internet: Identifyiing factors contributing to fiber-optic churn.\n",
    "     - Is it related to internet service quality, price, add-on feature satisfaction, or some other factor?\n",
    "- \n",
    "    "
   ]
  },
  {
   "cell_type": "markdown",
   "id": "5af730e8-f3fb-4ebc-8f48-94b0d2a066da",
   "metadata": {},
   "source": [
    "\n",
    "\n",
    "\n",
    "\n",
    "\n",
    "\n",
    "\n"
   ]
  },
  {
   "cell_type": "code",
   "execution_count": null,
   "id": "358fbd81-8421-4fff-a6da-a0c39e33ae64",
   "metadata": {},
   "outputs": [],
   "source": [
    "#### - Customer-Base\n",
    "1. What types of customers do we have?\n",
    "2. What services do we offer?\n",
    "_______\n",
    "#### - Revenue\n",
    "3. What is our total revenue?\n",
    "4. What amount of revenue is impacted by the overall churn?\n",
    "\n",
    "6. What amount of revenue is impacted by the customer base that churns the most?\n",
    "\n",
    "8. What amount of revenue is impacted by the service type that churns the most?"
   ]
  },
  {
   "cell_type": "markdown",
   "id": "68958e21-0c0e-4481-b9e6-591282197a5f",
   "metadata": {},
   "source": [
    "Exploring through visualizations (report.ipynb)\n",
    "At least 5 visualations are included in your final report.\n",
    "\n",
    "The ones included answer a question (remember, NO is an answer) or provide necessary context (such as the distribution of the target variable). All statistical tests included in the final report should be supported with an visualization of the interaction of the variables being tested. Charts in the final report should have titles and labels that are descriptive and useful for the end user/audience/consumer of the report.\n",
    "\n",
    "All visualizations in the final report are mentioned or discussed if a verbal presentation is given.\n",
    "\n",
    "For example:\n",
    "\n",
    "Was the phrase \"women and children first\" just a myth or did they really try to get out women and children first? If so, they would show as more likely to survive.\n",
    "are women more likely to survive? plot barplot x-axis is sex and y-axis is survival rate\n",
    "are children more likely to survive? bin age into 0-16, 17+, plot barplot on x-axis where y is survival rate (new variable = is_child)\n",
    "run chi-square test sex + survival\n",
    "run a chi-square test is_child + survival\n",
    "run a t-test on age and survived\n",
    "Do those who travel first class get quicker access to life boats?\n",
    "Do families with small children get priority access? Even if they at the bottom of the boat in 3rd class?\n",
    "\n",
    "Did traveling alone make a difference? Did it depend on sex? What was the survival rate for women traveling alone vs. men traveling along?\n",
    "\n",
    "If families were more likely to be saved, is there a max family size where that benefit is lost?\n",
    "\n",
    "Contextual questions: Did most people die or survive? How many men/women were on the boat? How many across different classes?\n",
    "\n",
    "plot 3 subplots of proportions - pie/donut - survived, sex, class.\n",
    "Statistical tests (report.ipynb)\n",
    "At least 2 statistical tests are included in your final report.\n",
    "\n",
    "The correct tests are run, given the data type and distribution, and the correct conclusions are drawn. For example (other tests may be used):\n",
    "\n",
    "correlation: 2 continuous variables, normally distributed, testing for LINEAR correlation only (H_0: Not linearly dependent)\n",
    "\n",
    "independent t-test: 1 continuous, somewhat normally distributed variable, one boolean variable, equal variance, independent (H_0: population mean of each group is equal)\n",
    "\n",
    "chi-square test: 2 discrete variables. (H_0: the 2 variables are independent of each other).\n",
    "\n",
    "Summary (report.ipynb)\n",
    "Following your exploration section, you summarize your analysis (in a markdown cell using natural language): what you found and how you will use it moving forward.\n",
    "\n",
    "This includes key takeaways from all the questions answered in explore, a list of which features will be used in modeling and why, and which features will not move forward and why. You may only call out a few of these features in the presentation, but having that there for reference is important in a report. A group of features may have the same reason why, and those can be mentioned together."
   ]
  },
  {
   "cell_type": "markdown",
   "id": "5706fbcc-6823-457d-8ea4-f806d07741d1",
   "metadata": {},
   "source": [
    "Modeling\n",
    "Select Evaluation Metric (Report.ipynb)\n",
    "Clear communication as to how you evaluated and compared models.\n",
    "\n",
    "What metric(s) did you use and why? For example, in one case, you may decide to use precision over accuracy. If so, why? If you use multiple metrics, how will you decide which to select if metric is better for model A but another is better for model B? Will you rank them? Find a way to aggregate them into a single metric you can use to rank?\n",
    "\n",
    "Evaluate Baseline (Report.ipynb)\n",
    "Having a baseline tells you whether a model you build using the features you selected is any better than predicting by using only the target variable. One way a baseline is created in classification is by making predictions purely based on the most common outcome class, like predicting that all titanic passengers will die, becuase the majroity did die. By doing that, you end up with the highest accuracy without using extra information from features. The baseline is based on the training dataset. For a continuous target variable, the baseline could be predicting that all salaries will be the median salary of our labeled train data. The predictions should be made on the training data using this information (like the predicted value, y_hat, for all passengers \"survived\" == 0) and then performance evaluated to measure your models against. If any model you build does not perform as well as a baseline that uses no features, then your features are not significant drivers of the outcome.\n",
    "Develop 3 Models (Report.ipynb)\n",
    "The 3 models can differ based on the features used, the hyperparameters selected, and/or the algorithm used to fit the data.\n",
    "Evaluate on Train (Report.ipynb)\n",
    "All models should be evaluated on train: the training sample is our largest sample, and it is a sample of data we have to both fit the model AND see how the model performs. We should never skip straight to validate. We would be missing out on valuable observations.\n",
    "Evaluate on Validate (Report.ipynb)\n",
    "*The top models should be evaluated with the validation sample dataset. It is important to use the validate sample for checking for any overfitting that may have occurred when fitting the model on train. If you are creating 10's of models, it is also important to only validate a handful of your top models with the Validate dataset. Otherwise, your data will have seen validate as much as train and you could accidentally introduce some implicit bias based on data and results you see while validating on so many models. *\n",
    "Evaluate Top Model on Test (Report.ipynb)\n",
    "Your top performing model, and only your top performing model should be evaluated on your test dataset. The purpose of having a test dataset to evaluate only the final model on is to have an estimate of how the model will perform in the future on data it has never seen.\n",
    "Report (Final Notebook)\n",
    "code commenting (Report.ipynb)\n",
    "Your code contains code comments that are helpful to the reader in understanding what each blocks/lines of code are doing.\n",
    "markdown (Report.ipynb)\n",
    "Notebook contains adequate markdown that documents your thought process, decision making, and navigation through the pipeline. This should be present throughout the notebook consistently, wtih not just headers, but plenty of content that guides the reader and leaves no questions or doubt as to why you did something, e.g.\n",
    "Written Conclusion Summary (Report.ipynb)\n",
    "Your conclusion summary should addresses the questions you raised in the opening of the project, which we would want to see at the end of every final notebook. Ideally, when the deliverable is a report, the summary should tie together your analysis, the drivers of the outcome, and how you would expect your ML model to perform in the future on unseen data, in layman's terms.\n",
    "conclusion recommendations (Report.ipynb)\n",
    "Your notebook should ends with a conclusion that contains actionable recommendations based on your insights and analysis to the business stakeholder(s), your simulated audience, or someone who would find this information valuable (if there is no stakeholder). Your recommendations should not be not about what to do differently with the data, but instead should be based on the business or domain you are studying.\n",
    "conclusion next steps (Report.ipynb)\n",
    "Your conclusion should include next steps from a data science perspective that will assist in improving your research. Ideally, if you talk about trying more algorithms to improve performance, think about why you need to improve performance. And if the business calls for it, remember the best way to improve performance is to have better predictors/features. If you talk about gathering more data, being specific about what data you think will help you understand the problem better and why is the way to go!\n",
    "no errors (Report.ipynb)\n",
    "Your final notebook should run without error. One error in a notebook can lead to the rest of it erroring out. If you have a reader who doesn't know python, they will then not be able to consume your report."
   ]
  },
  {
   "cell_type": "markdown",
   "id": "b5651cac-2517-40b7-9ea6-45bc9f1d5209",
   "metadata": {},
   "source": [
    "Final Report (.ipynb) (see details above in the \"Jupyter Notebook Report\"\n",
    "\n",
    "A Report that has filtered out all the extraneous elements not necessary to include in the report.\n",
    "\n",
    "Use markdown throughout the notebook to guide the audience. Assume the reader will not read your code blocks as you think about how much markdown guidance do you need.\n",
    "\n",
    "Then, assume another reader will read ALL of your code, so make sure it is very very clearly commented. All cells with code need comments."
   ]
  }
 ],
 "metadata": {
  "kernelspec": {
   "display_name": "Python 3 (ipykernel)",
   "language": "python",
   "name": "python3"
  },
  "language_info": {
   "codemirror_mode": {
    "name": "ipython",
    "version": 3
   },
   "file_extension": ".py",
   "mimetype": "text/x-python",
   "name": "python",
   "nbconvert_exporter": "python",
   "pygments_lexer": "ipython3",
   "version": "3.9.7"
  }
 },
 "nbformat": 4,
 "nbformat_minor": 5
}
