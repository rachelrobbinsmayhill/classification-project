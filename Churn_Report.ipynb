{
 "cells": [
  {
   "cell_type": "markdown",
   "id": "1d6d90b2-11d6-40aa-9fed-6eb0a68fb332",
   "metadata": {},
   "source": [
    "# Telco Churn Project - Working Notebook\n",
    "Project & Report Crated By: Rachel Robbins-Mayhill 2022-03-14"
   ]
  },
  {
   "cell_type": "markdown",
   "id": "2cdde895-5b25-4309-ad26-7e8656a82ea9",
   "metadata": {},
   "source": [
    "## PROJECT DESCRIPTION"
   ]
  },
  {
   "cell_type": "markdown",
   "id": "36d5c233-e476-44af-9eb9-ab4eb32c7b72",
   "metadata": {},
   "source": [
    "With an ever-competitive business market, it is vital to understand your customer base and what drives them to stay with your company. Afterall, customer attrition is expensive! In fact, Telco has lost 140K of monthly revenue due to churn. Wouldn't it be nice to recover some of that revenue!\n",
    "\n",
    "In the grand scheme of business, it is far less expensive to keep an existing customer than it is to acquire a new one for the long term. Therefore, it is important to identify drivers causing customers to leave. When you know WHY customers are leaving, you can take steps to help keep customers satisfied, ultimately preventing attrition and retaining current customers for the long term. Customer retention is not only important for maintaining revenue, but it allows room to continue to plan for growth while knowing you have a steady financial foundation. \n",
    "\n",
    "This report will identify key drivers of churn for the Telco dataset and use modeling and statistics to identify ways to prevent churn in the future. Churn is another term for attrition and is represented by the percentage of customers who stop doing business with the company. Ultimately this report will provide a recommendation that could be used by Telco or other customer-based service companies to decrease churn and maximize retention."
   ]
  },
  {
   "cell_type": "markdown",
   "id": "01e83306-8055-4b80-9cc6-710cd996cf90",
   "metadata": {},
   "source": [
    "### PROJECT GOAL"
   ]
  },
  {
   "cell_type": "markdown",
   "id": "80e418e0-8e97-46b6-aba7-36ef69a85b27",
   "metadata": {},
   "source": [
    "The goal of this report is to identify key drivers of churn for Teleco, a telecommunications company, and make recommendations to reduce churn in order to increase customer retention, and ultimately increase revenue. Through machine learning and statistical analysis, predictions of future churn will be identified and recommendations for prevention will be made in order to improve customer retention."
   ]
  },
  {
   "cell_type": "markdown",
   "id": "1652ff6b-bdec-4018-98aa-a198237af884",
   "metadata": {},
   "source": [
    "### INITIAL QUESTIONS\n",
    "During the course of exploration, this project worked to answer the following questions:\n",
    "- Are customers with fiber optic internet more likely to churn?\n",
    "- Are customers who pay more per month more likely to churn?\n",
    "- Are month-to-month customers more likely to churn?\n",
    "- What is the total monthly revenue for the company after churn?\n",
    "- What amount of revenue is being lost by churn?\n",
    "- What amount of revenue could we recover by implementing changes?"
   ]
  },
  {
   "cell_type": "markdown",
   "id": "1a7f63f1-e514-4f1d-8f91-143aa373cc5e",
   "metadata": {},
   "source": [
    "----"
   ]
  },
  {
   "cell_type": "markdown",
   "id": "efefb589-e981-4128-baea-f014d01f29ee",
   "metadata": {},
   "source": [
    "To look at the data, some supporting programs are needed. The required supplemental libraries and modules are imported below."
   ]
  },
  {
   "cell_type": "code",
   "execution_count": 1,
   "id": "4b4887c9-3804-4660-9cb5-ebc28c9eb3eb",
   "metadata": {},
   "outputs": [],
   "source": [
    "# import python linraries\n",
    "import pandas as pd\n",
    "import numpy as np\n",
    "import scipy.stats as stats\n",
    "\n",
    "# import modules and created functions\n",
    "import acquire\n",
    "import prepare\n",
    "\n",
    "\n",
    "# import visualization tools\n",
    "import matplotlib.pyplot as plt\n",
    "import seaborn as sns\n",
    "from sklearn.tree import DecisionTreeClassifier, plot_tree\n",
    "\n",
    "# import machine-learning python library elements \n",
    "from sklearn.dummy import DummyClassifier\n",
    "from sklearn.model_selection import train_test_split\n",
    "\n",
    "from sklearn.metrics import classification_report\n",
    "from sklearn.metrics import confusion_matrix\n",
    "\n",
    "from sklearn.ensemble import RandomForestClassifier\n",
    "from sklearn.neighbors import KNeighborsClassifier\n",
    "from sklearn.linear_model import LogisticRegression\n",
    "\n",
    "# eliminate pesky warnings about future changes to libraries from popping up\n",
    "import warnings\n",
    "warnings.filterwarnings('ignore')"
   ]
  },
  {
   "cell_type": "markdown",
   "id": "dce28281-3b32-4ea9-9555-4b6002ab3466",
   "metadata": {},
   "source": [
    "---"
   ]
  },
  {
   "cell_type": "markdown",
   "id": "ae7f581e-b742-4bc7-9189-b9d0433576ea",
   "metadata": {},
   "source": [
    "## ACQUISITION & PREPARATION of DATA"
   ]
  },
  {
   "cell_type": "markdown",
   "id": "12e53440-8fa0-45ef-8b5a-1ff1030fc8e6",
   "metadata": {},
   "source": [
    "#### I. Acquire the Data"
   ]
  },
  {
   "cell_type": "markdown",
   "id": "128fd163-3e22-45f8-b5ef-2a256ad30646",
   "metadata": {},
   "source": [
    "The data for this report was acquired by accessing 'telco_churn' from the Codeup SQL database. By combining all columns from four tables within the database;`customers`, `contract_types`, `internet_service_types`, and `payment_types.`"
   ]
  },
  {
   "cell_type": "code",
   "execution_count": 2,
   "id": "c6ac67f2-5849-42b5-aa10-f49a8b5afa1b",
   "metadata": {},
   "outputs": [
    {
     "name": "stdout",
     "output_type": "stream",
     "text": [
      "Reading from csv file...\n"
     ]
    }
   ],
   "source": [
    "acquire_df = acquire.get_telco_data()"
   ]
  },
  {
   "cell_type": "code",
   "execution_count": null,
   "id": "8408ab11-241e-41c1-a552-bdd910cf6550",
   "metadata": {},
   "outputs": [],
   "source": [
    "# build a viz here setting the context of the data "
   ]
  },
  {
   "cell_type": "code",
   "execution_count": null,
   "id": "eaa6cae7-9e83-4048-8e19-b8c5ae06cdb8",
   "metadata": {},
   "outputs": [],
   "source": [
    "print(acquire_df.churn.value_counts())\n",
    "acquire_df.churn.value_counts().plot.bar()\n",
    "plt.title('Overall Churn')\n",
    "plt.xlabel('Churn')\n",
    "plt.ylabel('# Of Customers')\n",
    "plt.tight_layout()\n",
    "plt.show()"
   ]
  },
  {
   "cell_type": "markdown",
   "id": "edc437f2-a4b3-48db-9428-deac77e1bb54",
   "metadata": {},
   "source": [
    "#### II. Prepare the Data"
   ]
  },
  {
   "cell_type": "markdown",
   "id": "c5686564-e953-48a5-bf4a-72a2f17a1823",
   "metadata": {},
   "source": [
    "Once acquired, a new table (Dataframe) containing all necessary data was created.  This new table was then analyzed and adjusted to eliminate data errors, clarify confusion, and code non-numeric data into more useful numeric types. "
   ]
  },
  {
   "cell_type": "markdown",
   "id": "d6913632-c0fb-4ba9-a94f-3e21c3f8998c",
   "metadata": {},
   "source": [
    "Some of the data correction strategies that were employed were:\n",
    "    \n",
    "- Addressing Missing Data\n",
    "    - Dropping 11 missing values from total charges, as it was a very small portion of our data\n",
    "    \n",
    "- Dropping Unnecessary Columns\n",
    "    - 'payment_type_id', 'internet_service_type_id', 'contract_type_id' had duplicate data, providing the same information as payment_type, internet_service_type, and contract_type \n",
    "    \n",
    "- Rename Columns\n",
    "    - Adding verbs 'is' or 'has' to column names for ease of data understanding after converting word values to numeric values\n",
    "    \n",
    "- Standardize Data Types\n",
    "    - Adjusted monetary columns to have matching data types for ease of use\n",
    "    \n",
    "- Create Numeric Data Types for Data that was in Word From\n",
    "    - The following columns needed to be transformed to numeric values: 'gender', 'partner', 'dependents', 'phone_service', 'multiple_lines', 'online_security','online_backup', 'device_protection', 'tech_support', 'streaming_tv', 'streaming_movies','paperless_billing', 'churn', 'contract_type', 'internet_service_type', 'payment_type'\n"
   ]
  },
  {
   "cell_type": "markdown",
   "id": "da1e954e-d171-4966-88a1-17d243cc2faa",
   "metadata": {},
   "source": [
    "#### Results of Preparing the Data\n",
    "The results of the acquisition and preparation phases resulted in data that was ready to explore. "
   ]
  },
  {
   "cell_type": "code",
   "execution_count": 3,
   "id": "2ec92b25-6fde-4fbc-bb67-23335e564759",
   "metadata": {},
   "outputs": [
    {
     "name": "stdout",
     "output_type": "stream",
     "text": [
      "<class 'pandas.core.frame.DataFrame'>\n",
      "Int64Index: 7032 entries, 0 to 7042\n",
      "Data columns (total 35 columns):\n",
      " #   Column                                     Non-Null Count  Dtype  \n",
      "---  ------                                     --------------  -----  \n",
      " 0   customer_id                                7032 non-null   object \n",
      " 1   is_senior                                  7032 non-null   int64  \n",
      " 2   tenure_months                              7032 non-null   int64  \n",
      " 3   monthly_charges                            7032 non-null   float64\n",
      " 4   total_charges                              7032 non-null   float64\n",
      " 5   contract_type                              7032 non-null   object \n",
      " 6   internet_service_type                      7032 non-null   object \n",
      " 7   payment_type                               7032 non-null   object \n",
      " 8   is_male_Male                               7032 non-null   uint8  \n",
      " 9   has_partner_Yes                            7032 non-null   uint8  \n",
      " 10  has_dependents_Yes                         7032 non-null   uint8  \n",
      " 11  has_phone_service_Yes                      7032 non-null   uint8  \n",
      " 12  has_multiple_lines_No phone service        7032 non-null   uint8  \n",
      " 13  has_multiple_lines_Yes                     7032 non-null   uint8  \n",
      " 14  has_online_security_No internet service    7032 non-null   uint8  \n",
      " 15  has_online_security_Yes                    7032 non-null   uint8  \n",
      " 16  has_online_backup_No internet service      7032 non-null   uint8  \n",
      " 17  has_online_backup_Yes                      7032 non-null   uint8  \n",
      " 18  has_device_protection_No internet service  7032 non-null   uint8  \n",
      " 19  has_device_protection_Yes                  7032 non-null   uint8  \n",
      " 20  has_tech_support_No internet service       7032 non-null   uint8  \n",
      " 21  has_tech_support_Yes                       7032 non-null   uint8  \n",
      " 22  has_streaming_tv_No internet service       7032 non-null   uint8  \n",
      " 23  has_streaming_tv_Yes                       7032 non-null   uint8  \n",
      " 24  has_streaming_movies_No internet service   7032 non-null   uint8  \n",
      " 25  has_streaming_movies_Yes                   7032 non-null   uint8  \n",
      " 26  has_paperless_billing_Yes                  7032 non-null   uint8  \n",
      " 27  did_churn_Yes                              7032 non-null   uint8  \n",
      " 28  contract_type_One year                     7032 non-null   uint8  \n",
      " 29  contract_type_Two year                     7032 non-null   uint8  \n",
      " 30  internet_service_type_Fiber optic          7032 non-null   uint8  \n",
      " 31  internet_service_type_None                 7032 non-null   uint8  \n",
      " 32  payment_type_Credit card (automatic)       7032 non-null   uint8  \n",
      " 33  payment_type_Electronic check              7032 non-null   uint8  \n",
      " 34  payment_type_Mailed check                  7032 non-null   uint8  \n",
      "dtypes: float64(2), int64(2), object(4), uint8(27)\n",
      "memory usage: 679.9+ KB\n"
     ]
    }
   ],
   "source": [
    "df = prepare.clean_telco_data(acquire_df)\n",
    "df.info()"
   ]
  },
  {
   "cell_type": "markdown",
   "id": "84a3fb2d-ec59-4d31-90f5-7d986da2c1a3",
   "metadata": {},
   "source": [
    "#### Segmenting Prepared Data"
   ]
  },
  {
   "cell_type": "markdown",
   "id": "9b0f28e6-771a-47a6-a837-17b366f3e333",
   "metadata": {},
   "source": [
    "After cleaningup the data, it is split into 3 samples;  train, validate, and test. \n",
    "- The train sample is used to explore, fit to models, and evaluate results without looking at new data.\n",
    "- The validate sample is used to verify our models built are not overfit to the train dataset.\n",
    "- The test set sample is used to give an estimate of how this model will perform on data it has never seen in the future.\n",
    "- The samples are then separated into two groups with y representing the target variable and x representing the rest of the data."
   ]
  },
  {
   "cell_type": "code",
   "execution_count": 4,
   "id": "a4499e87-0f4e-46c7-a952-9a57d7c14009",
   "metadata": {},
   "outputs": [
    {
     "name": "stdout",
     "output_type": "stream",
     "text": [
      "train -> (3937, 34)\n",
      "validate -> (1688, 34)\n",
      "test -> (1407, 34)\n"
     ]
    }
   ],
   "source": [
    "# The number of rows and columns for each split is shown below.\n",
    "train, validate, test = prepare.data_split(df)"
   ]
  },
  {
   "cell_type": "code",
   "execution_count": 5,
   "id": "7c9bfee0-08ca-4efb-808b-55924f88f570",
   "metadata": {},
   "outputs": [],
   "source": [
    "# Set our X and y, in order to conduct evaluation and testing on our target variable. \n",
    "X_train, y_train = train.drop(columns='did_churn_Yes'), train['did_churn_Yes']\n",
    "X_validate, y_validate = validate.drop(columns='did_churn_Yes'), validate['did_churn_Yes']"
   ]
  },
  {
   "cell_type": "code",
   "execution_count": 26,
   "id": "4901478b-a6a1-414b-aac5-0b5eb6c3b60e",
   "metadata": {},
   "outputs": [
    {
     "data": {
      "text/html": [
       "<div>\n",
       "<style scoped>\n",
       "    .dataframe tbody tr th:only-of-type {\n",
       "        vertical-align: middle;\n",
       "    }\n",
       "\n",
       "    .dataframe tbody tr th {\n",
       "        vertical-align: top;\n",
       "    }\n",
       "\n",
       "    .dataframe thead th {\n",
       "        text-align: right;\n",
       "    }\n",
       "</style>\n",
       "<table border=\"1\" class=\"dataframe\">\n",
       "  <thead>\n",
       "    <tr style=\"text-align: right;\">\n",
       "      <th></th>\n",
       "      <th>5919</th>\n",
       "      <th>1915</th>\n",
       "      <th>5054</th>\n",
       "      <th>2355</th>\n",
       "      <th>6279</th>\n",
       "    </tr>\n",
       "  </thead>\n",
       "  <tbody>\n",
       "    <tr>\n",
       "      <th>is_senior</th>\n",
       "      <td>0.0</td>\n",
       "      <td>0.00</td>\n",
       "      <td>0.00</td>\n",
       "      <td>0.0</td>\n",
       "      <td>1.0</td>\n",
       "    </tr>\n",
       "    <tr>\n",
       "      <th>tenure_months</th>\n",
       "      <td>58.0</td>\n",
       "      <td>71.00</td>\n",
       "      <td>35.00</td>\n",
       "      <td>1.0</td>\n",
       "      <td>20.0</td>\n",
       "    </tr>\n",
       "    <tr>\n",
       "      <th>monthly_charges</th>\n",
       "      <td>71.1</td>\n",
       "      <td>85.45</td>\n",
       "      <td>25.75</td>\n",
       "      <td>19.2</td>\n",
       "      <td>54.0</td>\n",
       "    </tr>\n",
       "    <tr>\n",
       "      <th>total_charges</th>\n",
       "      <td>4299.2</td>\n",
       "      <td>6028.95</td>\n",
       "      <td>882.55</td>\n",
       "      <td>19.2</td>\n",
       "      <td>1055.9</td>\n",
       "    </tr>\n",
       "    <tr>\n",
       "      <th>is_male_Male</th>\n",
       "      <td>0.0</td>\n",
       "      <td>1.00</td>\n",
       "      <td>0.00</td>\n",
       "      <td>1.0</td>\n",
       "      <td>1.0</td>\n",
       "    </tr>\n",
       "    <tr>\n",
       "      <th>has_partner_Yes</th>\n",
       "      <td>0.0</td>\n",
       "      <td>0.00</td>\n",
       "      <td>1.00</td>\n",
       "      <td>1.0</td>\n",
       "      <td>0.0</td>\n",
       "    </tr>\n",
       "    <tr>\n",
       "      <th>has_dependents_Yes</th>\n",
       "      <td>0.0</td>\n",
       "      <td>1.00</td>\n",
       "      <td>1.00</td>\n",
       "      <td>1.0</td>\n",
       "      <td>0.0</td>\n",
       "    </tr>\n",
       "    <tr>\n",
       "      <th>has_phone_service_Yes</th>\n",
       "      <td>1.0</td>\n",
       "      <td>1.00</td>\n",
       "      <td>1.00</td>\n",
       "      <td>1.0</td>\n",
       "      <td>1.0</td>\n",
       "    </tr>\n",
       "    <tr>\n",
       "      <th>has_multiple_lines_No phone service</th>\n",
       "      <td>0.0</td>\n",
       "      <td>0.00</td>\n",
       "      <td>0.00</td>\n",
       "      <td>0.0</td>\n",
       "      <td>0.0</td>\n",
       "    </tr>\n",
       "    <tr>\n",
       "      <th>has_multiple_lines_Yes</th>\n",
       "      <td>1.0</td>\n",
       "      <td>1.00</td>\n",
       "      <td>1.00</td>\n",
       "      <td>0.0</td>\n",
       "      <td>0.0</td>\n",
       "    </tr>\n",
       "    <tr>\n",
       "      <th>has_online_security_No internet service</th>\n",
       "      <td>0.0</td>\n",
       "      <td>0.00</td>\n",
       "      <td>1.00</td>\n",
       "      <td>1.0</td>\n",
       "      <td>0.0</td>\n",
       "    </tr>\n",
       "    <tr>\n",
       "      <th>has_online_security_Yes</th>\n",
       "      <td>1.0</td>\n",
       "      <td>1.00</td>\n",
       "      <td>0.00</td>\n",
       "      <td>0.0</td>\n",
       "      <td>1.0</td>\n",
       "    </tr>\n",
       "    <tr>\n",
       "      <th>has_online_backup_No internet service</th>\n",
       "      <td>0.0</td>\n",
       "      <td>0.00</td>\n",
       "      <td>1.00</td>\n",
       "      <td>1.0</td>\n",
       "      <td>0.0</td>\n",
       "    </tr>\n",
       "    <tr>\n",
       "      <th>has_online_backup_Yes</th>\n",
       "      <td>1.0</td>\n",
       "      <td>1.00</td>\n",
       "      <td>0.00</td>\n",
       "      <td>0.0</td>\n",
       "      <td>0.0</td>\n",
       "    </tr>\n",
       "    <tr>\n",
       "      <th>has_device_protection_No internet service</th>\n",
       "      <td>0.0</td>\n",
       "      <td>0.00</td>\n",
       "      <td>1.00</td>\n",
       "      <td>1.0</td>\n",
       "      <td>0.0</td>\n",
       "    </tr>\n",
       "    <tr>\n",
       "      <th>has_device_protection_Yes</th>\n",
       "      <td>1.0</td>\n",
       "      <td>0.00</td>\n",
       "      <td>0.00</td>\n",
       "      <td>0.0</td>\n",
       "      <td>0.0</td>\n",
       "    </tr>\n",
       "    <tr>\n",
       "      <th>has_tech_support_No internet service</th>\n",
       "      <td>0.0</td>\n",
       "      <td>0.00</td>\n",
       "      <td>1.00</td>\n",
       "      <td>1.0</td>\n",
       "      <td>0.0</td>\n",
       "    </tr>\n",
       "    <tr>\n",
       "      <th>has_tech_support_Yes</th>\n",
       "      <td>1.0</td>\n",
       "      <td>0.00</td>\n",
       "      <td>0.00</td>\n",
       "      <td>0.0</td>\n",
       "      <td>1.0</td>\n",
       "    </tr>\n",
       "    <tr>\n",
       "      <th>has_streaming_tv_No internet service</th>\n",
       "      <td>0.0</td>\n",
       "      <td>0.00</td>\n",
       "      <td>1.00</td>\n",
       "      <td>1.0</td>\n",
       "      <td>0.0</td>\n",
       "    </tr>\n",
       "    <tr>\n",
       "      <th>has_streaming_tv_Yes</th>\n",
       "      <td>0.0</td>\n",
       "      <td>0.00</td>\n",
       "      <td>0.00</td>\n",
       "      <td>0.0</td>\n",
       "      <td>0.0</td>\n",
       "    </tr>\n",
       "    <tr>\n",
       "      <th>has_streaming_movies_No internet service</th>\n",
       "      <td>0.0</td>\n",
       "      <td>0.00</td>\n",
       "      <td>1.00</td>\n",
       "      <td>1.0</td>\n",
       "      <td>0.0</td>\n",
       "    </tr>\n",
       "    <tr>\n",
       "      <th>has_streaming_movies_Yes</th>\n",
       "      <td>0.0</td>\n",
       "      <td>0.00</td>\n",
       "      <td>0.00</td>\n",
       "      <td>0.0</td>\n",
       "      <td>0.0</td>\n",
       "    </tr>\n",
       "    <tr>\n",
       "      <th>has_paperless_billing_Yes</th>\n",
       "      <td>1.0</td>\n",
       "      <td>1.00</td>\n",
       "      <td>1.00</td>\n",
       "      <td>0.0</td>\n",
       "      <td>0.0</td>\n",
       "    </tr>\n",
       "    <tr>\n",
       "      <th>contract_type_One year</th>\n",
       "      <td>1.0</td>\n",
       "      <td>1.00</td>\n",
       "      <td>0.00</td>\n",
       "      <td>0.0</td>\n",
       "      <td>1.0</td>\n",
       "    </tr>\n",
       "    <tr>\n",
       "      <th>contract_type_Two year</th>\n",
       "      <td>0.0</td>\n",
       "      <td>0.00</td>\n",
       "      <td>0.00</td>\n",
       "      <td>0.0</td>\n",
       "      <td>0.0</td>\n",
       "    </tr>\n",
       "    <tr>\n",
       "      <th>internet_service_type_Fiber optic</th>\n",
       "      <td>0.0</td>\n",
       "      <td>1.00</td>\n",
       "      <td>0.00</td>\n",
       "      <td>0.0</td>\n",
       "      <td>0.0</td>\n",
       "    </tr>\n",
       "    <tr>\n",
       "      <th>internet_service_type_None</th>\n",
       "      <td>0.0</td>\n",
       "      <td>0.00</td>\n",
       "      <td>1.00</td>\n",
       "      <td>1.0</td>\n",
       "      <td>0.0</td>\n",
       "    </tr>\n",
       "    <tr>\n",
       "      <th>payment_type_Credit card (automatic)</th>\n",
       "      <td>1.0</td>\n",
       "      <td>1.00</td>\n",
       "      <td>0.00</td>\n",
       "      <td>0.0</td>\n",
       "      <td>0.0</td>\n",
       "    </tr>\n",
       "    <tr>\n",
       "      <th>payment_type_Electronic check</th>\n",
       "      <td>0.0</td>\n",
       "      <td>0.00</td>\n",
       "      <td>1.00</td>\n",
       "      <td>0.0</td>\n",
       "      <td>0.0</td>\n",
       "    </tr>\n",
       "    <tr>\n",
       "      <th>payment_type_Mailed check</th>\n",
       "      <td>0.0</td>\n",
       "      <td>0.00</td>\n",
       "      <td>0.00</td>\n",
       "      <td>1.0</td>\n",
       "      <td>1.0</td>\n",
       "    </tr>\n",
       "  </tbody>\n",
       "</table>\n",
       "</div>"
      ],
      "text/plain": [
       "                                             5919     1915    5054  2355  \\\n",
       "is_senior                                     0.0     0.00    0.00   0.0   \n",
       "tenure_months                                58.0    71.00   35.00   1.0   \n",
       "monthly_charges                              71.1    85.45   25.75  19.2   \n",
       "total_charges                              4299.2  6028.95  882.55  19.2   \n",
       "is_male_Male                                  0.0     1.00    0.00   1.0   \n",
       "has_partner_Yes                               0.0     0.00    1.00   1.0   \n",
       "has_dependents_Yes                            0.0     1.00    1.00   1.0   \n",
       "has_phone_service_Yes                         1.0     1.00    1.00   1.0   \n",
       "has_multiple_lines_No phone service           0.0     0.00    0.00   0.0   \n",
       "has_multiple_lines_Yes                        1.0     1.00    1.00   0.0   \n",
       "has_online_security_No internet service       0.0     0.00    1.00   1.0   \n",
       "has_online_security_Yes                       1.0     1.00    0.00   0.0   \n",
       "has_online_backup_No internet service         0.0     0.00    1.00   1.0   \n",
       "has_online_backup_Yes                         1.0     1.00    0.00   0.0   \n",
       "has_device_protection_No internet service     0.0     0.00    1.00   1.0   \n",
       "has_device_protection_Yes                     1.0     0.00    0.00   0.0   \n",
       "has_tech_support_No internet service          0.0     0.00    1.00   1.0   \n",
       "has_tech_support_Yes                          1.0     0.00    0.00   0.0   \n",
       "has_streaming_tv_No internet service          0.0     0.00    1.00   1.0   \n",
       "has_streaming_tv_Yes                          0.0     0.00    0.00   0.0   \n",
       "has_streaming_movies_No internet service      0.0     0.00    1.00   1.0   \n",
       "has_streaming_movies_Yes                      0.0     0.00    0.00   0.0   \n",
       "has_paperless_billing_Yes                     1.0     1.00    1.00   0.0   \n",
       "contract_type_One year                        1.0     1.00    0.00   0.0   \n",
       "contract_type_Two year                        0.0     0.00    0.00   0.0   \n",
       "internet_service_type_Fiber optic             0.0     1.00    0.00   0.0   \n",
       "internet_service_type_None                    0.0     0.00    1.00   1.0   \n",
       "payment_type_Credit card (automatic)          1.0     1.00    0.00   0.0   \n",
       "payment_type_Electronic check                 0.0     0.00    1.00   0.0   \n",
       "payment_type_Mailed check                     0.0     0.00    0.00   1.0   \n",
       "\n",
       "                                             6279  \n",
       "is_senior                                     1.0  \n",
       "tenure_months                                20.0  \n",
       "monthly_charges                              54.0  \n",
       "total_charges                              1055.9  \n",
       "is_male_Male                                  1.0  \n",
       "has_partner_Yes                               0.0  \n",
       "has_dependents_Yes                            0.0  \n",
       "has_phone_service_Yes                         1.0  \n",
       "has_multiple_lines_No phone service           0.0  \n",
       "has_multiple_lines_Yes                        0.0  \n",
       "has_online_security_No internet service       0.0  \n",
       "has_online_security_Yes                       1.0  \n",
       "has_online_backup_No internet service         0.0  \n",
       "has_online_backup_Yes                         0.0  \n",
       "has_device_protection_No internet service     0.0  \n",
       "has_device_protection_Yes                     0.0  \n",
       "has_tech_support_No internet service          0.0  \n",
       "has_tech_support_Yes                          1.0  \n",
       "has_streaming_tv_No internet service          0.0  \n",
       "has_streaming_tv_Yes                          0.0  \n",
       "has_streaming_movies_No internet service      0.0  \n",
       "has_streaming_movies_Yes                      0.0  \n",
       "has_paperless_billing_Yes                     0.0  \n",
       "contract_type_One year                        1.0  \n",
       "contract_type_Two year                        0.0  \n",
       "internet_service_type_Fiber optic             0.0  \n",
       "internet_service_type_None                    0.0  \n",
       "payment_type_Credit card (automatic)          0.0  \n",
       "payment_type_Electronic check                 0.0  \n",
       "payment_type_Mailed check                     1.0  "
      ]
     },
     "execution_count": 26,
     "metadata": {},
     "output_type": "execute_result"
    }
   ],
   "source": [
    "X_train.head().T"
   ]
  },
  {
   "cell_type": "markdown",
   "id": "57623e09-10a7-4b45-8eef-edfebae05d97",
   "metadata": {},
   "source": [
    "________"
   ]
  },
  {
   "cell_type": "markdown",
   "id": "f3600f2b-688a-4220-9f61-758d996a0210",
   "metadata": {},
   "source": [
    "## DATA EXPLORATION - Data in Context"
   ]
  },
  {
   "cell_type": "markdown",
   "id": "0a17994b-c41a-42c3-b67c-a256f0142226",
   "metadata": {},
   "source": [
    "- Exploration started by looking at all data features and how they may have related to customer churn. \n",
    "- Looking at a correlation matrix of the features in connection with churn (below), we see a higher correlation with: \n",
    "    - Fiber Optic Internet - Positive Correlation \n",
    "    - Electronic Check - Postive Correlation\n",
    "    - Monthly Charges - Positive Correlation\n",
    "    - Tenure Months - Negative Correlation\n"
   ]
  },
  {
   "cell_type": "markdown",
   "id": "475fe4d9-0b3f-4384-a0f2-09454983932f",
   "metadata": {},
   "source": [
    "#### Correlations"
   ]
  },
  {
   "cell_type": "code",
   "execution_count": 28,
   "id": "208bf1b3-091b-4bbf-a62d-d67b318700aa",
   "metadata": {},
   "outputs": [
    {
     "name": "stdout",
     "output_type": "stream",
     "text": [
      "did_churn_Yes                                1.000000\n",
      "internet_service_type_Fiber optic            0.321678\n",
      "payment_type_Electronic check                0.292306\n",
      "monthly_charges                              0.196871\n",
      "has_paperless_billing_Yes                    0.190075\n",
      "is_senior                                    0.159932\n",
      "has_multiple_lines_Yes                       0.053031\n",
      "has_streaming_movies_Yes                     0.051348\n",
      "has_streaming_tv_Yes                         0.038849\n",
      "has_phone_service_Yes                        0.015906\n",
      "is_male_Male                                 0.000008\n",
      "has_multiple_lines_No phone service         -0.015906\n",
      "has_device_protection_Yes                   -0.060108\n",
      "has_online_backup_Yes                       -0.068519\n",
      "payment_type_Mailed check                   -0.090324\n",
      "payment_type_Credit card (automatic)        -0.127314\n",
      "has_partner_Yes                             -0.143203\n",
      "has_tech_support_Yes                        -0.159305\n",
      "has_dependents_Yes                          -0.163579\n",
      "has_online_security_Yes                     -0.180834\n",
      "contract_type_One year                      -0.181010\n",
      "total_charges                               -0.193774\n",
      "has_tech_support_No internet service        -0.230842\n",
      "has_streaming_tv_No internet service        -0.230842\n",
      "has_online_backup_No internet service       -0.230842\n",
      "has_streaming_movies_No internet service    -0.230842\n",
      "has_device_protection_No internet service   -0.230842\n",
      "internet_service_type_None                  -0.230842\n",
      "has_online_security_No internet service     -0.230842\n",
      "contract_type_Two year                      -0.300652\n",
      "tenure_months                               -0.351807\n",
      "Name: did_churn_Yes, dtype: float64\n"
     ]
    }
   ],
   "source": [
    "df_corr = train.corr().reset_index()\n",
    "corr_matrix = train.corr()\n",
    "print(corr_matrix[\"did_churn_Yes\"].sort_values(ascending=False))"
   ]
  },
  {
   "cell_type": "markdown",
   "id": "55c76d8b-63dd-43ee-8b91-2cf05b0f7422",
   "metadata": {},
   "source": [
    "#### Exploratory Questions\n",
    "The correlation observations guided our exploratory questions.\n",
    "1. Are Customers With Fiber Optic Internet More Likely to Churn?\n",
    "2. Are Customers Who Pay More per Month More likely to Churn?\n",
    "3. Are Month-to-Month Customers More Likely to Churn?\n",
    "4. What is the Total Monthly Revenue for the Company?\n",
    "5. What is the Amount of Monthly Revenue Lost by Those Who Have Churned?"
   ]
  },
  {
   "cell_type": "markdown",
   "id": "76f4eb5a-a875-4db5-bfa0-78659adc90a2",
   "metadata": {},
   "source": [
    "### 1.  POSSIBLE DRIVER OF CHURN: Are Customers with Fiber Optic Internet More Likely to Churn?"
   ]
  },
  {
   "cell_type": "markdown",
   "id": "f0adc305-3dd3-4f3f-a245-1f1cde678906",
   "metadata": {
    "tags": []
   },
   "source": [
    "#### Hypothesis"
   ]
  },
  {
   "cell_type": "markdown",
   "id": "74e661ca-c1ec-4e54-acb6-822b9c1889e3",
   "metadata": {},
   "source": [
    "- H 0 : Churn for customers with fiber optic intenet <= churn of all customers\n",
    "- H 𝑎 : Churn for customers with fiber optic intenet > churn of all customers"
   ]
  },
  {
   "cell_type": "markdown",
   "id": "7bb68164-0756-4df9-9759-cdc2c80f4888",
   "metadata": {},
   "source": [
    "#### Visualization"
   ]
  },
  {
   "cell_type": "code",
   "execution_count": 118,
   "id": "e1b4b6c2-b91b-4875-9f2a-3157bf2fa5a3",
   "metadata": {},
   "outputs": [
    {
     "data": {
      "image/png": "[encoded data removed]",
      "text/plain": [
       "<Figure size 1008x504 with 1 Axes>"
      ]
     },
     "metadata": {
      "needs_background": "light"
     },
     "output_type": "display_data"
    }
   ],
   "source": [
    "plt.figure(figsize=(14,7))\n",
    " \n",
    "# count plot on two categorical variable\n",
    "sns.countplot(x ='internet_service_type', hue = \"did_churn_Yes\", data = train)\n",
    "\n",
    "plt.title('Customer Churn by Internet Type', fontsize = 20)\n",
    "plt.xlabel('Internet Type', fontsize = 16)\n",
    "plt.xticks(fontsize = 14)\n",
    "plt.yticks(fontsize = 14)\n",
    "plt.ylabel('# of Customers', fontsize = 16)\n",
    "\n",
    "# Show the plot\n",
    "plt.show()"
   ]
  },
  {
   "cell_type": "markdown",
   "id": "8110faf0-207b-42c4-8938-a4aa4092aca7",
   "metadata": {},
   "source": [
    "#### Statistical Testing"
   ]
  },
  {
   "cell_type": "code",
   "execution_count": 9,
   "id": "199585c1-814e-41e8-bb36-90f600d0cc17",
   "metadata": {},
   "outputs": [
    {
     "name": "stdout",
     "output_type": "stream",
     "text": [
      "chi^2 = 405.9211\n",
      "p     = 0.0000\n",
      "We reject the hypothesis\n"
     ]
    }
   ],
   "source": [
    "observed = pd.crosstab(train['internet_service_type_Fiber optic'], train. did_churn_Yes)\n",
    "alpha= 0.05\n",
    "chi2, p, degf, expected = stats.chi2_contingency(observed)\n",
    "\n",
    "print(f'chi^2 = {chi2:.4f}')\n",
    "print(f'p     = {p:.4f}')\n",
    "\n",
    "if p < alpha:\n",
    "    print(\"We reject the hypothesis\")\n",
    "else:\n",
    "    print(\"We fail to reject the null hypothesis\")"
   ]
  },
  {
   "cell_type": "markdown",
   "id": "88270482-85c4-4e40-815c-b088bc79da87",
   "metadata": {},
   "source": [
    "### Answer: Customers with fiber optic internet are more likely to churn. "
   ]
  },
  {
   "cell_type": "markdown",
   "id": "7b33ca0c-6067-48fb-b983-453fee63a893",
   "metadata": {},
   "source": [
    "---------"
   ]
  },
  {
   "cell_type": "markdown",
   "id": "35b69b19-fb40-421f-aa16-823761593cbd",
   "metadata": {},
   "source": [
    "### 2.  POSSIBLE DRIVER OF CHURN: Are Customers who Pay More in Monthly Charges More likely to churn?"
   ]
  },
  {
   "cell_type": "markdown",
   "id": "ba565fc1-75bd-42ab-836d-eeae2ca5ca2d",
   "metadata": {
    "tags": []
   },
   "source": [
    "#### Hypothesis\n",
    "\n",
    "- H$_{0}$: Mean of monthly charges of churned customers <= Mean of monthly charges of all customers\n",
    "- H$_{a}$: Mean of monthly charges of churned customers > Mean of monthly charges of all customers"
   ]
  },
  {
   "cell_type": "markdown",
   "id": "5eeaefcd-6cb4-409d-aebe-9fca9fa76662",
   "metadata": {
    "tags": []
   },
   "source": [
    "#### Visualize"
   ]
  },
  {
   "cell_type": "code",
   "execution_count": 122,
   "id": "16dddc1c-f805-4bd0-9dc4-26229b964b5c",
   "metadata": {},
   "outputs": [
    {
     "data": {
      "image/png": "[encoded data removed]",
      "text/plain": [
       "<Figure size 1008x504 with 1 Axes>"
      ]
     },
     "metadata": {
      "needs_background": "light"
     },
     "output_type": "display_data"
    }
   ],
   "source": [
    "plt.figure(figsize=(14,7))\n",
    "sns.histplot(train, x=train.monthly_charges, hue =  'did_churn_Yes', multiple = 'stack', legend = False)\n",
    "\n",
    "\n",
    "plt.title('Monthly Charges for All Customers VS. Churned Customers', fontsize = 20)\n",
    "plt.xlabel('Monthly Charges', fontsize = 16)\n",
    "plt.ylabel('# of Customers', fontsize = 16)\n",
    "plt.xticks(fontsize = 14)\n",
    "plt.yticks(fontsize = 14)\n",
    "plt.legend(labels = ['All Customers', 'Churned Customers'], loc= 'best')\n",
    "plt.show()"
   ]
  },
  {
   "cell_type": "markdown",
   "id": "239692d6-b84e-4356-97dc-8bac1b474c47",
   "metadata": {
    "tags": []
   },
   "source": [
    "#### Statistical Testing"
   ]
  },
  {
   "cell_type": "code",
   "execution_count": 11,
   "id": "f204eae6-4240-47f9-a26a-04bbb3472df2",
   "metadata": {},
   "outputs": [
    {
     "name": "stdout",
     "output_type": "stream",
     "text": [
      "13.037366230308015 2.0798982128378347e-36 0.05\n",
      "We reject the null hypothesis.\n"
     ]
    }
   ],
   "source": [
    "# 1-Tailed, 1-Sample T-Test - Mean of Subgroup vs. Mean of Overall\n",
    "\n",
    "alpha = 0.05\n",
    "churn_sample = train[train.did_churn_Yes == 1].monthly_charges\n",
    "overall_mean = train.monthly_charges.mean()\n",
    "t, p = stats.ttest_1samp(churn_sample, overall_mean)\n",
    "\n",
    "print(t, p/2, alpha)\n",
    "\n",
    "if p/2 > alpha:\n",
    "    print(\"We fail to reject the null hypothesis.\")\n",
    "elif t < 0:\n",
    "    print(\"We fail to reject the null hypothesis.\")\n",
    "else:\n",
    "    print(\"We reject the null hypothesis.\")"
   ]
  },
  {
   "cell_type": "markdown",
   "id": "a8acc178-3220-4eec-b547-1dd6e6c3ff8d",
   "metadata": {},
   "source": [
    "### Answer: Customers who churn pay more in monthly charges."
   ]
  },
  {
   "cell_type": "markdown",
   "id": "43e58d55-d18d-4e16-b8d7-2e4532faf5f6",
   "metadata": {},
   "source": [
    "-------"
   ]
  },
  {
   "cell_type": "markdown",
   "id": "93f4c114-c1d2-4cc2-b687-ff100d2a4cf4",
   "metadata": {},
   "source": [
    "### 3.  POSSIBLE DRIVER OF CHURN: Are Month-to-Month Customers More Likely to Churn?"
   ]
  },
  {
   "cell_type": "markdown",
   "id": "a0d09d1a-b290-4c63-ade1-a8a979c68485",
   "metadata": {},
   "source": [
    "#### Hypothesis"
   ]
  },
  {
   "cell_type": "markdown",
   "id": "baa6c259-e2d2-41bc-8094-181e3a1640f3",
   "metadata": {},
   "source": [
    "- H 0 : Churn for customers with month to month contracts <= churn of all customers\n",
    "- H 𝑎 : Churn for customers with month to month contracts > churn of all customers"
   ]
  },
  {
   "cell_type": "markdown",
   "id": "d29382a9-a675-4dea-86d7-1880ed88eff0",
   "metadata": {},
   "source": [
    "#### Visualization"
   ]
  },
  {
   "cell_type": "code",
   "execution_count": 123,
   "id": "07e09283-002b-4dd1-be88-aa50a137b9d5",
   "metadata": {},
   "outputs": [
    {
     "data": {
      "image/png": "[encoded data removed]",
      "text/plain": [
       "<Figure size 1008x504 with 1 Axes>"
      ]
     },
     "metadata": {
      "needs_background": "light"
     },
     "output_type": "display_data"
    }
   ],
   "source": [
    "plt.figure(figsize=(14,7))\n",
    " \n",
    "# count plot on two categorical variable\n",
    "sns.countplot(x ='contract_type', hue = \"did_churn_Yes\", data = train)\n",
    "\n",
    "plt.title('Customer Churn by Contract Type', fontsize = 20)\n",
    "plt.xlabel('Contract Type', fontsize = 16)\n",
    "plt.ylabel('# of Customers', fontsize = 16)\n",
    "plt.xticks(fontsize = 14)\n",
    "plt.yticks(fontsize = 14)\n",
    "\n",
    "# Show the plot\n",
    "plt.show()"
   ]
  },
  {
   "cell_type": "markdown",
   "id": "e540517b-6535-4d06-8421-65bd84b85bd7",
   "metadata": {},
   "source": [
    "### 4. DATA CONTEXT: REVENUE "
   ]
  },
  {
   "cell_type": "code",
   "execution_count": 125,
   "id": "3abb40be-0908-47a6-8217-1e7e12fb2556",
   "metadata": {},
   "outputs": [
    {
     "name": "stdout",
     "output_type": "stream",
     "text": [
      " Overall Monthly Revenue if 50% Recovered = $ 316,986\n",
      " Sample Monthly Revenue if 50% Recovered = $ 176,982\n",
      " Overall Monthly Revenue Lost to Churn = $ 139,131\n",
      " Sample Monthly Revenue Lost to Churn = $ 78,156\n",
      " Overall Monthly Revenue if 50% Recovered = $ 386,551\n",
      " Sample Monthly Revenue if 50% Recovered = $ 216,060\n"
     ]
    }
   ],
   "source": [
    "## Code to obtain revenue numbers\n",
    "total_monthly_revenue_overall = acquire_df.monthly_charges.sum()\n",
    "total_monthly_revenue_train = train.monthly_charges.sum()\n",
    "churn_monthly_revenue_lost_overall= acquire_df[acquire_df.churn == 'Yes'].monthly_charges.sum()\n",
    "churn_monthly_revenue_lost_train = train[train.did_churn_Yes == 1].monthly_charges.sum()\n",
    "monthly_50_percent_churn_overall = total_monthly_revenue_overall - churn_monthly_revenue_lost_overall\n",
    "monthly_50_percent_churn_sample = total_monthly_revenue_train - churn_monthly_revenue_lost_train\n",
    "revenue_after_churn_overall = total_monthly_revenue_overall - (churn_monthly_revenue_lost_overall * .5)\n",
    "revenue_after_churn_sample = total_monthly_revenue_train - (churn_monthly_revenue_lost_train * .5)\n",
    "print(f' Overall Monthly Revenue if 50% Recovered = $ {monthly_50_percent_churn_overall:,.0f}')\n",
    "print(f' Sample Monthly Revenue if 50% Recovered = $ {monthly_50_percent_churn_sample:,.0f}')\n",
    "print(f' Overall Monthly Revenue Lost to Churn = $ {churn_monthly_revenue_lost_overall:,.0f}')\n",
    "print(f' Sample Monthly Revenue Lost to Churn = $ {churn_monthly_revenue_lost_train:,.0f}')\n",
    "print(f' Overall Monthly Revenue if 50% Recovered = $ {revenue_after_churn_overall :,.0f}')\n",
    "print(f' Sample Monthly Revenue if 50% Recovered = $ {revenue_after_churn_sample :,.0f}')"
   ]
  },
  {
   "cell_type": "markdown",
   "id": "9e7be2d3-2ece-4a48-84a7-7315552cb136",
   "metadata": {},
   "source": [
    "---"
   ]
  },
  {
   "cell_type": "markdown",
   "id": "20f92822-9c75-4a8d-98c7-c3dc0141a4b5",
   "metadata": {
    "tags": []
   },
   "source": [
    "### Revenue After Churn"
   ]
  },
  {
   "cell_type": "markdown",
   "id": "340be88e-01f9-4be2-8c96-6760a7e15941",
   "metadata": {
    "tags": []
   },
   "source": [
    "### $ 316,985"
   ]
  },
  {
   "cell_type": "markdown",
   "id": "6fcb1ef5-5dca-4efa-888e-95ea45a62b9e",
   "metadata": {},
   "source": [
    "---"
   ]
  },
  {
   "cell_type": "markdown",
   "id": "e6ee5b01-afdf-4000-9395-0e67306c2c29",
   "metadata": {},
   "source": [
    "### Revenue LOST Through Churn"
   ]
  },
  {
   "cell_type": "markdown",
   "id": "2f7f1fda-e030-4e3f-91ca-c489bc509912",
   "metadata": {},
   "source": [
    "### $ 139,130"
   ]
  },
  {
   "cell_type": "markdown",
   "id": "d02da42a-2a71-448b-8216-b2793ba92135",
   "metadata": {},
   "source": [
    "---"
   ]
  },
  {
   "cell_type": "markdown",
   "id": "20890df1-9504-47b1-89f4-797f1a916897",
   "metadata": {
    "tags": []
   },
   "source": [
    "### What Would the Monthly Revenue be if Telco Recovered 50% of the Churned Customers?"
   ]
  },
  {
   "cell_type": "markdown",
   "id": "24a0a585-b634-43d7-805b-471ebda3b436",
   "metadata": {
    "tags": []
   },
   "source": [
    "### $ 386,551"
   ]
  },
  {
   "cell_type": "markdown",
   "id": "1cce682b-3fbf-4cda-b615-ab13ab2953cf",
   "metadata": {},
   "source": [
    "---"
   ]
  },
  {
   "cell_type": "markdown",
   "id": "c872ac87-3ddb-4d2b-8007-9ffc5fc4413c",
   "metadata": {
    "tags": []
   },
   "source": [
    "### Total Monthly Revenue"
   ]
  },
  {
   "cell_type": "markdown",
   "id": "6a7f7d5f-be8d-45f4-8e73-3cf1283c7de8",
   "metadata": {},
   "source": []
  },
  {
   "cell_type": "markdown",
   "id": "2bd8e82e-09e5-42cf-b74f-53a1ecc1d548",
   "metadata": {},
   "source": [
    "----"
   ]
  },
  {
   "cell_type": "markdown",
   "id": "6a989018-27ec-4f86-b392-78661bea3d47",
   "metadata": {},
   "source": [
    "### Visualization"
   ]
  },
  {
   "cell_type": "code",
   "execution_count": 109,
   "id": "ecd503b7-7dbe-45e3-a020-e56394bcd4b6",
   "metadata": {},
   "outputs": [
    {
     "data": {
      "text/plain": [
       "<BarContainer object of 3 artists>"
      ]
     },
     "execution_count": 109,
     "metadata": {},
     "output_type": "execute_result"
    },
    {
     "data": {
      "image/png": "[encoded data removed]",
      "text/plain": [
       "<Figure size 1008x504 with 1 Axes>"
      ]
     },
     "metadata": {
      "needs_background": "light"
     },
     "output_type": "display_data"
    }
   ],
   "source": [
    "monthly_revenue = total_monthly_revenue_overall\n",
    "\n",
    "monthly_minus_churn = total_monthly_revenue_overall - churn_monthly_revenue_lost_overall\n",
    "\n",
    "monthly_50_percent_churn = total_monthly_revenue_overall - (churn_monthly_revenue_lost_overall * 0.5)\n",
    "\n",
    "x = [\n",
    "     \"Monthly Revenue\",\n",
    "     \"Monthly Revenue w/ 50% churn reduction\",\n",
    "     \"Monthly Revenue w/ 100% retention\",\n",
    "    ]\n",
    "\n",
    "y = [monthly_minus_churn, monthly_50_percent_churn, monthly_revenue]\n",
    "plt.figure(figsize=(14,7))\n",
    "plt.title('Revenue Impact', fontsize = 20)\n",
    "plt.xlabel('Potential Revenue Savings Outcomes', fontsize = 16)\n",
    "plt.ylabel('$ in USD', fontsize = 16)\n",
    "\n",
    "plt.bar(x, y)"
   ]
  },
  {
   "cell_type": "markdown",
   "id": "0f0ce831-a43a-4cff-a5c4-d0b9d3508e36",
   "metadata": {},
   "source": [
    "---"
   ]
  },
  {
   "cell_type": "markdown",
   "id": "9c43a3fd-e703-415a-a241-a23318fce34f",
   "metadata": {},
   "source": [
    "## ULTIMATE TAKE-AWAYS\n",
    "#### - Fiber optic internet subscribers -> more likely to churn\n",
    "#### - Customers with higher than average monthly bills -> more likely to churn\n",
    "#### - Month-to-month customers -> more likely to churn\n",
    "#### - $ 140,000 in monthly revenue is lost to churn"
   ]
  },
  {
   "cell_type": "markdown",
   "id": "e4f200bf-d10d-47c6-830e-82b92d36c27e",
   "metadata": {},
   "source": [
    "_________"
   ]
  },
  {
   "cell_type": "markdown",
   "id": "fdcdd521-5bb8-45cc-a255-af7c7a63d8e4",
   "metadata": {},
   "source": [
    "## DATA MODELING"
   ]
  },
  {
   "cell_type": "markdown",
   "id": "df913a13-5edb-46cd-98df-18fe87acc570",
   "metadata": {
    "tags": []
   },
   "source": [
    "## Summary \n",
    "Because churn is a yes or no (boolean) value, classification machine learning algorithms were used to fit to the training data and the models were evaluated on validate data. The best model was selected using accuracy, because the data is mostly balanced, and the risk of an event happening balances the risk of getting a prediction wrong. In other words, the model was optimized for identifying true positives (actual churn when predicted), and true negative (no churn when predicted).   "
   ]
  },
  {
   "cell_type": "markdown",
   "id": "9259cf02-6bf6-4975-92e5-ebd88efb3062",
   "metadata": {},
   "source": [
    "### Baseline\n",
    "I will set a baseline prediction by predicting all customers will churn (churn == 0). I will evaluate the accuracy of that."
   ]
  },
  {
   "cell_type": "code",
   "execution_count": 21,
   "id": "4b0ad42b-00e6-48ae-9c47-6532511a0f85",
   "metadata": {},
   "outputs": [],
   "source": [
    "# Set X and y variables for model testing. \n",
    "X_train, y_train = train.drop(columns=['contract_type', 'internet_service_type', 'payment_type','did_churn_Yes']), train['did_churn_Yes']\n",
    "X_validate, y_validate = validate.drop(columns=['contract_type', 'internet_service_type', 'payment_type','did_churn_Yes']), validate['did_churn_Yes']\n",
    "X_test, y_test = test.drop(columns=['contract_type', 'internet_service_type', 'payment_type','did_churn_Yes']), test['did_churn_Yes']"
   ]
  },
  {
   "cell_type": "code",
   "execution_count": 32,
   "id": "13199f31-061b-473b-afe4-bd861100b414",
   "metadata": {},
   "outputs": [
    {
     "name": "stdout",
     "output_type": "stream",
     "text": [
      "Baseline Accuracy: 73.43%\n"
     ]
    }
   ],
   "source": [
    "train.did_churn_Yes.value_counts()\n",
    "baseline = y_train.mode()\n",
    "matches_baseline_prediction = (y_train == 0)\n",
    "baseline_accuracy = matches_baseline_prediction.mean()\n",
    "\n",
    "print(f'Baseline Accuracy: {baseline_accuracy:.2%}')"
   ]
  },
  {
   "cell_type": "markdown",
   "id": "b45f3805-c01e-457e-9468-bae68a9b334e",
   "metadata": {
    "tags": []
   },
   "source": [
    "#### The 3 models built were \n",
    "- Decision Tree\n",
    "- Random Forest\n",
    "- Logistic Regression\n",
    "\n",
    "The models were run with many trials, adjusting parameters and algorithms to find the best performing model.  \n",
    "\n",
    "- None of these model appeared to be overfit.\n",
    "\n",
    "- The Random Forest Model that performed best had 10 samples_per_leaf and max_depth of 10, with train accuracy of 82.9% and validate accuracy of 80.0.% performing 6.47% better than baseline with validate. \n",
    "\n",
    "- it was then applied to the un-seen test data."
   ]
  },
  {
   "cell_type": "code",
   "execution_count": 34,
   "id": "880dba65-d6c0-4a64-a62f-99e7ad119378",
   "metadata": {},
   "outputs": [
    {
     "data": {
      "text/html": [
       "<div>\n",
       "<style scoped>\n",
       "    .dataframe tbody tr th:only-of-type {\n",
       "        vertical-align: middle;\n",
       "    }\n",
       "\n",
       "    .dataframe tbody tr th {\n",
       "        vertical-align: top;\n",
       "    }\n",
       "\n",
       "    .dataframe thead th {\n",
       "        text-align: right;\n",
       "    }\n",
       "</style>\n",
       "<table border=\"1\" class=\"dataframe\">\n",
       "  <thead>\n",
       "    <tr style=\"text-align: right;\">\n",
       "      <th></th>\n",
       "      <th>min_samples_per_leaf</th>\n",
       "      <th>max_depth</th>\n",
       "      <th>train_accuracy</th>\n",
       "      <th>validate_accuracy</th>\n",
       "      <th>difference</th>\n",
       "    </tr>\n",
       "  </thead>\n",
       "  <tbody>\n",
       "    <tr>\n",
       "      <th>0</th>\n",
       "      <td>1</td>\n",
       "      <td>1</td>\n",
       "      <td>0.734315</td>\n",
       "      <td>0.734005</td>\n",
       "      <td>0.000311</td>\n",
       "    </tr>\n",
       "    <tr>\n",
       "      <th>1</th>\n",
       "      <td>2</td>\n",
       "      <td>2</td>\n",
       "      <td>0.765304</td>\n",
       "      <td>0.751185</td>\n",
       "      <td>0.014119</td>\n",
       "    </tr>\n",
       "    <tr>\n",
       "      <th>2</th>\n",
       "      <td>3</td>\n",
       "      <td>3</td>\n",
       "      <td>0.787148</td>\n",
       "      <td>0.770142</td>\n",
       "      <td>0.017005</td>\n",
       "    </tr>\n",
       "    <tr>\n",
       "      <th>3</th>\n",
       "      <td>4</td>\n",
       "      <td>4</td>\n",
       "      <td>0.801880</td>\n",
       "      <td>0.781991</td>\n",
       "      <td>0.019889</td>\n",
       "    </tr>\n",
       "    <tr>\n",
       "      <th>4</th>\n",
       "      <td>5</td>\n",
       "      <td>5</td>\n",
       "      <td>0.808230</td>\n",
       "      <td>0.791469</td>\n",
       "      <td>0.016760</td>\n",
       "    </tr>\n",
       "    <tr>\n",
       "      <th>5</th>\n",
       "      <td>6</td>\n",
       "      <td>6</td>\n",
       "      <td>0.811786</td>\n",
       "      <td>0.786730</td>\n",
       "      <td>0.025056</td>\n",
       "    </tr>\n",
       "    <tr>\n",
       "      <th>6</th>\n",
       "      <td>7</td>\n",
       "      <td>7</td>\n",
       "      <td>0.815342</td>\n",
       "      <td>0.796209</td>\n",
       "      <td>0.019133</td>\n",
       "    </tr>\n",
       "    <tr>\n",
       "      <th>7</th>\n",
       "      <td>8</td>\n",
       "      <td>8</td>\n",
       "      <td>0.821184</td>\n",
       "      <td>0.791469</td>\n",
       "      <td>0.029714</td>\n",
       "    </tr>\n",
       "    <tr>\n",
       "      <th>8</th>\n",
       "      <td>9</td>\n",
       "      <td>9</td>\n",
       "      <td>0.828550</td>\n",
       "      <td>0.796209</td>\n",
       "      <td>0.032341</td>\n",
       "    </tr>\n",
       "    <tr>\n",
       "      <th>9</th>\n",
       "      <td>10</td>\n",
       "      <td>10</td>\n",
       "      <td>0.830328</td>\n",
       "      <td>0.796801</td>\n",
       "      <td>0.033527</td>\n",
       "    </tr>\n",
       "    <tr>\n",
       "      <th>10</th>\n",
       "      <td>11</td>\n",
       "      <td>11</td>\n",
       "      <td>0.830074</td>\n",
       "      <td>0.792062</td>\n",
       "      <td>0.038012</td>\n",
       "    </tr>\n",
       "    <tr>\n",
       "      <th>11</th>\n",
       "      <td>12</td>\n",
       "      <td>12</td>\n",
       "      <td>0.827026</td>\n",
       "      <td>0.793839</td>\n",
       "      <td>0.033187</td>\n",
       "    </tr>\n",
       "    <tr>\n",
       "      <th>12</th>\n",
       "      <td>13</td>\n",
       "      <td>13</td>\n",
       "      <td>0.828550</td>\n",
       "      <td>0.793246</td>\n",
       "      <td>0.035303</td>\n",
       "    </tr>\n",
       "    <tr>\n",
       "      <th>13</th>\n",
       "      <td>14</td>\n",
       "      <td>14</td>\n",
       "      <td>0.824232</td>\n",
       "      <td>0.793839</td>\n",
       "      <td>0.030393</td>\n",
       "    </tr>\n",
       "    <tr>\n",
       "      <th>14</th>\n",
       "      <td>15</td>\n",
       "      <td>15</td>\n",
       "      <td>0.824994</td>\n",
       "      <td>0.794431</td>\n",
       "      <td>0.030562</td>\n",
       "    </tr>\n",
       "    <tr>\n",
       "      <th>15</th>\n",
       "      <td>16</td>\n",
       "      <td>16</td>\n",
       "      <td>0.823724</td>\n",
       "      <td>0.793839</td>\n",
       "      <td>0.029885</td>\n",
       "    </tr>\n",
       "    <tr>\n",
       "      <th>16</th>\n",
       "      <td>17</td>\n",
       "      <td>17</td>\n",
       "      <td>0.816866</td>\n",
       "      <td>0.795024</td>\n",
       "      <td>0.021842</td>\n",
       "    </tr>\n",
       "    <tr>\n",
       "      <th>17</th>\n",
       "      <td>18</td>\n",
       "      <td>18</td>\n",
       "      <td>0.818898</td>\n",
       "      <td>0.795616</td>\n",
       "      <td>0.023282</td>\n",
       "    </tr>\n",
       "    <tr>\n",
       "      <th>18</th>\n",
       "      <td>19</td>\n",
       "      <td>19</td>\n",
       "      <td>0.818898</td>\n",
       "      <td>0.795024</td>\n",
       "      <td>0.023874</td>\n",
       "    </tr>\n",
       "    <tr>\n",
       "      <th>19</th>\n",
       "      <td>20</td>\n",
       "      <td>20</td>\n",
       "      <td>0.819406</td>\n",
       "      <td>0.793246</td>\n",
       "      <td>0.026159</td>\n",
       "    </tr>\n",
       "  </tbody>\n",
       "</table>\n",
       "</div>"
      ],
      "text/plain": [
       "    min_samples_per_leaf  max_depth  train_accuracy  validate_accuracy  \\\n",
       "0                      1          1        0.734315           0.734005   \n",
       "1                      2          2        0.765304           0.751185   \n",
       "2                      3          3        0.787148           0.770142   \n",
       "3                      4          4        0.801880           0.781991   \n",
       "4                      5          5        0.808230           0.791469   \n",
       "5                      6          6        0.811786           0.786730   \n",
       "6                      7          7        0.815342           0.796209   \n",
       "7                      8          8        0.821184           0.791469   \n",
       "8                      9          9        0.828550           0.796209   \n",
       "9                     10         10        0.830328           0.796801   \n",
       "10                    11         11        0.830074           0.792062   \n",
       "11                    12         12        0.827026           0.793839   \n",
       "12                    13         13        0.828550           0.793246   \n",
       "13                    14         14        0.824232           0.793839   \n",
       "14                    15         15        0.824994           0.794431   \n",
       "15                    16         16        0.823724           0.793839   \n",
       "16                    17         17        0.816866           0.795024   \n",
       "17                    18         18        0.818898           0.795616   \n",
       "18                    19         19        0.818898           0.795024   \n",
       "19                    20         20        0.819406           0.793246   \n",
       "\n",
       "    difference  \n",
       "0     0.000311  \n",
       "1     0.014119  \n",
       "2     0.017005  \n",
       "3     0.019889  \n",
       "4     0.016760  \n",
       "5     0.025056  \n",
       "6     0.019133  \n",
       "7     0.029714  \n",
       "8     0.032341  \n",
       "9     0.033527  \n",
       "10    0.038012  \n",
       "11    0.033187  \n",
       "12    0.035303  \n",
       "13    0.030393  \n",
       "14    0.030562  \n",
       "15    0.029885  \n",
       "16    0.021842  \n",
       "17    0.023282  \n",
       "18    0.023874  \n",
       "19    0.026159  "
      ]
     },
     "execution_count": 34,
     "metadata": {},
     "output_type": "execute_result"
    }
   ],
   "source": [
    "# Evaluate Random Forest models on train & validate set \n",
    "# by looping through different values for max_depth and min_samples_leaf hyperparameters\n",
    "\n",
    "# create empty list for which to append metrics from each loop\n",
    "scores = []\n",
    "max_value = range(1,21)\n",
    "# create loop for range 1-20\n",
    "for i in max_value:\n",
    "    # set depth & n_samples to value for current loop\n",
    "    depth = i\n",
    "    n_samples = i\n",
    "    # define the model setting hyperparameters to values for current loop\n",
    "    forest = RandomForestClassifier(max_depth=depth, min_samples_leaf=n_samples, random_state=123)\n",
    "    # fit the model on train\n",
    "    forest = forest.fit(X_train, y_train)\n",
    "    # use the model and evaluate performance on train\n",
    "    in_sample_accuracy = forest.score(X_train, y_train)\n",
    "    # use the model and evaluate performance on validate\n",
    "    out_of_sample_accuracy = forest.score(X_validate, y_validate)\n",
    "    # create output of current loop’s hyperparameters and accuracy to append to metrics\n",
    "    output = {\n",
    "        'min_samples_per_leaf': n_samples,\n",
    "        'max_depth': depth,\n",
    "        'train_accuracy': in_sample_accuracy,\n",
    "        'validate_accuracy': out_of_sample_accuracy\n",
    "    }\n",
    "    scores.append(output)\n",
    "# convert metrics list to a dataframe for easy reading\n",
    "df = pd.DataFrame(scores)\n",
    "# add column to assess the difference between train & validate accuracy\n",
    "df['difference'] = df.train_accuracy - df.validate_accuracy\n",
    "df"
   ]
  },
  {
   "cell_type": "markdown",
   "id": "54648f84-7cfb-4710-9352-f3d1b49836df",
   "metadata": {},
   "source": [
    "This model performed the best on the validate sample, therefore, it was moved forward to be applied to the test sample."
   ]
  },
  {
   "cell_type": "code",
   "execution_count": 36,
   "id": "1ddb0fcb-e91e-4b6b-abb6-e42578ce4665",
   "metadata": {},
   "outputs": [
    {
     "name": "stdout",
     "output_type": "stream",
     "text": [
      "test_accuracy:  80.241649%\n"
     ]
    }
   ],
   "source": [
    "# Evaluate Random Forest model on train & validate set\n",
    "\n",
    "# define the model setting hyperparameters to values for current loop\n",
    "forest = RandomForestClassifier(max_depth=10, min_samples_leaf=10, random_state=123)\n",
    "\n",
    "# fit the model on train\n",
    "forest = forest.fit(X_train, y_train)\n",
    "\n",
    "# use the model and evaluate performance on train\n",
    "\n",
    "# use the model and evaluate performance on validate\n",
    "test_accuracy = forest.score(X_test, y_test)\n",
    "\n",
    "print(f'test_accuracy: {test_accuracy: 2%}')"
   ]
  },
  {
   "cell_type": "markdown",
   "id": "f5490e8d-44bc-483b-9f1b-7be70e1568b5",
   "metadata": {},
   "source": [
    "This model is expected to perform with 80% accuracy in the future on data it has not seen, given no major changes in the data source."
   ]
  },
  {
   "cell_type": "markdown",
   "id": "b889bb7c-18c6-4d98-85fd-e3bf29d266d9",
   "metadata": {},
   "source": [
    "## Conclusion"
   ]
  },
  {
   "cell_type": "markdown",
   "id": "1f25db60-a8c3-43cb-aaf1-8dadd664af08",
   "metadata": {},
   "source": [
    "### Summary"
   ]
  },
  {
   "cell_type": "markdown",
   "id": "d3ef5fad-bb66-4751-ae78-f675204274be",
   "metadata": {},
   "source": [
    "The goal of this report was to identify drivers of churn for Telco and to present reccomendations based on the findings.  \n",
    "Through the process of data acquisition, preparation, exploration, and statistical testing, it was determined customers more at-risk of churn are customers with either: \n",
    "\n",
    "- fiber optic internet \n",
    "- month-to-month contracts  \n",
    "- and higher monthly bills \n",
    "\n",
    "It was also determined Telco has the potential to recover nearly $140K in monthly revenue if this attrition is addressed. \n",
    "\n",
    " By using machine learning modeling, predictions to prevent churn were made with 80% accuracy within the best performing model. Using the modeling, a list of customers predicted to churn was created, to be useful in developing mechanisms within marketing and customer retention teams to prevent churn in high-risk customer groups. "
   ]
  },
  {
   "cell_type": "markdown",
   "id": "9d662401-c774-46e9-975f-2b45280fdb26",
   "metadata": {},
   "source": [
    "### Recommendations\n",
    "\n",
    "It is recommended each area of churn is addressed in order to maximize retention and stabilize revenue. The following recommendations are based upon each risk factor identified."
   ]
  },
  {
   "cell_type": "markdown",
   "id": "974aed17-dd4f-45c7-af14-0eab200f50c1",
   "metadata": {},
   "source": [
    "---"
   ]
  },
  {
   "cell_type": "markdown",
   "id": "d7461b49-af41-4cb4-808a-a6fd45724e19",
   "metadata": {},
   "source": [
    "#### 1. Fiber Optic Internet: \n",
    "   - Send out electronic surveys to fiber optic internet users, requesting feedback on internet service and quality satisfaction. \n",
    "    - Give a $10 statement credit towards following month's bill for completion of survey.  \n",
    "    - Collect data on survey results to move towards next steps of identifying the reason for high churn rate for fiber optic customers."
   ]
  },
  {
   "cell_type": "markdown",
   "id": "fb41f898-6b80-4116-adfd-9ac92c597d07",
   "metadata": {},
   "source": [
    "---"
   ]
  },
  {
   "cell_type": "markdown",
   "id": "1a69dd81-c6ee-4b9c-8643-cac4170cd92b",
   "metadata": {},
   "source": [
    "#### 2. Month-to-Month Contracts:\n",
    "    - Apply $15 statement credit to be applied to the FOLLOWING month's bill for month-to-month contracts.\n",
    "    - Provide %15 discount on 1-year contracts for month-to-month customers who convert within the next 2 months."
   ]
  },
  {
   "cell_type": "markdown",
   "id": "5f4db5a0-b24c-4f6a-8a41-9d83e7d80be4",
   "metadata": {},
   "source": [
    "---"
   ]
  },
  {
   "cell_type": "markdown",
   "id": "a1bc6145-ca91-44e4-b7af-6e88662edfcd",
   "metadata": {},
   "source": [
    "#### 3. Higher Monthly Bills:\n",
    "    - Apply $10 statement credit to be applied to the FOLLOWING month's bill for contract with monthly charges over the overall average."
   ]
  },
  {
   "cell_type": "markdown",
   "id": "432214e2-b839-4aa3-a9d8-7ec6ad6447b0",
   "metadata": {},
   "source": [
    "### NEXT STEPS\n",
    "If given more time, further exploration would be beneficial in the following areas:"
   ]
  },
  {
   "cell_type": "markdown",
   "id": "a4918c2c-faca-4738-bed3-63c8ca9f4b2d",
   "metadata": {},
   "source": [
    "1. Fiber-Optic_Internet: \n",
    "    - Identifying factors contributing to fiber-optic churn, such as quality, price, or add-on feature satisfaction.\n",
    "    \n",
    "2. Month-to-Month Contracts:\n",
    "    - Identify revenue impact of promotions to retain customers to identify optimal price point.\n",
    "    \n",
    "3. Higher Monthly Bills: \n",
    "    - Identify revenue impact of promotions to retain customers to identify optimal price point.\n",
    "    \n",
    "4. Further quantify how much money is being lost to each of the groups identified as high-risk for churning to assist in targeting and prioritize marketing approaches. "
   ]
  },
  {
   "cell_type": "markdown",
   "id": "5af730e8-f3fb-4ebc-8f48-94b0d2a066da",
   "metadata": {},
   "source": [
    "\n",
    "\n",
    "\n",
    "\n",
    "\n",
    "\n",
    "\n"
   ]
  }
 ],
 "metadata": {
  "kernelspec": {
   "display_name": "Python 3 (ipykernel)",
   "language": "python",
   "name": "python3"
  },
  "language_info": {
   "codemirror_mode": {
    "name": "ipython",
    "version": 3
   },
   "file_extension": ".py",
   "mimetype": "text/x-python",
   "name": "python",
   "nbconvert_exporter": "python",
   "pygments_lexer": "ipython3",
   "version": "3.9.7"
  }
 },
 "nbformat": 4,
 "nbformat_minor": 5
}
