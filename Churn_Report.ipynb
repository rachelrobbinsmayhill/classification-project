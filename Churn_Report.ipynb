{
 "cells": [
  {
   "cell_type": "markdown",
   "id": "1d6d90b2-11d6-40aa-9fed-6eb0a68fb332",
   "metadata": {},
   "source": [
    "# Telco Churn Project - Working Notebook\n",
    "Project & Report Crated By: Rachel Robbins-Mayhill 2022-03-14"
   ]
  },
  {
   "cell_type": "markdown",
   "id": "2cdde895-5b25-4309-ad26-7e8656a82ea9",
   "metadata": {},
   "source": [
    "## PROJECT DESCRIPTION"
   ]
  },
  {
   "cell_type": "markdown",
   "id": "36d5c233-e476-44af-9eb9-ab4eb32c7b72",
   "metadata": {},
   "source": [
    "With an ever-competitive business market, it is vital to understand your customer base and what drives them to stay with your company.  This can help you maximize retention and stabilize revenue in order to plan for next steps and continue to grow as a business. It is far less expensive to keep an existing customer than it is to acquire a new one for the long term. Therefore, it is important to identify drivers causing customers to leave your business. When you know WHY customers are leaving, you can take steps to help keep customers satisfied, ultimately preventing attrition and retaining current customers for the long term. Customer retention is not only important for maintaining revenue, but it allows room to continue to plan for growth while knowing you have a steady financial foundation. This report will identify key drivers of churn for the Telco dataset and use modeling and statistics to identify ways to prevent churn in the future. Churn is another term for attrition and is represented by the percentage of customers who stop doing business with the company. Ultimately this report will provide a recommendation that could be used by Telco or other customer-based service companies to decrease churn and maximize retention."
   ]
  },
  {
   "cell_type": "markdown",
   "id": "01e83306-8055-4b80-9cc6-710cd996cf90",
   "metadata": {},
   "source": [
    "### PROJECT GOAL"
   ]
  },
  {
   "cell_type": "markdown",
   "id": "80e418e0-8e97-46b6-aba7-36ef69a85b27",
   "metadata": {},
   "source": [
    "The goal of this report is to identify key drivers of churn for Teleco, a telecommunications company, and make recommendations to reduce churn in order to increase customer retention, and ultimately increase revenue. Through machine learning and statistical analysis, predictions of future churn will be identified and recommendations for prevention will be made in order to improve customer retention."
   ]
  },
  {
   "cell_type": "markdown",
   "id": "1652ff6b-bdec-4018-98aa-a198237af884",
   "metadata": {},
   "source": [
    "### INITIAL QUESTIONS?????"
   ]
  },
  {
   "cell_type": "markdown",
   "id": "ae7f581e-b742-4bc7-9189-b9d0433576ea",
   "metadata": {},
   "source": [
    "## ACQUISITION & PREPARATION of DATA"
   ]
  },
  {
   "cell_type": "markdown",
   "id": "efefb589-e981-4128-baea-f014d01f29ee",
   "metadata": {},
   "source": [
    "To look at the data, some supporting programs are needed. The required supplemental libraries and modules are imported below."
   ]
  },
  {
   "cell_type": "code",
   "execution_count": 1,
   "id": "4b4887c9-3804-4660-9cb5-ebc28c9eb3eb",
   "metadata": {},
   "outputs": [],
   "source": [
    "# import python linraries\n",
    "import pandas as pd\n",
    "import numpy as np\n",
    "import scipy.stats as stats\n",
    "\n",
    "# import modules and created functions\n",
    "import acquire\n",
    "import prepare\n",
    "\n",
    "# import visualization tools\n",
    "import matplotlib.pyplot as plt\n",
    "import seaborn as sns\n",
    "from sklearn.tree import DecisionTreeClassifier, plot_tree\n",
    "\n",
    "# import machine-learning python library elements \n",
    "from sklearn.dummy import DummyClassifier\n",
    "from sklearn.model_selection import train_test_split\n",
    "\n",
    "from sklearn.metrics import classification_report\n",
    "from sklearn.metrics import confusion_matrix\n",
    "\n",
    "from sklearn.ensemble import RandomForestClassifier\n",
    "from sklearn.neighbors import KNeighborsClassifier\n",
    "from sklearn.linear_model import LogisticRegression\n",
    "\n",
    "# eliminate pesky warnings about future changes to libraries from popping up\n",
    "import warnings\n",
    "warnings.filterwarnings('ignore')"
   ]
  },
  {
   "cell_type": "markdown",
   "id": "12e53440-8fa0-45ef-8b5a-1ff1030fc8e6",
   "metadata": {},
   "source": [
    "#### I. Acquire the Data"
   ]
  },
  {
   "cell_type": "markdown",
   "id": "128fd163-3e22-45f8-b5ef-2a256ad30646",
   "metadata": {},
   "source": [
    "The data for this report was acquired by accessing 'telco_churn' from the Codeup SQL database. By combining all columns from four tables within the database;`customers`, `contract_types`, `internet_service_types`, and `payment_types.`"
   ]
  },
  {
   "cell_type": "code",
   "execution_count": 2,
   "id": "c6ac67f2-5849-42b5-aa10-f49a8b5afa1b",
   "metadata": {},
   "outputs": [
    {
     "name": "stdout",
     "output_type": "stream",
     "text": [
      "Reading from csv file...\n"
     ]
    }
   ],
   "source": [
    "acquire_df = acquire.get_telco_data()"
   ]
  },
  {
   "cell_type": "markdown",
   "id": "edc437f2-a4b3-48db-9428-deac77e1bb54",
   "metadata": {},
   "source": [
    "#### II. Prepare the Data"
   ]
  },
  {
   "cell_type": "markdown",
   "id": "c5686564-e953-48a5-bf4a-72a2f17a1823",
   "metadata": {},
   "source": [
    "Once acquired, a new table (Dataframe) containing all necessary data was created.  This new table was then analyzed and adjusted to eliminate data errors, clarify confusion, and code non-numeric data into more useful numeric types. "
   ]
  },
  {
   "cell_type": "markdown",
   "id": "d6913632-c0fb-4ba9-a94f-3e21c3f8998c",
   "metadata": {},
   "source": [
    "Some of the data correction strategies that were employed were:\n",
    "    \n",
    "- Addressing Missing Data\n",
    "    - Dropping 11 missing values from total charges, as it was a very small portion of our data\n",
    "    \n",
    "- Dropping Unnecessary Columns\n",
    "    - 'payment_type_id', 'internet_service_type_id', 'contract_type_id' had duplicate data, providing the same information as payment_type, internet_service_type, and contract_type \n",
    "    \n",
    "- Rename Columns\n",
    "    - Adding verbs 'is' or 'has' to column names for ease of data understanding after converting word values to numeric values\n",
    "    \n",
    "- Standardize Data Types\n",
    "    - Adjusted monetary columns to have matching data types for ease of use\n",
    "    \n",
    "- Create Numeric Data Types for Data that was in Word From\n",
    "    - The following columns needed to be transformed to numeric values: 'gender', 'partner', 'dependents', 'phone_service', 'multiple_lines', 'online_security','online_backup', 'device_protection', 'tech_support', 'streaming_tv', 'streaming_movies','paperless_billing', 'churn', 'contract_type', 'internet_service_type', 'payment_type'\n"
   ]
  },
  {
   "cell_type": "markdown",
   "id": "da1e954e-d171-4966-88a1-17d243cc2faa",
   "metadata": {},
   "source": [
    "#### Results of Preparing the Data\n",
    "The results of the acquisition and preparation phases resulted in data that was ready to explore. "
   ]
  },
  {
   "cell_type": "code",
   "execution_count": 3,
   "id": "2ec92b25-6fde-4fbc-bb67-23335e564759",
   "metadata": {},
   "outputs": [
    {
     "name": "stdout",
     "output_type": "stream",
     "text": [
      "<class 'pandas.core.frame.DataFrame'>\n",
      "Int64Index: 7032 entries, 0 to 7042\n",
      "Data columns (total 32 columns):\n",
      " #   Column                                     Non-Null Count  Dtype  \n",
      "---  ------                                     --------------  -----  \n",
      " 0   customer_id                                7032 non-null   object \n",
      " 1   is_senior                                  7032 non-null   int64  \n",
      " 2   tenure_months                              7032 non-null   int64  \n",
      " 3   monthly_charges                            7032 non-null   float64\n",
      " 4   total_charges                              7032 non-null   float64\n",
      " 5   is_male_Male                               7032 non-null   uint8  \n",
      " 6   has_partner_Yes                            7032 non-null   uint8  \n",
      " 7   has_dependents_Yes                         7032 non-null   uint8  \n",
      " 8   has_phone_service_Yes                      7032 non-null   uint8  \n",
      " 9   has_multiple_lines_No phone service        7032 non-null   uint8  \n",
      " 10  has_multiple_lines_Yes                     7032 non-null   uint8  \n",
      " 11  has_online_security_No internet service    7032 non-null   uint8  \n",
      " 12  has_online_security_Yes                    7032 non-null   uint8  \n",
      " 13  has_online_backup_No internet service      7032 non-null   uint8  \n",
      " 14  has_online_backup_Yes                      7032 non-null   uint8  \n",
      " 15  has_device_protection_No internet service  7032 non-null   uint8  \n",
      " 16  has_device_protection_Yes                  7032 non-null   uint8  \n",
      " 17  has_tech_support_No internet service       7032 non-null   uint8  \n",
      " 18  has_tech_support_Yes                       7032 non-null   uint8  \n",
      " 19  has_streaming_tv_No internet service       7032 non-null   uint8  \n",
      " 20  has_streaming_tv_Yes                       7032 non-null   uint8  \n",
      " 21  has_streaming_movies_No internet service   7032 non-null   uint8  \n",
      " 22  has_streaming_movies_Yes                   7032 non-null   uint8  \n",
      " 23  has_paperless_billing_Yes                  7032 non-null   uint8  \n",
      " 24  did_churn_Yes                              7032 non-null   uint8  \n",
      " 25  contract_type_One year                     7032 non-null   uint8  \n",
      " 26  contract_type_Two year                     7032 non-null   uint8  \n",
      " 27  internet_service_type_Fiber optic          7032 non-null   uint8  \n",
      " 28  internet_service_type_None                 7032 non-null   uint8  \n",
      " 29  payment_type_Credit card (automatic)       7032 non-null   uint8  \n",
      " 30  payment_type_Electronic check              7032 non-null   uint8  \n",
      " 31  payment_type_Mailed check                  7032 non-null   uint8  \n",
      "dtypes: float64(2), int64(2), object(1), uint8(27)\n",
      "memory usage: 515.0+ KB\n"
     ]
    }
   ],
   "source": [
    "df = prepare.clean_telco_data(acquire_df)\n",
    "df.info()"
   ]
  },
  {
   "cell_type": "markdown",
   "id": "84a3fb2d-ec59-4d31-90f5-7d986da2c1a3",
   "metadata": {},
   "source": [
    "#### Segmenting Prepared Data"
   ]
  },
  {
   "cell_type": "markdown",
   "id": "9b0f28e6-771a-47a6-a837-17b366f3e333",
   "metadata": {},
   "source": [
    "After cleaning-up the data, it is split into 3 samples;  train, validate, and test. \n",
    "- The train sample is used to explore, fit to models, and evaluate results without looking at new data.\n",
    "- The validate sample is used to verify our models built are not overfit to the train dataset.\n",
    "- The test set sample is used to give an estimate of how this model will perform on data it has never seen in the future."
   ]
  },
  {
   "cell_type": "code",
   "execution_count": 4,
   "id": "a4499e87-0f4e-46c7-a952-9a57d7c14009",
   "metadata": {},
   "outputs": [
    {
     "name": "stdout",
     "output_type": "stream",
     "text": [
      "train -> (3937, 32)\n",
      "validate -> (1688, 32)\n",
      "test -> (1407, 32)\n"
     ]
    }
   ],
   "source": [
    "df = prepare.data_split(df)"
   ]
  },
  {
   "cell_type": "markdown",
   "id": "f3600f2b-688a-4220-9f61-758d996a0210",
   "metadata": {},
   "source": [
    "## DATA EXPLORATION - Data in Context"
   ]
  },
  {
   "cell_type": "markdown",
   "id": "361fb186-492f-4ddd-82cb-29b502cc71bf",
   "metadata": {},
   "source": [
    "#### - Customer-Base\n",
    "1. What types of customers do we have?\n",
    "2. What services do we offer?\n",
    "_______\n",
    "#### - Revenue\n",
    "3. What is our total revenue?\n",
    "4. What amount of revenue is impacted by the overall churn?\n",
    "_______\n",
    "#### - Possible Driver of Churn & Revenue Impact\n",
    "5. What customer base contributes the most to churn?\n",
    "6. What amount of revenue is impacted by the customer base that churns the most?\n",
    "______\n",
    "#### - Possible Driver of Churn & Revenue Impact\n",
    "7. What service types contribute most to churn?\n",
    "8. What amount of revenue is impacted by the service type that churns the most?"
   ]
  },
  {
   "cell_type": "markdown",
   "id": "29a03632-9517-48b2-bb50-3cf9c4ae2060",
   "metadata": {},
   "source": [
    "1. What types of customers do we have?"
   ]
  },
  {
   "cell_type": "markdown",
   "id": "d2095225-5afe-4a06-b2aa-3a4e488e2c1d",
   "metadata": {},
   "source": [
    "2. What services do we offer?"
   ]
  },
  {
   "cell_type": "markdown",
   "id": "cff597bb-0eb2-4019-bf9c-bd7e7640087f",
   "metadata": {},
   "source": [
    "3. What is our total revenue?"
   ]
  },
  {
   "cell_type": "markdown",
   "id": "b97b3f23-afb7-46bc-b508-53b9b97ebdb3",
   "metadata": {},
   "source": [
    "4. What amount of revenue is impacted by the overall churn?"
   ]
  },
  {
   "cell_type": "markdown",
   "id": "35b69b19-fb40-421f-aa16-823761593cbd",
   "metadata": {},
   "source": [
    "5. What customer base contributes the most to churn?"
   ]
  },
  {
   "cell_type": "markdown",
   "id": "e375d57d-6f60-4dbf-84b7-5a0171ac6885",
   "metadata": {},
   "source": [
    "6. What amount of revenue is impacted by the customer base that churns the most?"
   ]
  },
  {
   "cell_type": "markdown",
   "id": "8d97d84c-36ca-4ec3-b01d-2b214e55074a",
   "metadata": {},
   "source": [
    "7. What service types contribute most to churn?"
   ]
  },
  {
   "cell_type": "markdown",
   "id": "8be0f4df-ded1-49c7-94b8-502343f00d19",
   "metadata": {},
   "source": [
    "8. What amount of revenue is impacted by the service type that churns the most?"
   ]
  },
  {
   "cell_type": "markdown",
   "id": "62dcda8e-6e1c-47a5-8083-62eadae6a55e",
   "metadata": {
    "tags": []
   },
   "source": [
    "#### Overall Churn"
   ]
  },
  {
   "cell_type": "code",
   "execution_count": 5,
   "id": "eaa6cae7-9e83-4048-8e19-b8c5ae06cdb8",
   "metadata": {},
   "outputs": [
    {
     "name": "stdout",
     "output_type": "stream",
     "text": [
      "No     5174\n",
      "Yes    1869\n",
      "Name: churn, dtype: int64\n"
     ]
    },
    {
     "data": {
      "image/png": "[encoded data removed]",
      "text/plain": [
       "<Figure size 432x288 with 1 Axes>"
      ]
     },
     "metadata": {
      "needs_background": "light"
     },
     "output_type": "display_data"
    }
   ],
   "source": [
    "print(acquire_df.churn.value_counts())\n",
    "acquire_df.churn.value_counts().plot.bar()\n",
    "plt.title('Overall Churn')\n",
    "plt.xlabel('Churn')\n",
    "plt.ylabel('# Of Customers')\n",
    "plt.tight_layout()\n",
    "plt.show()"
   ]
  },
  {
   "cell_type": "code",
   "execution_count": 9,
   "id": "19d3cab8-fd04-4575-ad16-663998389f76",
   "metadata": {},
   "outputs": [
    {
     "ename": "AttributeError",
     "evalue": "'tuple' object has no attribute 'churn'",
     "output_type": "error",
     "traceback": [
      "\u001b[0;31m---------------------------------------------------------------------------\u001b[0m",
      "\u001b[0;31mAttributeError\u001b[0m                            Traceback (most recent call last)",
      "\u001b[0;32m/var/folders/jx/x5_xzwy107g6d0zd021r2ph40000gn/T/ipykernel_77820/2311632696.py\u001b[0m in \u001b[0;36m<module>\u001b[0;34m\u001b[0m\n\u001b[1;32m     21\u001b[0m \u001b[0;31m# Creating plot\u001b[0m\u001b[0;34m\u001b[0m\u001b[0;34m\u001b[0m\u001b[0m\n\u001b[1;32m     22\u001b[0m \u001b[0mfig\u001b[0m\u001b[0;34m,\u001b[0m \u001b[0max\u001b[0m \u001b[0;34m=\u001b[0m \u001b[0mplt\u001b[0m\u001b[0;34m.\u001b[0m\u001b[0msubplots\u001b[0m\u001b[0;34m(\u001b[0m\u001b[0mfigsize\u001b[0m \u001b[0;34m=\u001b[0m\u001b[0;34m(\u001b[0m\u001b[0;36m10\u001b[0m\u001b[0;34m,\u001b[0m \u001b[0;36m7\u001b[0m\u001b[0;34m)\u001b[0m\u001b[0;34m)\u001b[0m\u001b[0;34m\u001b[0m\u001b[0;34m\u001b[0m\u001b[0m\n\u001b[0;32m---> 23\u001b[0;31m wedges, texts, autotexts = ax.pie(df.churn.value_counts(),\n\u001b[0m\u001b[1;32m     24\u001b[0m                                   \u001b[0mautopct\u001b[0m \u001b[0;34m=\u001b[0m \u001b[0;32mlambda\u001b[0m \u001b[0mpct\u001b[0m\u001b[0;34m:\u001b[0m \u001b[0mfunc\u001b[0m\u001b[0;34m(\u001b[0m\u001b[0mpct\u001b[0m\u001b[0;34m,\u001b[0m \u001b[0mdata\u001b[0m\u001b[0;34m)\u001b[0m\u001b[0;34m,\u001b[0m\u001b[0;34m\u001b[0m\u001b[0;34m\u001b[0m\u001b[0m\n\u001b[1;32m     25\u001b[0m                                   \u001b[0mexplode\u001b[0m \u001b[0;34m=\u001b[0m \u001b[0mexplode\u001b[0m\u001b[0;34m,\u001b[0m\u001b[0;34m\u001b[0m\u001b[0;34m\u001b[0m\u001b[0m\n",
      "\u001b[0;31mAttributeError\u001b[0m: 'tuple' object has no attribute 'churn'"
     ]
    },
    {
     "data": {
      "image/png": "[encoded data removed]",
      "text/plain": [
       "<Figure size 720x504 with 1 Axes>"
      ]
     },
     "metadata": {
      "needs_background": "light"
     },
     "output_type": "display_data"
    }
   ],
   "source": [
    "# Creating dataset\n",
    "cars = ['YES', 'NO']\n",
    " \n",
    "\n",
    " \n",
    " \n",
    "# Creating explode data\n",
    "explode = (0.1, 0.0)\n",
    " \n",
    "# Creating color parameters\n",
    "colors = ( \"cyan\", \"grey\")\n",
    " \n",
    "# Wedge properties\n",
    "wp = { 'linewidth' : 1, 'edgecolor' : \"green\" }\n",
    " \n",
    "# Creating autocpt arguments\n",
    "def func(pct, allvalues):\n",
    "    absolute = int(pct / 100.*np.sum(allvalues))\n",
    "    return \"{:.1f}%\\n({:d} g)\".format(pct, absolute)\n",
    " \n",
    "# Creating plot\n",
    "fig, ax = plt.subplots(figsize =(10, 7))\n",
    "wedges, texts, autotexts = ax.pie(df.churn.value_counts(),\n",
    "                                  autopct = lambda pct: func(pct, data),\n",
    "                                  explode = explode,\n",
    "                                  labels = cars,\n",
    "                                  shadow = True,\n",
    "                                  colors = colors,\n",
    "                                  startangle = 90,\n",
    "                                  wedgeprops = wp,\n",
    "                                  textprops = dict(color =\"magenta\"))\n",
    " \n",
    "# Adding legend\n",
    "ax.legend(wedges, cars,\n",
    "          title =\"Overall Churn\",\n",
    "          loc =\"center left\",\n",
    "          bbox_to_anchor =(1, 0, 0.5, 1))\n",
    " \n",
    "plt.setp(autotexts, size = 8, weight =\"bold\")\n",
    "ax.set_title(\"Customizing pie chart\")\n",
    " \n",
    "# show plot\n",
    "plt.show()"
   ]
  },
  {
   "cell_type": "markdown",
   "id": "9c43a3fd-e703-415a-a241-a23318fce34f",
   "metadata": {},
   "source": [
    "## ULTIMATE HYPOTHESIS\n",
    "#### Fiber optic internet subscribers are more likely to churn."
   ]
  },
  {
   "cell_type": "code",
   "execution_count": null,
   "id": "18801afa-0f23-41b3-bb29-3c964de7a6df",
   "metadata": {},
   "outputs": [],
   "source": []
  },
  {
   "cell_type": "code",
   "execution_count": null,
   "id": "4b0ad42b-00e6-48ae-9c47-6532511a0f85",
   "metadata": {},
   "outputs": [],
   "source": []
  },
  {
   "cell_type": "code",
   "execution_count": null,
   "id": "e7b94365-5261-4878-bb68-f5de4a805dca",
   "metadata": {},
   "outputs": [],
   "source": []
  },
  {
   "cell_type": "code",
   "execution_count": null,
   "id": "bdc18265-9287-4672-94be-6dbf0dcef8ea",
   "metadata": {},
   "outputs": [],
   "source": []
  },
  {
   "cell_type": "code",
   "execution_count": null,
   "id": "dcde736f-1322-4273-b446-913ba4e6d6ea",
   "metadata": {},
   "outputs": [],
   "source": []
  },
  {
   "cell_type": "code",
   "execution_count": null,
   "id": "43777c6e-7e72-4eeb-9862-f6502d5a14e2",
   "metadata": {},
   "outputs": [],
   "source": []
  },
  {
   "cell_type": "markdown",
   "id": "d6742816-1091-47cf-9b39-326260e99ae2",
   "metadata": {},
   "source": [
    "Exploration should be refined in the report because now you know which visualizations and tests led to valuable outcomes.\n",
    "\n",
    "Include at least 4 visualizations in the form of:\n",
    "\n",
    "Question in markdown that you want to answer\n",
    "\n",
    "visualization\n",
    "\n",
    "statistical test (in at least 2 of your 4)\n",
    "\n",
    "Provide your clear answer or takeaway in markdown and natural language to the question based on your exploration.\n",
    "Provide the context of the target variable through a visualization (distribution of the values, e.g.)"
   ]
  },
  {
   "cell_type": "markdown",
   "id": "313ef4fd-65e9-4490-8fe4-7b4dcc6f2780",
   "metadata": {},
   "source": [
    "x% of passengers survived. We have data from 712 passengers, x of which are males, x of which traveled in 1st class, and the average fare of all passengers was $x.yy."
   ]
  },
  {
   "cell_type": "code",
   "execution_count": null,
   "id": "8408ab11-241e-41c1-a552-bdd910cf6550",
   "metadata": {},
   "outputs": [],
   "source": [
    "# build a viz here setting the context of the data "
   ]
  },
  {
   "cell_type": "markdown",
   "id": "bdf1646d-b838-4a50-8d71-ed3cfb60ea63",
   "metadata": {},
   "source": [
    "### Exploratory Analysis: Who is more likely to churn?\n",
    "I have answered these questions\n",
    "\n",
    "1.\n",
    "2.\n",
    "3."
   ]
  },
  {
   "cell_type": "markdown",
   "id": "b7a2bde3-f7f7-4c72-a0fc-efc31c86ff6f",
   "metadata": {},
   "source": [
    "#### Question 1\n",
    "\n",
    "Was the phrase \"women and children first\" just a myth or did they really try to get out women and children first?\n",
    "\n",
    "are women more likely to survive? plot barplot x-axis is sex and y-axis is survival rate\n",
    "are children more likely to survive? bin age into 0-16, 17+, plot barplot on x-axis where y is survival rate (new variable = is_child)\n",
    "run chi-square test sex + survival\n",
    "run a chi-square test is_child + survival\n",
    "run a t-test on age and survived"
   ]
  },
  {
   "cell_type": "markdown",
   "id": "dc8dba0d-d5fc-426c-b4c5-fc000c52470a",
   "metadata": {},
   "source": [
    "#### Answer 1\n",
    "Women are more likely to survive."
   ]
  },
  {
   "cell_type": "markdown",
   "id": "593a332b-cef8-4905-83d5-19a17f10c3a9",
   "metadata": {},
   "source": [
    "#### Question 2"
   ]
  },
  {
   "cell_type": "markdown",
   "id": "6744fbd6-50a5-49ed-a961-e193fec28b2f",
   "metadata": {},
   "source": [
    "#### Answer 2"
   ]
  },
  {
   "cell_type": "markdown",
   "id": "df913a13-5edb-46cd-98df-18fe87acc570",
   "metadata": {
    "tags": []
   },
   "source": [
    "#### Summary - Who is more likely to churn?\n"
   ]
  },
  {
   "cell_type": "markdown",
   "id": "f142c5b9-d0f8-4f33-bef0-7461ad622162",
   "metadata": {},
   "source": [
    "## Predicting Churn\n",
    "Because survival is a boolean/yes or no value, we will use classification machine learning algorithms to fit to our training data and we will evaluate on validate. We will pick the best model using accuracy because the data is mostly balanced, and the risk of an event happening balances the risk of getting a prediction wrong."
   ]
  },
  {
   "cell_type": "markdown",
   "id": "9259cf02-6bf6-4975-92e5-ebd88efb3062",
   "metadata": {},
   "source": [
    "### Baseline\n",
    "I will set a baseline prediction by predicting all passengers to not survive (survived == 0). I will evaluate the accuracy of that."
   ]
  },
  {
   "cell_type": "code",
   "execution_count": null,
   "id": "13199f31-061b-473b-afe4-bd861100b414",
   "metadata": {},
   "outputs": [],
   "source": [
    "# baseline"
   ]
  },
  {
   "cell_type": "markdown",
   "id": "b45f3805-c01e-457e-9468-bae68a9b334e",
   "metadata": {},
   "source": [
    "### Fit 3 Models\n",
    "\n",
    "Include your 3 best models in the final notebook to review. Show the steps and code you went through to fit the models, evaluate, and select.\n",
    "\n",
    "On your best model, a chart visualizing how it performed on test would be valuable.\n",
    "\n",
    "The top 3 models we built were a decision tree, random forest, and knn. The models differed in (the features, the algorithms) The random forest performed the best at x% accuracy as you will see."
   ]
  },
  {
   "cell_type": "raw",
   "id": "ac460b8e-6fda-4447-9bd3-3c53d6856611",
   "metadata": {},
   "source": [
    "# fit on train\n",
    "# predict on train\n",
    "# evaluate on train"
   ]
  },
  {
   "cell_type": "code",
   "execution_count": null,
   "id": "84e6efa0-a661-4a9a-9749-3e6f569fd07d",
   "metadata": {},
   "outputs": [],
   "source": [
    "# predict on validate\n",
    "# evaluate on validate"
   ]
  },
  {
   "cell_type": "markdown",
   "id": "54648f84-7cfb-4710-9352-f3d1b49836df",
   "metadata": {},
   "source": [
    "None of these model appear to be overfit. X model performed the best on the validate sample, therefore, I moved forward with that model."
   ]
  },
  {
   "cell_type": "code",
   "execution_count": null,
   "id": "1ddb0fcb-e91e-4b6b-abb6-e42578ce4665",
   "metadata": {},
   "outputs": [],
   "source": [
    "# predict on test\n",
    "# evaluate on test"
   ]
  },
  {
   "cell_type": "markdown",
   "id": "f5490e8d-44bc-483b-9f1b-7be70e1568b5",
   "metadata": {},
   "source": [
    "I expect this model to perform with x% accuracy in the future on data it has not seen, given no major changes in our data source."
   ]
  },
  {
   "cell_type": "markdown",
   "id": "b889bb7c-18c6-4d98-85fd-e3bf29d266d9",
   "metadata": {},
   "source": [
    "## Conclusion\n",
    "\n",
    "Your notebook should begin with a project overview and goals and end with a conclusion that talks about your original goals and how you reached those (or didn't), the key findings, recommendations and next steps (\"If I had more time, I would...\")"
   ]
  },
  {
   "cell_type": "markdown",
   "id": "1f25db60-a8c3-43cb-aaf1-8dadd664af08",
   "metadata": {},
   "source": [
    "### Summary"
   ]
  },
  {
   "cell_type": "markdown",
   "id": "fa187a7a-2207-473d-a58a-048abf609e35",
   "metadata": {},
   "source": [
    "### Recommendations"
   ]
  },
  {
   "cell_type": "markdown",
   "id": "432214e2-b839-4aa3-a9d8-7ec6ad6447b0",
   "metadata": {},
   "source": [
    "### NEXT STEPS"
   ]
  },
  {
   "cell_type": "markdown",
   "id": "5af730e8-f3fb-4ebc-8f48-94b0d2a066da",
   "metadata": {},
   "source": [
    "\n",
    "\n",
    "\n",
    "\n",
    "\n",
    "\n",
    "\n"
   ]
  },
  {
   "cell_type": "code",
   "execution_count": null,
   "id": "358fbd81-8421-4fff-a6da-a0c39e33ae64",
   "metadata": {},
   "outputs": [],
   "source": []
  },
  {
   "cell_type": "markdown",
   "id": "68958e21-0c0e-4481-b9e6-591282197a5f",
   "metadata": {},
   "source": [
    "Exploring through visualizations (report.ipynb)\n",
    "At least 5 visualations are included in your final report.\n",
    "\n",
    "The ones included answer a question (remember, NO is an answer) or provide necessary context (such as the distribution of the target variable). All statistical tests included in the final report should be supported with an visualization of the interaction of the variables being tested. Charts in the final report should have titles and labels that are descriptive and useful for the end user/audience/consumer of the report.\n",
    "\n",
    "All visualizations in the final report are mentioned or discussed if a verbal presentation is given.\n",
    "\n",
    "For example:\n",
    "\n",
    "Was the phrase \"women and children first\" just a myth or did they really try to get out women and children first? If so, they would show as more likely to survive.\n",
    "are women more likely to survive? plot barplot x-axis is sex and y-axis is survival rate\n",
    "are children more likely to survive? bin age into 0-16, 17+, plot barplot on x-axis where y is survival rate (new variable = is_child)\n",
    "run chi-square test sex + survival\n",
    "run a chi-square test is_child + survival\n",
    "run a t-test on age and survived\n",
    "Do those who travel first class get quicker access to life boats?\n",
    "Do families with small children get priority access? Even if they at the bottom of the boat in 3rd class?\n",
    "\n",
    "Did traveling alone make a difference? Did it depend on sex? What was the survival rate for women traveling alone vs. men traveling along?\n",
    "\n",
    "If families were more likely to be saved, is there a max family size where that benefit is lost?\n",
    "\n",
    "Contextual questions: Did most people die or survive? How many men/women were on the boat? How many across different classes?\n",
    "\n",
    "plot 3 subplots of proportions - pie/donut - survived, sex, class.\n",
    "Statistical tests (report.ipynb)\n",
    "At least 2 statistical tests are included in your final report.\n",
    "\n",
    "The correct tests are run, given the data type and distribution, and the correct conclusions are drawn. For example (other tests may be used):\n",
    "\n",
    "correlation: 2 continuous variables, normally distributed, testing for LINEAR correlation only (H_0: Not linearly dependent)\n",
    "\n",
    "independent t-test: 1 continuous, somewhat normally distributed variable, one boolean variable, equal variance, independent (H_0: population mean of each group is equal)\n",
    "\n",
    "chi-square test: 2 discrete variables. (H_0: the 2 variables are independent of each other).\n",
    "\n",
    "Summary (report.ipynb)\n",
    "Following your exploration section, you summarize your analysis (in a markdown cell using natural language): what you found and how you will use it moving forward.\n",
    "\n",
    "This includes key takeaways from all the questions answered in explore, a list of which features will be used in modeling and why, and which features will not move forward and why. You may only call out a few of these features in the presentation, but having that there for reference is important in a report. A group of features may have the same reason why, and those can be mentioned together."
   ]
  },
  {
   "cell_type": "markdown",
   "id": "5706fbcc-6823-457d-8ea4-f806d07741d1",
   "metadata": {},
   "source": [
    "Modeling\n",
    "Select Evaluation Metric (Report.ipynb)\n",
    "Clear communication as to how you evaluated and compared models.\n",
    "\n",
    "What metric(s) did you use and why? For example, in one case, you may decide to use precision over accuracy. If so, why? If you use multiple metrics, how will you decide which to select if metric is better for model A but another is better for model B? Will you rank them? Find a way to aggregate them into a single metric you can use to rank?\n",
    "\n",
    "Evaluate Baseline (Report.ipynb)\n",
    "Having a baseline tells you whether a model you build using the features you selected is any better than predicting by using only the target variable. One way a baseline is created in classification is by making predictions purely based on the most common outcome class, like predicting that all titanic passengers will die, becuase the majroity did die. By doing that, you end up with the highest accuracy without using extra information from features. The baseline is based on the training dataset. For a continuous target variable, the baseline could be predicting that all salaries will be the median salary of our labeled train data. The predictions should be made on the training data using this information (like the predicted value, y_hat, for all passengers \"survived\" == 0) and then performance evaluated to measure your models against. If any model you build does not perform as well as a baseline that uses no features, then your features are not significant drivers of the outcome.\n",
    "Develop 3 Models (Report.ipynb)\n",
    "The 3 models can differ based on the features used, the hyperparameters selected, and/or the algorithm used to fit the data.\n",
    "Evaluate on Train (Report.ipynb)\n",
    "All models should be evaluated on train: the training sample is our largest sample, and it is a sample of data we have to both fit the model AND see how the model performs. We should never skip straight to validate. We would be missing out on valuable observations.\n",
    "Evaluate on Validate (Report.ipynb)\n",
    "*The top models should be evaluated with the validation sample dataset. It is important to use the validate sample for checking for any overfitting that may have occurred when fitting the model on train. If you are creating 10's of models, it is also important to only validate a handful of your top models with the Validate dataset. Otherwise, your data will have seen validate as much as train and you could accidentally introduce some implicit bias based on data and results you see while validating on so many models. *\n",
    "Evaluate Top Model on Test (Report.ipynb)\n",
    "Your top performing model, and only your top performing model should be evaluated on your test dataset. The purpose of having a test dataset to evaluate only the final model on is to have an estimate of how the model will perform in the future on data it has never seen.\n",
    "Report (Final Notebook)\n",
    "code commenting (Report.ipynb)\n",
    "Your code contains code comments that are helpful to the reader in understanding what each blocks/lines of code are doing.\n",
    "markdown (Report.ipynb)\n",
    "Notebook contains adequate markdown that documents your thought process, decision making, and navigation through the pipeline. This should be present throughout the notebook consistently, wtih not just headers, but plenty of content that guides the reader and leaves no questions or doubt as to why you did something, e.g.\n",
    "Written Conclusion Summary (Report.ipynb)\n",
    "Your conclusion summary should addresses the questions you raised in the opening of the project, which we would want to see at the end of every final notebook. Ideally, when the deliverable is a report, the summary should tie together your analysis, the drivers of the outcome, and how you would expect your ML model to perform in the future on unseen data, in layman's terms.\n",
    "conclusion recommendations (Report.ipynb)\n",
    "Your notebook should ends with a conclusion that contains actionable recommendations based on your insights and analysis to the business stakeholder(s), your simulated audience, or someone who would find this information valuable (if there is no stakeholder). Your recommendations should not be not about what to do differently with the data, but instead should be based on the business or domain you are studying.\n",
    "conclusion next steps (Report.ipynb)\n",
    "Your conclusion should include next steps from a data science perspective that will assist in improving your research. Ideally, if you talk about trying more algorithms to improve performance, think about why you need to improve performance. And if the business calls for it, remember the best way to improve performance is to have better predictors/features. If you talk about gathering more data, being specific about what data you think will help you understand the problem better and why is the way to go!\n",
    "no errors (Report.ipynb)\n",
    "Your final notebook should run without error. One error in a notebook can lead to the rest of it erroring out. If you have a reader who doesn't know python, they will then not be able to consume your report."
   ]
  },
  {
   "cell_type": "markdown",
   "id": "b5651cac-2517-40b7-9ea6-45bc9f1d5209",
   "metadata": {},
   "source": [
    "Final Report (.ipynb) (see details above in the \"Jupyter Notebook Report\"\n",
    "\n",
    "A Report that has filtered out all the extraneous elements not necessary to include in the report.\n",
    "\n",
    "Use markdown throughout the notebook to guide the audience. Assume the reader will not read your code blocks as you think about how much markdown guidance do you need.\n",
    "\n",
    "Then, assume another reader will read ALL of your code, so make sure it is very very clearly commented. All cells with code need comments."
   ]
  }
 ],
 "metadata": {
  "kernelspec": {
   "display_name": "Python 3 (ipykernel)",
   "language": "python",
   "name": "python3"
  },
  "language_info": {
   "codemirror_mode": {
    "name": "ipython",
    "version": 3
   },
   "file_extension": ".py",
   "mimetype": "text/x-python",
   "name": "python",
   "nbconvert_exporter": "python",
   "pygments_lexer": "ipython3",
   "version": "3.9.7"
  }
 },
 "nbformat": 4,
 "nbformat_minor": 5
}
